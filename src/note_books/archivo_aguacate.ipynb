{
 "cells": [
  {
   "cell_type": "code",
   "execution_count": 490,
   "metadata": {},
   "outputs": [],
   "source": [
    "import pandas as pd\n",
    "import os"
   ]
  },
  {
   "cell_type": "code",
   "execution_count": 492,
   "metadata": {},
   "outputs": [],
   "source": [
    "\n",
    "df = pd.read_csv('avocado.csv')"
   ]
  },
  {
   "cell_type": "code",
   "execution_count": 212,
   "metadata": {},
   "outputs": [
    {
     "data": {
      "text/html": [
       "<div>\n",
       "<style scoped>\n",
       "    .dataframe tbody tr th:only-of-type {\n",
       "        vertical-align: middle;\n",
       "    }\n",
       "\n",
       "    .dataframe tbody tr th {\n",
       "        vertical-align: top;\n",
       "    }\n",
       "\n",
       "    .dataframe thead th {\n",
       "        text-align: right;\n",
       "    }\n",
       "</style>\n",
       "<table border=\"1\" class=\"dataframe\">\n",
       "  <thead>\n",
       "    <tr style=\"text-align: right;\">\n",
       "      <th></th>\n",
       "      <th>Unnamed: 0</th>\n",
       "      <th>Date</th>\n",
       "      <th>AveragePrice</th>\n",
       "      <th>Total Volume</th>\n",
       "      <th>4046</th>\n",
       "      <th>4225</th>\n",
       "      <th>4770</th>\n",
       "      <th>Total Bags</th>\n",
       "      <th>Small Bags</th>\n",
       "      <th>Large Bags</th>\n",
       "      <th>XLarge Bags</th>\n",
       "      <th>type</th>\n",
       "      <th>year</th>\n",
       "      <th>region</th>\n",
       "    </tr>\n",
       "  </thead>\n",
       "  <tbody>\n",
       "    <tr>\n",
       "      <th>0</th>\n",
       "      <td>0</td>\n",
       "      <td>2015-12-27</td>\n",
       "      <td>1.33</td>\n",
       "      <td>64236.62</td>\n",
       "      <td>1036.74</td>\n",
       "      <td>54454.85</td>\n",
       "      <td>48.16</td>\n",
       "      <td>8696.87</td>\n",
       "      <td>8603.62</td>\n",
       "      <td>93.25</td>\n",
       "      <td>0.0</td>\n",
       "      <td>conventional</td>\n",
       "      <td>2015</td>\n",
       "      <td>Albany</td>\n",
       "    </tr>\n",
       "    <tr>\n",
       "      <th>1</th>\n",
       "      <td>1</td>\n",
       "      <td>2015-12-20</td>\n",
       "      <td>1.35</td>\n",
       "      <td>54876.98</td>\n",
       "      <td>674.28</td>\n",
       "      <td>44638.81</td>\n",
       "      <td>58.33</td>\n",
       "      <td>9505.56</td>\n",
       "      <td>9408.07</td>\n",
       "      <td>97.49</td>\n",
       "      <td>0.0</td>\n",
       "      <td>conventional</td>\n",
       "      <td>2015</td>\n",
       "      <td>Albany</td>\n",
       "    </tr>\n",
       "    <tr>\n",
       "      <th>2</th>\n",
       "      <td>2</td>\n",
       "      <td>2015-12-13</td>\n",
       "      <td>0.93</td>\n",
       "      <td>118220.22</td>\n",
       "      <td>794.70</td>\n",
       "      <td>109149.67</td>\n",
       "      <td>130.50</td>\n",
       "      <td>8145.35</td>\n",
       "      <td>8042.21</td>\n",
       "      <td>103.14</td>\n",
       "      <td>0.0</td>\n",
       "      <td>conventional</td>\n",
       "      <td>2015</td>\n",
       "      <td>Albany</td>\n",
       "    </tr>\n",
       "    <tr>\n",
       "      <th>3</th>\n",
       "      <td>3</td>\n",
       "      <td>2015-12-06</td>\n",
       "      <td>1.08</td>\n",
       "      <td>78992.15</td>\n",
       "      <td>1132.00</td>\n",
       "      <td>71976.41</td>\n",
       "      <td>72.58</td>\n",
       "      <td>5811.16</td>\n",
       "      <td>5677.40</td>\n",
       "      <td>133.76</td>\n",
       "      <td>0.0</td>\n",
       "      <td>conventional</td>\n",
       "      <td>2015</td>\n",
       "      <td>Albany</td>\n",
       "    </tr>\n",
       "    <tr>\n",
       "      <th>4</th>\n",
       "      <td>4</td>\n",
       "      <td>2015-11-29</td>\n",
       "      <td>1.28</td>\n",
       "      <td>51039.60</td>\n",
       "      <td>941.48</td>\n",
       "      <td>43838.39</td>\n",
       "      <td>75.78</td>\n",
       "      <td>6183.95</td>\n",
       "      <td>5986.26</td>\n",
       "      <td>197.69</td>\n",
       "      <td>0.0</td>\n",
       "      <td>conventional</td>\n",
       "      <td>2015</td>\n",
       "      <td>Albany</td>\n",
       "    </tr>\n",
       "    <tr>\n",
       "      <th>...</th>\n",
       "      <td>...</td>\n",
       "      <td>...</td>\n",
       "      <td>...</td>\n",
       "      <td>...</td>\n",
       "      <td>...</td>\n",
       "      <td>...</td>\n",
       "      <td>...</td>\n",
       "      <td>...</td>\n",
       "      <td>...</td>\n",
       "      <td>...</td>\n",
       "      <td>...</td>\n",
       "      <td>...</td>\n",
       "      <td>...</td>\n",
       "      <td>...</td>\n",
       "    </tr>\n",
       "    <tr>\n",
       "      <th>18244</th>\n",
       "      <td>7</td>\n",
       "      <td>2018-02-04</td>\n",
       "      <td>1.63</td>\n",
       "      <td>17074.83</td>\n",
       "      <td>2046.96</td>\n",
       "      <td>1529.20</td>\n",
       "      <td>0.00</td>\n",
       "      <td>13498.67</td>\n",
       "      <td>13066.82</td>\n",
       "      <td>431.85</td>\n",
       "      <td>0.0</td>\n",
       "      <td>organic</td>\n",
       "      <td>2018</td>\n",
       "      <td>WestTexNewMexico</td>\n",
       "    </tr>\n",
       "    <tr>\n",
       "      <th>18245</th>\n",
       "      <td>8</td>\n",
       "      <td>2018-01-28</td>\n",
       "      <td>1.71</td>\n",
       "      <td>13888.04</td>\n",
       "      <td>1191.70</td>\n",
       "      <td>3431.50</td>\n",
       "      <td>0.00</td>\n",
       "      <td>9264.84</td>\n",
       "      <td>8940.04</td>\n",
       "      <td>324.80</td>\n",
       "      <td>0.0</td>\n",
       "      <td>organic</td>\n",
       "      <td>2018</td>\n",
       "      <td>WestTexNewMexico</td>\n",
       "    </tr>\n",
       "    <tr>\n",
       "      <th>18246</th>\n",
       "      <td>9</td>\n",
       "      <td>2018-01-21</td>\n",
       "      <td>1.87</td>\n",
       "      <td>13766.76</td>\n",
       "      <td>1191.92</td>\n",
       "      <td>2452.79</td>\n",
       "      <td>727.94</td>\n",
       "      <td>9394.11</td>\n",
       "      <td>9351.80</td>\n",
       "      <td>42.31</td>\n",
       "      <td>0.0</td>\n",
       "      <td>organic</td>\n",
       "      <td>2018</td>\n",
       "      <td>WestTexNewMexico</td>\n",
       "    </tr>\n",
       "    <tr>\n",
       "      <th>18247</th>\n",
       "      <td>10</td>\n",
       "      <td>2018-01-14</td>\n",
       "      <td>1.93</td>\n",
       "      <td>16205.22</td>\n",
       "      <td>1527.63</td>\n",
       "      <td>2981.04</td>\n",
       "      <td>727.01</td>\n",
       "      <td>10969.54</td>\n",
       "      <td>10919.54</td>\n",
       "      <td>50.00</td>\n",
       "      <td>0.0</td>\n",
       "      <td>organic</td>\n",
       "      <td>2018</td>\n",
       "      <td>WestTexNewMexico</td>\n",
       "    </tr>\n",
       "    <tr>\n",
       "      <th>18248</th>\n",
       "      <td>11</td>\n",
       "      <td>2018-01-07</td>\n",
       "      <td>1.62</td>\n",
       "      <td>17489.58</td>\n",
       "      <td>2894.77</td>\n",
       "      <td>2356.13</td>\n",
       "      <td>224.53</td>\n",
       "      <td>12014.15</td>\n",
       "      <td>11988.14</td>\n",
       "      <td>26.01</td>\n",
       "      <td>0.0</td>\n",
       "      <td>organic</td>\n",
       "      <td>2018</td>\n",
       "      <td>WestTexNewMexico</td>\n",
       "    </tr>\n",
       "  </tbody>\n",
       "</table>\n",
       "<p>18249 rows × 14 columns</p>\n",
       "</div>"
      ],
      "text/plain": [
       "       Unnamed: 0        Date  AveragePrice  Total Volume     4046       4225  \\\n",
       "0               0  2015-12-27          1.33      64236.62  1036.74   54454.85   \n",
       "1               1  2015-12-20          1.35      54876.98   674.28   44638.81   \n",
       "2               2  2015-12-13          0.93     118220.22   794.70  109149.67   \n",
       "3               3  2015-12-06          1.08      78992.15  1132.00   71976.41   \n",
       "4               4  2015-11-29          1.28      51039.60   941.48   43838.39   \n",
       "...           ...         ...           ...           ...      ...        ...   \n",
       "18244           7  2018-02-04          1.63      17074.83  2046.96    1529.20   \n",
       "18245           8  2018-01-28          1.71      13888.04  1191.70    3431.50   \n",
       "18246           9  2018-01-21          1.87      13766.76  1191.92    2452.79   \n",
       "18247          10  2018-01-14          1.93      16205.22  1527.63    2981.04   \n",
       "18248          11  2018-01-07          1.62      17489.58  2894.77    2356.13   \n",
       "\n",
       "         4770  Total Bags  Small Bags  Large Bags  XLarge Bags          type  \\\n",
       "0       48.16     8696.87     8603.62       93.25          0.0  conventional   \n",
       "1       58.33     9505.56     9408.07       97.49          0.0  conventional   \n",
       "2      130.50     8145.35     8042.21      103.14          0.0  conventional   \n",
       "3       72.58     5811.16     5677.40      133.76          0.0  conventional   \n",
       "4       75.78     6183.95     5986.26      197.69          0.0  conventional   \n",
       "...       ...         ...         ...         ...          ...           ...   \n",
       "18244    0.00    13498.67    13066.82      431.85          0.0       organic   \n",
       "18245    0.00     9264.84     8940.04      324.80          0.0       organic   \n",
       "18246  727.94     9394.11     9351.80       42.31          0.0       organic   \n",
       "18247  727.01    10969.54    10919.54       50.00          0.0       organic   \n",
       "18248  224.53    12014.15    11988.14       26.01          0.0       organic   \n",
       "\n",
       "       year            region  \n",
       "0      2015            Albany  \n",
       "1      2015            Albany  \n",
       "2      2015            Albany  \n",
       "3      2015            Albany  \n",
       "4      2015            Albany  \n",
       "...     ...               ...  \n",
       "18244  2018  WestTexNewMexico  \n",
       "18245  2018  WestTexNewMexico  \n",
       "18246  2018  WestTexNewMexico  \n",
       "18247  2018  WestTexNewMexico  \n",
       "18248  2018  WestTexNewMexico  \n",
       "\n",
       "[18249 rows x 14 columns]"
      ]
     },
     "execution_count": 212,
     "metadata": {},
     "output_type": "execute_result"
    }
   ],
   "source": [
    "df"
   ]
  },
  {
   "cell_type": "code",
   "execution_count": 213,
   "metadata": {},
   "outputs": [
    {
     "data": {
      "text/plain": [
       "Index(['Unnamed: 0', 'Date', 'AveragePrice', 'Total Volume', '4046', '4225',\n",
       "       '4770', 'Total Bags', 'Small Bags', 'Large Bags', 'XLarge Bags', 'type',\n",
       "       'year', 'region'],\n",
       "      dtype='object')"
      ]
     },
     "execution_count": 213,
     "metadata": {},
     "output_type": "execute_result"
    }
   ],
   "source": [
    "df.columns"
   ]
  },
  {
   "cell_type": "code",
   "execution_count": 214,
   "metadata": {},
   "outputs": [],
   "source": [
    "df = df.drop('Unnamed: 0', axis=1)"
   ]
  },
  {
   "cell_type": "code",
   "execution_count": 215,
   "metadata": {},
   "outputs": [
    {
     "name": "stdout",
     "output_type": "stream",
     "text": [
      "<class 'pandas.core.frame.DataFrame'>\n",
      "RangeIndex: 18249 entries, 0 to 18248\n",
      "Data columns (total 13 columns):\n",
      " #   Column        Non-Null Count  Dtype  \n",
      "---  ------        --------------  -----  \n",
      " 0   Date          18249 non-null  object \n",
      " 1   AveragePrice  18249 non-null  float64\n",
      " 2   Total Volume  18249 non-null  float64\n",
      " 3   4046          18249 non-null  float64\n",
      " 4   4225          18249 non-null  float64\n",
      " 5   4770          18249 non-null  float64\n",
      " 6   Total Bags    18249 non-null  float64\n",
      " 7   Small Bags    18249 non-null  float64\n",
      " 8   Large Bags    18249 non-null  float64\n",
      " 9   XLarge Bags   18249 non-null  float64\n",
      " 10  type          18249 non-null  object \n",
      " 11  year          18249 non-null  int64  \n",
      " 12  region        18249 non-null  object \n",
      "dtypes: float64(9), int64(1), object(3)\n",
      "memory usage: 1.8+ MB\n"
     ]
    }
   ],
   "source": [
    "df.info()"
   ]
  },
  {
   "cell_type": "code",
   "execution_count": 216,
   "metadata": {},
   "outputs": [],
   "source": [
    "df['Month'] = pd.DatetimeIndex(df['Date']).month"
   ]
  },
  {
   "cell_type": "code",
   "execution_count": 217,
   "metadata": {},
   "outputs": [],
   "source": [
    "df['Day'] = pd.DatetimeIndex(df['Date']).day"
   ]
  },
  {
   "cell_type": "code",
   "execution_count": 218,
   "metadata": {},
   "outputs": [
    {
     "data": {
      "text/plain": [
       "0        27\n",
       "1        20\n",
       "2        13\n",
       "3         6\n",
       "4        29\n",
       "         ..\n",
       "18244     4\n",
       "18245    28\n",
       "18246    21\n",
       "18247    14\n",
       "18248     7\n",
       "Name: Day, Length: 18249, dtype: int64"
      ]
     },
     "execution_count": 218,
     "metadata": {},
     "output_type": "execute_result"
    }
   ],
   "source": [
    "df['Day']"
   ]
  },
  {
   "cell_type": "code",
   "execution_count": 219,
   "metadata": {},
   "outputs": [
    {
     "data": {
      "text/plain": [
       "<AxesSubplot:>"
      ]
     },
     "execution_count": 219,
     "metadata": {},
     "output_type": "execute_result"
    },
    {
     "data": {
      "image/png": "[encoded data removed]",
      "text/plain": [
       "<Figure size 1080x720 with 2 Axes>"
      ]
     },
     "metadata": {
      "needs_background": "light"
     },
     "output_type": "display_data"
    }
   ],
   "source": [
    "import seaborn as sns\n",
    "import matplotlib.pyplot as plt\n",
    "\n",
    "plt.figure(figsize= (15,10))\n",
    "sns.heatmap(df.corr(), annot=True)"
   ]
  },
  {
   "cell_type": "code",
   "execution_count": 220,
   "metadata": {},
   "outputs": [
    {
     "data": {
      "text/html": [
       "<div>\n",
       "<style scoped>\n",
       "    .dataframe tbody tr th:only-of-type {\n",
       "        vertical-align: middle;\n",
       "    }\n",
       "\n",
       "    .dataframe tbody tr th {\n",
       "        vertical-align: top;\n",
       "    }\n",
       "\n",
       "    .dataframe thead th {\n",
       "        text-align: right;\n",
       "    }\n",
       "</style>\n",
       "<table border=\"1\" class=\"dataframe\">\n",
       "  <thead>\n",
       "    <tr style=\"text-align: right;\">\n",
       "      <th></th>\n",
       "      <th>Date</th>\n",
       "      <th>AveragePrice</th>\n",
       "      <th>Total Volume</th>\n",
       "      <th>4046</th>\n",
       "      <th>4225</th>\n",
       "      <th>4770</th>\n",
       "      <th>Total Bags</th>\n",
       "      <th>Small Bags</th>\n",
       "      <th>Large Bags</th>\n",
       "      <th>XLarge Bags</th>\n",
       "      <th>type</th>\n",
       "      <th>year</th>\n",
       "      <th>region</th>\n",
       "      <th>Month</th>\n",
       "      <th>Day</th>\n",
       "    </tr>\n",
       "  </thead>\n",
       "  <tbody>\n",
       "    <tr>\n",
       "      <th>9212</th>\n",
       "      <td>2015-05-03</td>\n",
       "      <td>2.03</td>\n",
       "      <td>3976.19</td>\n",
       "      <td>1325.62</td>\n",
       "      <td>2650.57</td>\n",
       "      <td>0.00</td>\n",
       "      <td>0.0</td>\n",
       "      <td>0.0</td>\n",
       "      <td>0.0</td>\n",
       "      <td>0.0</td>\n",
       "      <td>organic</td>\n",
       "      <td>2015</td>\n",
       "      <td>Atlanta</td>\n",
       "      <td>5</td>\n",
       "      <td>3</td>\n",
       "    </tr>\n",
       "    <tr>\n",
       "      <th>11024</th>\n",
       "      <td>2015-06-28</td>\n",
       "      <td>1.53</td>\n",
       "      <td>41116.32</td>\n",
       "      <td>7314.21</td>\n",
       "      <td>33780.38</td>\n",
       "      <td>21.73</td>\n",
       "      <td>0.0</td>\n",
       "      <td>0.0</td>\n",
       "      <td>0.0</td>\n",
       "      <td>0.0</td>\n",
       "      <td>organic</td>\n",
       "      <td>2015</td>\n",
       "      <td>Portland</td>\n",
       "      <td>6</td>\n",
       "      <td>28</td>\n",
       "    </tr>\n",
       "    <tr>\n",
       "      <th>11321</th>\n",
       "      <td>2015-10-11</td>\n",
       "      <td>2.66</td>\n",
       "      <td>14031.73</td>\n",
       "      <td>1046.84</td>\n",
       "      <td>12984.89</td>\n",
       "      <td>0.00</td>\n",
       "      <td>0.0</td>\n",
       "      <td>0.0</td>\n",
       "      <td>0.0</td>\n",
       "      <td>0.0</td>\n",
       "      <td>organic</td>\n",
       "      <td>2015</td>\n",
       "      <td>SanFrancisco</td>\n",
       "      <td>10</td>\n",
       "      <td>11</td>\n",
       "    </tr>\n",
       "    <tr>\n",
       "      <th>11333</th>\n",
       "      <td>2015-07-19</td>\n",
       "      <td>2.36</td>\n",
       "      <td>19558.81</td>\n",
       "      <td>3893.65</td>\n",
       "      <td>15665.16</td>\n",
       "      <td>0.00</td>\n",
       "      <td>0.0</td>\n",
       "      <td>0.0</td>\n",
       "      <td>0.0</td>\n",
       "      <td>0.0</td>\n",
       "      <td>organic</td>\n",
       "      <td>2015</td>\n",
       "      <td>SanFrancisco</td>\n",
       "      <td>7</td>\n",
       "      <td>19</td>\n",
       "    </tr>\n",
       "    <tr>\n",
       "      <th>11347</th>\n",
       "      <td>2015-04-12</td>\n",
       "      <td>1.54</td>\n",
       "      <td>28220.45</td>\n",
       "      <td>18887.66</td>\n",
       "      <td>9332.79</td>\n",
       "      <td>0.00</td>\n",
       "      <td>0.0</td>\n",
       "      <td>0.0</td>\n",
       "      <td>0.0</td>\n",
       "      <td>0.0</td>\n",
       "      <td>organic</td>\n",
       "      <td>2015</td>\n",
       "      <td>SanFrancisco</td>\n",
       "      <td>4</td>\n",
       "      <td>12</td>\n",
       "    </tr>\n",
       "    <tr>\n",
       "      <th>11387</th>\n",
       "      <td>2015-07-05</td>\n",
       "      <td>1.98</td>\n",
       "      <td>29929.57</td>\n",
       "      <td>8841.34</td>\n",
       "      <td>20807.76</td>\n",
       "      <td>280.47</td>\n",
       "      <td>0.0</td>\n",
       "      <td>0.0</td>\n",
       "      <td>0.0</td>\n",
       "      <td>0.0</td>\n",
       "      <td>organic</td>\n",
       "      <td>2015</td>\n",
       "      <td>Seattle</td>\n",
       "      <td>7</td>\n",
       "      <td>5</td>\n",
       "    </tr>\n",
       "    <tr>\n",
       "      <th>11594</th>\n",
       "      <td>2015-07-12</td>\n",
       "      <td>2.07</td>\n",
       "      <td>2786.45</td>\n",
       "      <td>680.60</td>\n",
       "      <td>2105.85</td>\n",
       "      <td>0.00</td>\n",
       "      <td>0.0</td>\n",
       "      <td>0.0</td>\n",
       "      <td>0.0</td>\n",
       "      <td>0.0</td>\n",
       "      <td>organic</td>\n",
       "      <td>2015</td>\n",
       "      <td>Spokane</td>\n",
       "      <td>7</td>\n",
       "      <td>12</td>\n",
       "    </tr>\n",
       "    <tr>\n",
       "      <th>11597</th>\n",
       "      <td>2015-06-21</td>\n",
       "      <td>1.59</td>\n",
       "      <td>4436.79</td>\n",
       "      <td>872.72</td>\n",
       "      <td>3564.07</td>\n",
       "      <td>0.00</td>\n",
       "      <td>0.0</td>\n",
       "      <td>0.0</td>\n",
       "      <td>0.0</td>\n",
       "      <td>0.0</td>\n",
       "      <td>organic</td>\n",
       "      <td>2015</td>\n",
       "      <td>Spokane</td>\n",
       "      <td>6</td>\n",
       "      <td>21</td>\n",
       "    </tr>\n",
       "    <tr>\n",
       "      <th>11614</th>\n",
       "      <td>2015-02-22</td>\n",
       "      <td>1.41</td>\n",
       "      <td>4655.86</td>\n",
       "      <td>2067.41</td>\n",
       "      <td>2588.45</td>\n",
       "      <td>0.00</td>\n",
       "      <td>0.0</td>\n",
       "      <td>0.0</td>\n",
       "      <td>0.0</td>\n",
       "      <td>0.0</td>\n",
       "      <td>organic</td>\n",
       "      <td>2015</td>\n",
       "      <td>Spokane</td>\n",
       "      <td>2</td>\n",
       "      <td>22</td>\n",
       "    </tr>\n",
       "    <tr>\n",
       "      <th>11662</th>\n",
       "      <td>2015-03-22</td>\n",
       "      <td>1.83</td>\n",
       "      <td>3795.21</td>\n",
       "      <td>1305.95</td>\n",
       "      <td>2489.26</td>\n",
       "      <td>0.00</td>\n",
       "      <td>0.0</td>\n",
       "      <td>0.0</td>\n",
       "      <td>0.0</td>\n",
       "      <td>0.0</td>\n",
       "      <td>organic</td>\n",
       "      <td>2015</td>\n",
       "      <td>StLouis</td>\n",
       "      <td>3</td>\n",
       "      <td>22</td>\n",
       "    </tr>\n",
       "  </tbody>\n",
       "</table>\n",
       "</div>"
      ],
      "text/plain": [
       "             Date  AveragePrice  Total Volume      4046      4225    4770  \\\n",
       "9212   2015-05-03          2.03       3976.19   1325.62   2650.57    0.00   \n",
       "11024  2015-06-28          1.53      41116.32   7314.21  33780.38   21.73   \n",
       "11321  2015-10-11          2.66      14031.73   1046.84  12984.89    0.00   \n",
       "11333  2015-07-19          2.36      19558.81   3893.65  15665.16    0.00   \n",
       "11347  2015-04-12          1.54      28220.45  18887.66   9332.79    0.00   \n",
       "11387  2015-07-05          1.98      29929.57   8841.34  20807.76  280.47   \n",
       "11594  2015-07-12          2.07       2786.45    680.60   2105.85    0.00   \n",
       "11597  2015-06-21          1.59       4436.79    872.72   3564.07    0.00   \n",
       "11614  2015-02-22          1.41       4655.86   2067.41   2588.45    0.00   \n",
       "11662  2015-03-22          1.83       3795.21   1305.95   2489.26    0.00   \n",
       "\n",
       "       Total Bags  Small Bags  Large Bags  XLarge Bags     type  year  \\\n",
       "9212          0.0         0.0         0.0          0.0  organic  2015   \n",
       "11024         0.0         0.0         0.0          0.0  organic  2015   \n",
       "11321         0.0         0.0         0.0          0.0  organic  2015   \n",
       "11333         0.0         0.0         0.0          0.0  organic  2015   \n",
       "11347         0.0         0.0         0.0          0.0  organic  2015   \n",
       "11387         0.0         0.0         0.0          0.0  organic  2015   \n",
       "11594         0.0         0.0         0.0          0.0  organic  2015   \n",
       "11597         0.0         0.0         0.0          0.0  organic  2015   \n",
       "11614         0.0         0.0         0.0          0.0  organic  2015   \n",
       "11662         0.0         0.0         0.0          0.0  organic  2015   \n",
       "\n",
       "             region  Month  Day  \n",
       "9212        Atlanta      5    3  \n",
       "11024      Portland      6   28  \n",
       "11321  SanFrancisco     10   11  \n",
       "11333  SanFrancisco      7   19  \n",
       "11347  SanFrancisco      4   12  \n",
       "11387       Seattle      7    5  \n",
       "11594       Spokane      7   12  \n",
       "11597       Spokane      6   21  \n",
       "11614       Spokane      2   22  \n",
       "11662       StLouis      3   22  "
      ]
     },
     "execution_count": 220,
     "metadata": {},
     "output_type": "execute_result"
    }
   ],
   "source": [
    "\n",
    "df[df['Total Volume']== df['4046']+ df['4225'] + df['4770']]"
   ]
  },
  {
   "cell_type": "code",
   "execution_count": 221,
   "metadata": {},
   "outputs": [
    {
     "data": {
      "text/plain": [
       "0        -8696.87\n",
       "1        -9505.56\n",
       "2        -8145.35\n",
       "3        -5811.16\n",
       "4        -6183.95\n",
       "           ...   \n",
       "18244   -13498.67\n",
       "18245    -9264.84\n",
       "18246    -9394.11\n",
       "18247   -10969.54\n",
       "18248   -12014.15\n",
       "Length: 18249, dtype: float64"
      ]
     },
     "execution_count": 221,
     "metadata": {},
     "output_type": "execute_result"
    }
   ],
   "source": [
    "df['4046']+ df['4225'] + df['4770'] - df['Total Volume']"
   ]
  },
  {
   "cell_type": "code",
   "execution_count": 222,
   "metadata": {},
   "outputs": [
    {
     "data": {
      "text/html": [
       "<div>\n",
       "<style scoped>\n",
       "    .dataframe tbody tr th:only-of-type {\n",
       "        vertical-align: middle;\n",
       "    }\n",
       "\n",
       "    .dataframe tbody tr th {\n",
       "        vertical-align: top;\n",
       "    }\n",
       "\n",
       "    .dataframe thead th {\n",
       "        text-align: right;\n",
       "    }\n",
       "</style>\n",
       "<table border=\"1\" class=\"dataframe\">\n",
       "  <thead>\n",
       "    <tr style=\"text-align: right;\">\n",
       "      <th></th>\n",
       "      <th>Date</th>\n",
       "      <th>AveragePrice</th>\n",
       "      <th>Total Volume</th>\n",
       "      <th>4046</th>\n",
       "      <th>4225</th>\n",
       "      <th>4770</th>\n",
       "      <th>Total Bags</th>\n",
       "      <th>Small Bags</th>\n",
       "      <th>Large Bags</th>\n",
       "      <th>XLarge Bags</th>\n",
       "      <th>type</th>\n",
       "      <th>year</th>\n",
       "      <th>region</th>\n",
       "      <th>Month</th>\n",
       "      <th>Day</th>\n",
       "    </tr>\n",
       "  </thead>\n",
       "  <tbody>\n",
       "    <tr>\n",
       "      <th>0</th>\n",
       "      <td>2015-12-27</td>\n",
       "      <td>1.33</td>\n",
       "      <td>64236.62</td>\n",
       "      <td>1036.74</td>\n",
       "      <td>54454.85</td>\n",
       "      <td>48.16</td>\n",
       "      <td>8696.87</td>\n",
       "      <td>8603.62</td>\n",
       "      <td>93.25</td>\n",
       "      <td>0.0</td>\n",
       "      <td>conventional</td>\n",
       "      <td>2015</td>\n",
       "      <td>Albany</td>\n",
       "      <td>12</td>\n",
       "      <td>27</td>\n",
       "    </tr>\n",
       "    <tr>\n",
       "      <th>1</th>\n",
       "      <td>2015-12-20</td>\n",
       "      <td>1.35</td>\n",
       "      <td>54876.98</td>\n",
       "      <td>674.28</td>\n",
       "      <td>44638.81</td>\n",
       "      <td>58.33</td>\n",
       "      <td>9505.56</td>\n",
       "      <td>9408.07</td>\n",
       "      <td>97.49</td>\n",
       "      <td>0.0</td>\n",
       "      <td>conventional</td>\n",
       "      <td>2015</td>\n",
       "      <td>Albany</td>\n",
       "      <td>12</td>\n",
       "      <td>20</td>\n",
       "    </tr>\n",
       "    <tr>\n",
       "      <th>2</th>\n",
       "      <td>2015-12-13</td>\n",
       "      <td>0.93</td>\n",
       "      <td>118220.22</td>\n",
       "      <td>794.70</td>\n",
       "      <td>109149.67</td>\n",
       "      <td>130.50</td>\n",
       "      <td>8145.35</td>\n",
       "      <td>8042.21</td>\n",
       "      <td>103.14</td>\n",
       "      <td>0.0</td>\n",
       "      <td>conventional</td>\n",
       "      <td>2015</td>\n",
       "      <td>Albany</td>\n",
       "      <td>12</td>\n",
       "      <td>13</td>\n",
       "    </tr>\n",
       "    <tr>\n",
       "      <th>3</th>\n",
       "      <td>2015-12-06</td>\n",
       "      <td>1.08</td>\n",
       "      <td>78992.15</td>\n",
       "      <td>1132.00</td>\n",
       "      <td>71976.41</td>\n",
       "      <td>72.58</td>\n",
       "      <td>5811.16</td>\n",
       "      <td>5677.40</td>\n",
       "      <td>133.76</td>\n",
       "      <td>0.0</td>\n",
       "      <td>conventional</td>\n",
       "      <td>2015</td>\n",
       "      <td>Albany</td>\n",
       "      <td>12</td>\n",
       "      <td>6</td>\n",
       "    </tr>\n",
       "    <tr>\n",
       "      <th>4</th>\n",
       "      <td>2015-11-29</td>\n",
       "      <td>1.28</td>\n",
       "      <td>51039.60</td>\n",
       "      <td>941.48</td>\n",
       "      <td>43838.39</td>\n",
       "      <td>75.78</td>\n",
       "      <td>6183.95</td>\n",
       "      <td>5986.26</td>\n",
       "      <td>197.69</td>\n",
       "      <td>0.0</td>\n",
       "      <td>conventional</td>\n",
       "      <td>2015</td>\n",
       "      <td>Albany</td>\n",
       "      <td>11</td>\n",
       "      <td>29</td>\n",
       "    </tr>\n",
       "    <tr>\n",
       "      <th>...</th>\n",
       "      <td>...</td>\n",
       "      <td>...</td>\n",
       "      <td>...</td>\n",
       "      <td>...</td>\n",
       "      <td>...</td>\n",
       "      <td>...</td>\n",
       "      <td>...</td>\n",
       "      <td>...</td>\n",
       "      <td>...</td>\n",
       "      <td>...</td>\n",
       "      <td>...</td>\n",
       "      <td>...</td>\n",
       "      <td>...</td>\n",
       "      <td>...</td>\n",
       "      <td>...</td>\n",
       "    </tr>\n",
       "    <tr>\n",
       "      <th>18243</th>\n",
       "      <td>2018-02-11</td>\n",
       "      <td>1.57</td>\n",
       "      <td>15986.17</td>\n",
       "      <td>1924.28</td>\n",
       "      <td>1368.32</td>\n",
       "      <td>0.00</td>\n",
       "      <td>12693.57</td>\n",
       "      <td>12437.35</td>\n",
       "      <td>256.22</td>\n",
       "      <td>0.0</td>\n",
       "      <td>organic</td>\n",
       "      <td>2018</td>\n",
       "      <td>WestTexNewMexico</td>\n",
       "      <td>2</td>\n",
       "      <td>11</td>\n",
       "    </tr>\n",
       "    <tr>\n",
       "      <th>18244</th>\n",
       "      <td>2018-02-04</td>\n",
       "      <td>1.63</td>\n",
       "      <td>17074.83</td>\n",
       "      <td>2046.96</td>\n",
       "      <td>1529.20</td>\n",
       "      <td>0.00</td>\n",
       "      <td>13498.67</td>\n",
       "      <td>13066.82</td>\n",
       "      <td>431.85</td>\n",
       "      <td>0.0</td>\n",
       "      <td>organic</td>\n",
       "      <td>2018</td>\n",
       "      <td>WestTexNewMexico</td>\n",
       "      <td>2</td>\n",
       "      <td>4</td>\n",
       "    </tr>\n",
       "    <tr>\n",
       "      <th>18245</th>\n",
       "      <td>2018-01-28</td>\n",
       "      <td>1.71</td>\n",
       "      <td>13888.04</td>\n",
       "      <td>1191.70</td>\n",
       "      <td>3431.50</td>\n",
       "      <td>0.00</td>\n",
       "      <td>9264.84</td>\n",
       "      <td>8940.04</td>\n",
       "      <td>324.80</td>\n",
       "      <td>0.0</td>\n",
       "      <td>organic</td>\n",
       "      <td>2018</td>\n",
       "      <td>WestTexNewMexico</td>\n",
       "      <td>1</td>\n",
       "      <td>28</td>\n",
       "    </tr>\n",
       "    <tr>\n",
       "      <th>18247</th>\n",
       "      <td>2018-01-14</td>\n",
       "      <td>1.93</td>\n",
       "      <td>16205.22</td>\n",
       "      <td>1527.63</td>\n",
       "      <td>2981.04</td>\n",
       "      <td>727.01</td>\n",
       "      <td>10969.54</td>\n",
       "      <td>10919.54</td>\n",
       "      <td>50.00</td>\n",
       "      <td>0.0</td>\n",
       "      <td>organic</td>\n",
       "      <td>2018</td>\n",
       "      <td>WestTexNewMexico</td>\n",
       "      <td>1</td>\n",
       "      <td>14</td>\n",
       "    </tr>\n",
       "    <tr>\n",
       "      <th>18248</th>\n",
       "      <td>2018-01-07</td>\n",
       "      <td>1.62</td>\n",
       "      <td>17489.58</td>\n",
       "      <td>2894.77</td>\n",
       "      <td>2356.13</td>\n",
       "      <td>224.53</td>\n",
       "      <td>12014.15</td>\n",
       "      <td>11988.14</td>\n",
       "      <td>26.01</td>\n",
       "      <td>0.0</td>\n",
       "      <td>organic</td>\n",
       "      <td>2018</td>\n",
       "      <td>WestTexNewMexico</td>\n",
       "      <td>1</td>\n",
       "      <td>7</td>\n",
       "    </tr>\n",
       "  </tbody>\n",
       "</table>\n",
       "<p>14213 rows × 15 columns</p>\n",
       "</div>"
      ],
      "text/plain": [
       "             Date  AveragePrice  Total Volume     4046       4225    4770  \\\n",
       "0      2015-12-27          1.33      64236.62  1036.74   54454.85   48.16   \n",
       "1      2015-12-20          1.35      54876.98   674.28   44638.81   58.33   \n",
       "2      2015-12-13          0.93     118220.22   794.70  109149.67  130.50   \n",
       "3      2015-12-06          1.08      78992.15  1132.00   71976.41   72.58   \n",
       "4      2015-11-29          1.28      51039.60   941.48   43838.39   75.78   \n",
       "...           ...           ...           ...      ...        ...     ...   \n",
       "18243  2018-02-11          1.57      15986.17  1924.28    1368.32    0.00   \n",
       "18244  2018-02-04          1.63      17074.83  2046.96    1529.20    0.00   \n",
       "18245  2018-01-28          1.71      13888.04  1191.70    3431.50    0.00   \n",
       "18247  2018-01-14          1.93      16205.22  1527.63    2981.04  727.01   \n",
       "18248  2018-01-07          1.62      17489.58  2894.77    2356.13  224.53   \n",
       "\n",
       "       Total Bags  Small Bags  Large Bags  XLarge Bags          type  year  \\\n",
       "0         8696.87     8603.62       93.25          0.0  conventional  2015   \n",
       "1         9505.56     9408.07       97.49          0.0  conventional  2015   \n",
       "2         8145.35     8042.21      103.14          0.0  conventional  2015   \n",
       "3         5811.16     5677.40      133.76          0.0  conventional  2015   \n",
       "4         6183.95     5986.26      197.69          0.0  conventional  2015   \n",
       "...           ...         ...         ...          ...           ...   ...   \n",
       "18243    12693.57    12437.35      256.22          0.0       organic  2018   \n",
       "18244    13498.67    13066.82      431.85          0.0       organic  2018   \n",
       "18245     9264.84     8940.04      324.80          0.0       organic  2018   \n",
       "18247    10969.54    10919.54       50.00          0.0       organic  2018   \n",
       "18248    12014.15    11988.14       26.01          0.0       organic  2018   \n",
       "\n",
       "                 region  Month  Day  \n",
       "0                Albany     12   27  \n",
       "1                Albany     12   20  \n",
       "2                Albany     12   13  \n",
       "3                Albany     12    6  \n",
       "4                Albany     11   29  \n",
       "...                 ...    ...  ...  \n",
       "18243  WestTexNewMexico      2   11  \n",
       "18244  WestTexNewMexico      2    4  \n",
       "18245  WestTexNewMexico      1   28  \n",
       "18247  WestTexNewMexico      1   14  \n",
       "18248  WestTexNewMexico      1    7  \n",
       "\n",
       "[14213 rows x 15 columns]"
      ]
     },
     "execution_count": 222,
     "metadata": {},
     "output_type": "execute_result"
    }
   ],
   "source": [
    "df[df['Total Bags']== df['Small Bags']+ df['Large Bags'] + df['XLarge Bags']]"
   ]
  },
  {
   "cell_type": "code",
   "execution_count": 223,
   "metadata": {},
   "outputs": [
    {
     "data": {
      "text/plain": [
       "0.7788371965587155"
      ]
     },
     "execution_count": 223,
     "metadata": {},
     "output_type": "execute_result"
    }
   ],
   "source": [
    "14213/18249"
   ]
  },
  {
   "cell_type": "code",
   "execution_count": 224,
   "metadata": {},
   "outputs": [],
   "source": [
    "# veo que Total Bags es la suma de Small, Large y XLarge en el 77.88% de los casos, con esto y con la correlacion que tiene con cada una de ellas decido eliminarla\n",
    "# no ocurre lo mismo con Total Volume, pero por la correlacion mutua decido eliminarla también"
   ]
  },
  {
   "cell_type": "code",
   "execution_count": 225,
   "metadata": {},
   "outputs": [
    {
     "name": "stderr",
     "output_type": "stream",
     "text": [
      "c:\\Users\\enriq\\AppData\\Local\\Programs\\Python\\Python37\\lib\\site-packages\\seaborn\\distributions.py:2619: FutureWarning: `distplot` is a deprecated function and will be removed in a future version. Please adapt your code to use either `displot` (a figure-level function with similar flexibility) or `histplot` (an axes-level function for histograms).\n",
      "  warnings.warn(msg, FutureWarning)\n"
     ]
    },
    {
     "data": {
      "image/png": "[encoded data removed]",
      "text/plain": [
       "<Figure size 432x288 with 1 Axes>"
      ]
     },
     "metadata": {
      "needs_background": "light"
     },
     "output_type": "display_data"
    }
   ],
   "source": [
    "# miro cómo secomporta el AveragePrice, su distribución\n",
    "\n",
    "sns.distplot(df['AveragePrice']); "
   ]
  },
  {
   "cell_type": "code",
   "execution_count": 226,
   "metadata": {},
   "outputs": [
    {
     "data": {
      "text/plain": [
       "Albany                 338\n",
       "Sacramento             338\n",
       "Northeast              338\n",
       "NorthernNewEngland     338\n",
       "Orlando                338\n",
       "Philadelphia           338\n",
       "PhoenixTucson          338\n",
       "Pittsburgh             338\n",
       "Plains                 338\n",
       "Portland               338\n",
       "RaleighGreensboro      338\n",
       "RichmondNorfolk        338\n",
       "Roanoke                338\n",
       "SanDiego               338\n",
       "Atlanta                338\n",
       "SanFrancisco           338\n",
       "Seattle                338\n",
       "SouthCarolina          338\n",
       "SouthCentral           338\n",
       "Southeast              338\n",
       "Spokane                338\n",
       "StLouis                338\n",
       "Syracuse               338\n",
       "Tampa                  338\n",
       "TotalUS                338\n",
       "West                   338\n",
       "NewYork                338\n",
       "NewOrleansMobile       338\n",
       "Nashville              338\n",
       "Midsouth               338\n",
       "BaltimoreWashington    338\n",
       "Boise                  338\n",
       "Boston                 338\n",
       "BuffaloRochester       338\n",
       "California             338\n",
       "Charlotte              338\n",
       "Chicago                338\n",
       "CincinnatiDayton       338\n",
       "Columbus               338\n",
       "DallasFtWorth          338\n",
       "Denver                 338\n",
       "Detroit                338\n",
       "GrandRapids            338\n",
       "GreatLakes             338\n",
       "HarrisburgScranton     338\n",
       "HartfordSpringfield    338\n",
       "Houston                338\n",
       "Indianapolis           338\n",
       "Jacksonville           338\n",
       "LasVegas               338\n",
       "LosAngeles             338\n",
       "Louisville             338\n",
       "MiamiFtLauderdale      338\n",
       "WestTexNewMexico       335\n",
       "Name: region, dtype: int64"
      ]
     },
     "execution_count": 226,
     "metadata": {},
     "output_type": "execute_result"
    }
   ],
   "source": [
    "df['region'].value_counts()"
   ]
  },
  {
   "cell_type": "code",
   "execution_count": 227,
   "metadata": {},
   "outputs": [],
   "source": [
    "df = df.sort_values(by= 'AveragePrice', ascending=False)"
   ]
  },
  {
   "cell_type": "code",
   "execution_count": 228,
   "metadata": {},
   "outputs": [
    {
     "data": {
      "image/png": "[encoded data removed]",
      "text/plain": [
       "<Figure size 720x1440 with 1 Axes>"
      ]
     },
     "metadata": {
      "needs_background": "light"
     },
     "output_type": "display_data"
    }
   ],
   "source": [
    "# ahora vamos con la columna de las regiones\n",
    "\n",
    "plt.figure(figsize=(10,20))\n",
    "plt.title(\"Avg.Price of Avocado by Region\", size=20)\n",
    "sns.barplot(data= df, x=\"AveragePrice\", y=\"region\")\n",
    "plt.box(on=None)"
   ]
  },
  {
   "cell_type": "code",
   "execution_count": 229,
   "metadata": {},
   "outputs": [],
   "source": [
    "# como solo hay cuarenta y tantos valores unicos, les asigno valores numéricos en base a la superficie de tierra de cada uno de las regiones\n",
    "# ya  que creo que tendrán una correlación significativa con el AveragePrice"
   ]
  },
  {
   "cell_type": "code",
   "execution_count": 230,
   "metadata": {},
   "outputs": [],
   "source": [
    "diccionario= {'Albany': 21.8,\n",
    "'Sacramento'              :257,\n",
    "'Northeast':       0,\n",
    "'NorthernNewEngland' :   162362,\n",
    "'Orlando'    : 261.5,\n",
    "'Philadelphia'    : 369.3,\n",
    "'PhoenixTucson'   : 1341.48 + \t588.02,\n",
    "'Pittsburgh'       :      151.1,\n",
    "'Plains':              34.4,\n",
    "'Portland'        :     347.9,\n",
    "'RaleighGreensboro':      299.3+27.2 ,\n",
    "'RichmondNorfolk': 155.20 + 137.98  ,        \n",
    "'Roanoke'          :      110.99,\n",
    "'SanDiego':            844.02,\n",
    "'Atlanta'         :    350.48, \n",
    "'SanFrancisco'    :    121,\n",
    "'Seattle':            2172,\n",
    "'SouthCarolina':         82931,\n",
    "'SouthCentral'     : 0,\n",
    "'Southeast':        0,\n",
    "'Spokane'  :         178.09,\n",
    "'StLouis'   : 159.85,\n",
    "'Syracuse'  :     64.71 ,\n",
    "'Tampa'     :   295.30 ,\n",
    "'TotalUS'   :    0,\n",
    "'West':      0,\n",
    "'NewYork':        122057,\n",
    "'NewOrleansMobile'  : 361.26+ 438.80,\n",
    "'Nashville'    :  1305.4,\n",
    "'Midsouth':      0,\n",
    "'BaltimoreWashington':  209.65 + 158.1,\n",
    "'Boise':    216.96,\n",
    "'Boston':    125.20,\n",
    "'BuffaloRochester':     92.63+104.58, \n",
    "'California':     403932,\n",
    "'Charlotte':     795.80,\n",
    "'Chicago'             : 589.82,\n",
    "'CincinnatiDayton': 201.59+ 143.47,\n",
    "'Columbus' : 570.08,\n",
    "'DallasFtWorth':   879.56 + 899.44,\n",
    "'Denver':      396.463,\n",
    "'Detroit':     359.31,\n",
    "'GrandRapids':    115.97,\n",
    "'GreatLakes' :  0,\n",
    "'HarrisburgScranton':    21.03+ 65.55,\n",
    "'HartfordSpringfield':    338,\n",
    "'Houston':       1552.92,\n",
    "'Indianapolis':        936,\n",
    "'Jacksonville':        115.2,\n",
    "'LasVegas':       352,\n",
    "'LosAngeles':     1214.9, \n",
    "'Louisville': 171.7,\n",
    "'MiamiFtLauderdale' :  0,\n",
    "'WestTexNewMexico':   0\n",
    "    \n",
    "}"
   ]
  },
  {
   "cell_type": "code",
   "execution_count": 231,
   "metadata": {},
   "outputs": [],
   "source": [
    "df['Region'] = df['region'].map(lambda region_label : diccionario[region_label])"
   ]
  },
  {
   "cell_type": "code",
   "execution_count": 232,
   "metadata": {},
   "outputs": [
    {
     "data": {
      "text/plain": [
       "14125    121.0\n",
       "17428    295.3\n",
       "14124    121.0\n",
       "16055      0.0\n",
       "16720    326.5\n",
       "         ...  \n",
       "10056    338.0\n",
       "14162    121.0\n",
       "10026    338.0\n",
       "16899    257.0\n",
       "12831    338.0\n",
       "Name: Region, Length: 333, dtype: float64"
      ]
     },
     "execution_count": 232,
     "metadata": {},
     "output_type": "execute_result"
    }
   ],
   "source": [
    "df['Region'].head(333)"
   ]
  },
  {
   "cell_type": "code",
   "execution_count": 233,
   "metadata": {},
   "outputs": [
    {
     "data": {
      "image/png": "[encoded data removed]",
      "text/plain": [
       "<Figure size 432x432 with 3 Axes>"
      ]
     },
     "metadata": {
      "needs_background": "light"
     },
     "output_type": "display_data"
    }
   ],
   "source": [
    "# veo como correla Region\n",
    "sns.jointplot(x=\"Region\", y=\"AveragePrice\", data=df, kind=\"reg\");"
   ]
  },
  {
   "cell_type": "code",
   "execution_count": 234,
   "metadata": {},
   "outputs": [],
   "source": [
    "# ahora miro el comportamiento de los precios dependiendo del tiempo"
   ]
  },
  {
   "cell_type": "code",
   "execution_count": 235,
   "metadata": {},
   "outputs": [
    {
     "data": {
      "text/html": [
       "<div>\n",
       "<style scoped>\n",
       "    .dataframe tbody tr th:only-of-type {\n",
       "        vertical-align: middle;\n",
       "    }\n",
       "\n",
       "    .dataframe tbody tr th {\n",
       "        vertical-align: top;\n",
       "    }\n",
       "\n",
       "    .dataframe thead th {\n",
       "        text-align: right;\n",
       "    }\n",
       "</style>\n",
       "<table border=\"1\" class=\"dataframe\">\n",
       "  <thead>\n",
       "    <tr style=\"text-align: right;\">\n",
       "      <th></th>\n",
       "      <th>Date</th>\n",
       "      <th>AveragePrice</th>\n",
       "      <th>Total Volume</th>\n",
       "      <th>4046</th>\n",
       "      <th>4225</th>\n",
       "      <th>4770</th>\n",
       "      <th>Total Bags</th>\n",
       "      <th>Small Bags</th>\n",
       "      <th>Large Bags</th>\n",
       "      <th>XLarge Bags</th>\n",
       "      <th>type</th>\n",
       "      <th>year</th>\n",
       "      <th>region</th>\n",
       "      <th>Month</th>\n",
       "      <th>Day</th>\n",
       "      <th>Region</th>\n",
       "    </tr>\n",
       "  </thead>\n",
       "  <tbody>\n",
       "    <tr>\n",
       "      <th>14125</th>\n",
       "      <td>2016-10-30</td>\n",
       "      <td>3.25</td>\n",
       "      <td>16700.94</td>\n",
       "      <td>2325.93</td>\n",
       "      <td>11142.85</td>\n",
       "      <td>0.00</td>\n",
       "      <td>3232.16</td>\n",
       "      <td>3232.16</td>\n",
       "      <td>0.00</td>\n",
       "      <td>0.00</td>\n",
       "      <td>organic</td>\n",
       "      <td>2016</td>\n",
       "      <td>SanFrancisco</td>\n",
       "      <td>10</td>\n",
       "      <td>30</td>\n",
       "      <td>121.00</td>\n",
       "    </tr>\n",
       "    <tr>\n",
       "      <th>17428</th>\n",
       "      <td>2017-04-16</td>\n",
       "      <td>3.17</td>\n",
       "      <td>3018.56</td>\n",
       "      <td>1255.55</td>\n",
       "      <td>82.31</td>\n",
       "      <td>0.00</td>\n",
       "      <td>1680.70</td>\n",
       "      <td>1542.22</td>\n",
       "      <td>138.48</td>\n",
       "      <td>0.00</td>\n",
       "      <td>organic</td>\n",
       "      <td>2017</td>\n",
       "      <td>Tampa</td>\n",
       "      <td>4</td>\n",
       "      <td>16</td>\n",
       "      <td>295.30</td>\n",
       "    </tr>\n",
       "    <tr>\n",
       "      <th>14124</th>\n",
       "      <td>2016-11-06</td>\n",
       "      <td>3.12</td>\n",
       "      <td>19043.80</td>\n",
       "      <td>5898.49</td>\n",
       "      <td>10039.34</td>\n",
       "      <td>0.00</td>\n",
       "      <td>3105.97</td>\n",
       "      <td>3079.30</td>\n",
       "      <td>26.67</td>\n",
       "      <td>0.00</td>\n",
       "      <td>organic</td>\n",
       "      <td>2016</td>\n",
       "      <td>SanFrancisco</td>\n",
       "      <td>11</td>\n",
       "      <td>6</td>\n",
       "      <td>121.00</td>\n",
       "    </tr>\n",
       "    <tr>\n",
       "      <th>16055</th>\n",
       "      <td>2017-03-12</td>\n",
       "      <td>3.05</td>\n",
       "      <td>2068.26</td>\n",
       "      <td>1043.83</td>\n",
       "      <td>77.36</td>\n",
       "      <td>0.00</td>\n",
       "      <td>947.07</td>\n",
       "      <td>926.67</td>\n",
       "      <td>20.40</td>\n",
       "      <td>0.00</td>\n",
       "      <td>organic</td>\n",
       "      <td>2017</td>\n",
       "      <td>MiamiFtLauderdale</td>\n",
       "      <td>3</td>\n",
       "      <td>12</td>\n",
       "      <td>0.00</td>\n",
       "    </tr>\n",
       "    <tr>\n",
       "      <th>16720</th>\n",
       "      <td>2017-08-27</td>\n",
       "      <td>3.04</td>\n",
       "      <td>12656.32</td>\n",
       "      <td>419.06</td>\n",
       "      <td>4851.90</td>\n",
       "      <td>145.09</td>\n",
       "      <td>7240.27</td>\n",
       "      <td>6960.97</td>\n",
       "      <td>279.30</td>\n",
       "      <td>0.00</td>\n",
       "      <td>organic</td>\n",
       "      <td>2017</td>\n",
       "      <td>RaleighGreensboro</td>\n",
       "      <td>8</td>\n",
       "      <td>27</td>\n",
       "      <td>326.50</td>\n",
       "    </tr>\n",
       "    <tr>\n",
       "      <th>...</th>\n",
       "      <td>...</td>\n",
       "      <td>...</td>\n",
       "      <td>...</td>\n",
       "      <td>...</td>\n",
       "      <td>...</td>\n",
       "      <td>...</td>\n",
       "      <td>...</td>\n",
       "      <td>...</td>\n",
       "      <td>...</td>\n",
       "      <td>...</td>\n",
       "      <td>...</td>\n",
       "      <td>...</td>\n",
       "      <td>...</td>\n",
       "      <td>...</td>\n",
       "      <td>...</td>\n",
       "      <td>...</td>\n",
       "    </tr>\n",
       "    <tr>\n",
       "      <th>1716</th>\n",
       "      <td>2015-12-27</td>\n",
       "      <td>0.49</td>\n",
       "      <td>1137707.43</td>\n",
       "      <td>738314.80</td>\n",
       "      <td>286858.37</td>\n",
       "      <td>11642.46</td>\n",
       "      <td>100891.80</td>\n",
       "      <td>70749.02</td>\n",
       "      <td>30142.78</td>\n",
       "      <td>0.00</td>\n",
       "      <td>conventional</td>\n",
       "      <td>2015</td>\n",
       "      <td>PhoenixTucson</td>\n",
       "      <td>12</td>\n",
       "      <td>27</td>\n",
       "      <td>1929.50</td>\n",
       "    </tr>\n",
       "    <tr>\n",
       "      <th>15262</th>\n",
       "      <td>2017-02-26</td>\n",
       "      <td>0.49</td>\n",
       "      <td>44024.03</td>\n",
       "      <td>252.79</td>\n",
       "      <td>4472.68</td>\n",
       "      <td>0.00</td>\n",
       "      <td>39298.56</td>\n",
       "      <td>600.00</td>\n",
       "      <td>38698.56</td>\n",
       "      <td>0.00</td>\n",
       "      <td>organic</td>\n",
       "      <td>2017</td>\n",
       "      <td>CincinnatiDayton</td>\n",
       "      <td>2</td>\n",
       "      <td>26</td>\n",
       "      <td>345.06</td>\n",
       "    </tr>\n",
       "    <tr>\n",
       "      <th>15473</th>\n",
       "      <td>2017-03-05</td>\n",
       "      <td>0.48</td>\n",
       "      <td>50890.73</td>\n",
       "      <td>717.57</td>\n",
       "      <td>4138.84</td>\n",
       "      <td>0.00</td>\n",
       "      <td>46034.32</td>\n",
       "      <td>1385.06</td>\n",
       "      <td>44649.26</td>\n",
       "      <td>0.00</td>\n",
       "      <td>organic</td>\n",
       "      <td>2017</td>\n",
       "      <td>Detroit</td>\n",
       "      <td>3</td>\n",
       "      <td>5</td>\n",
       "      <td>359.31</td>\n",
       "    </tr>\n",
       "    <tr>\n",
       "      <th>7412</th>\n",
       "      <td>2017-02-05</td>\n",
       "      <td>0.46</td>\n",
       "      <td>2200550.27</td>\n",
       "      <td>1200632.86</td>\n",
       "      <td>531226.65</td>\n",
       "      <td>18324.93</td>\n",
       "      <td>450365.83</td>\n",
       "      <td>113752.17</td>\n",
       "      <td>330583.10</td>\n",
       "      <td>6030.56</td>\n",
       "      <td>conventional</td>\n",
       "      <td>2017</td>\n",
       "      <td>PhoenixTucson</td>\n",
       "      <td>2</td>\n",
       "      <td>5</td>\n",
       "      <td>1929.50</td>\n",
       "    </tr>\n",
       "    <tr>\n",
       "      <th>15261</th>\n",
       "      <td>2017-03-05</td>\n",
       "      <td>0.44</td>\n",
       "      <td>64057.04</td>\n",
       "      <td>223.84</td>\n",
       "      <td>4748.88</td>\n",
       "      <td>0.00</td>\n",
       "      <td>59084.32</td>\n",
       "      <td>638.68</td>\n",
       "      <td>58445.64</td>\n",
       "      <td>0.00</td>\n",
       "      <td>organic</td>\n",
       "      <td>2017</td>\n",
       "      <td>CincinnatiDayton</td>\n",
       "      <td>3</td>\n",
       "      <td>5</td>\n",
       "      <td>345.06</td>\n",
       "    </tr>\n",
       "  </tbody>\n",
       "</table>\n",
       "<p>18249 rows × 16 columns</p>\n",
       "</div>"
      ],
      "text/plain": [
       "             Date  AveragePrice  Total Volume        4046       4225  \\\n",
       "14125  2016-10-30          3.25      16700.94     2325.93   11142.85   \n",
       "17428  2017-04-16          3.17       3018.56     1255.55      82.31   \n",
       "14124  2016-11-06          3.12      19043.80     5898.49   10039.34   \n",
       "16055  2017-03-12          3.05       2068.26     1043.83      77.36   \n",
       "16720  2017-08-27          3.04      12656.32      419.06    4851.90   \n",
       "...           ...           ...           ...         ...        ...   \n",
       "1716   2015-12-27          0.49    1137707.43   738314.80  286858.37   \n",
       "15262  2017-02-26          0.49      44024.03      252.79    4472.68   \n",
       "15473  2017-03-05          0.48      50890.73      717.57    4138.84   \n",
       "7412   2017-02-05          0.46    2200550.27  1200632.86  531226.65   \n",
       "15261  2017-03-05          0.44      64057.04      223.84    4748.88   \n",
       "\n",
       "           4770  Total Bags  Small Bags  Large Bags  XLarge Bags  \\\n",
       "14125      0.00     3232.16     3232.16        0.00         0.00   \n",
       "17428      0.00     1680.70     1542.22      138.48         0.00   \n",
       "14124      0.00     3105.97     3079.30       26.67         0.00   \n",
       "16055      0.00      947.07      926.67       20.40         0.00   \n",
       "16720    145.09     7240.27     6960.97      279.30         0.00   \n",
       "...         ...         ...         ...         ...          ...   \n",
       "1716   11642.46   100891.80    70749.02    30142.78         0.00   \n",
       "15262      0.00    39298.56      600.00    38698.56         0.00   \n",
       "15473      0.00    46034.32     1385.06    44649.26         0.00   \n",
       "7412   18324.93   450365.83   113752.17   330583.10      6030.56   \n",
       "15261      0.00    59084.32      638.68    58445.64         0.00   \n",
       "\n",
       "               type  year             region  Month  Day   Region  \n",
       "14125       organic  2016       SanFrancisco     10   30   121.00  \n",
       "17428       organic  2017              Tampa      4   16   295.30  \n",
       "14124       organic  2016       SanFrancisco     11    6   121.00  \n",
       "16055       organic  2017  MiamiFtLauderdale      3   12     0.00  \n",
       "16720       organic  2017  RaleighGreensboro      8   27   326.50  \n",
       "...             ...   ...                ...    ...  ...      ...  \n",
       "1716   conventional  2015      PhoenixTucson     12   27  1929.50  \n",
       "15262       organic  2017   CincinnatiDayton      2   26   345.06  \n",
       "15473       organic  2017            Detroit      3    5   359.31  \n",
       "7412   conventional  2017      PhoenixTucson      2    5  1929.50  \n",
       "15261       organic  2017   CincinnatiDayton      3    5   345.06  \n",
       "\n",
       "[18249 rows x 16 columns]"
      ]
     },
     "execution_count": 235,
     "metadata": {},
     "output_type": "execute_result"
    }
   ],
   "source": [
    "df"
   ]
  },
  {
   "cell_type": "code",
   "execution_count": 236,
   "metadata": {},
   "outputs": [
    {
     "data": {
      "text/plain": [
       "Index(['Date', 'AveragePrice', 'Total Volume', '4046', '4225', '4770',\n",
       "       'Total Bags', 'Small Bags', 'Large Bags', 'XLarge Bags', 'type', 'year',\n",
       "       'region', 'Month', 'Day', 'Region'],\n",
       "      dtype='object')"
      ]
     },
     "execution_count": 236,
     "metadata": {},
     "output_type": "execute_result"
    }
   ],
   "source": [
    "df.columns"
   ]
  },
  {
   "cell_type": "code",
   "execution_count": 237,
   "metadata": {},
   "outputs": [
    {
     "data": {
      "text/html": [
       "<div>\n",
       "<style scoped>\n",
       "    .dataframe tbody tr th:only-of-type {\n",
       "        vertical-align: middle;\n",
       "    }\n",
       "\n",
       "    .dataframe tbody tr th {\n",
       "        vertical-align: top;\n",
       "    }\n",
       "\n",
       "    .dataframe thead th {\n",
       "        text-align: right;\n",
       "    }\n",
       "</style>\n",
       "<table border=\"1\" class=\"dataframe\">\n",
       "  <thead>\n",
       "    <tr style=\"text-align: right;\">\n",
       "      <th></th>\n",
       "      <th>Date</th>\n",
       "      <th>AveragePrice</th>\n",
       "      <th>Total Volume</th>\n",
       "      <th>4046</th>\n",
       "      <th>4225</th>\n",
       "      <th>4770</th>\n",
       "      <th>Total Bags</th>\n",
       "      <th>Small Bags</th>\n",
       "      <th>Large Bags</th>\n",
       "      <th>XLarge Bags</th>\n",
       "      <th>type</th>\n",
       "      <th>year</th>\n",
       "      <th>region</th>\n",
       "      <th>Month</th>\n",
       "      <th>Day</th>\n",
       "      <th>Region</th>\n",
       "    </tr>\n",
       "  </thead>\n",
       "  <tbody>\n",
       "    <tr>\n",
       "      <th>11324</th>\n",
       "      <td>2015-09-20</td>\n",
       "      <td>2.79</td>\n",
       "      <td>15197.42</td>\n",
       "      <td>1209.92</td>\n",
       "      <td>13971.53</td>\n",
       "      <td>0.00</td>\n",
       "      <td>15.97</td>\n",
       "      <td>15.97</td>\n",
       "      <td>0.00</td>\n",
       "      <td>0.0</td>\n",
       "      <td>organic</td>\n",
       "      <td>2015</td>\n",
       "      <td>SanFrancisco</td>\n",
       "      <td>9</td>\n",
       "      <td>20</td>\n",
       "      <td>121.0</td>\n",
       "    </tr>\n",
       "    <tr>\n",
       "      <th>11320</th>\n",
       "      <td>2015-10-18</td>\n",
       "      <td>2.79</td>\n",
       "      <td>12642.11</td>\n",
       "      <td>961.55</td>\n",
       "      <td>11680.56</td>\n",
       "      <td>0.00</td>\n",
       "      <td>0.00</td>\n",
       "      <td>0.00</td>\n",
       "      <td>0.00</td>\n",
       "      <td>0.0</td>\n",
       "      <td>organic</td>\n",
       "      <td>2015</td>\n",
       "      <td>SanFrancisco</td>\n",
       "      <td>10</td>\n",
       "      <td>18</td>\n",
       "      <td>121.0</td>\n",
       "    </tr>\n",
       "    <tr>\n",
       "      <th>11327</th>\n",
       "      <td>2015-08-30</td>\n",
       "      <td>2.77</td>\n",
       "      <td>15201.20</td>\n",
       "      <td>1561.91</td>\n",
       "      <td>13617.17</td>\n",
       "      <td>0.00</td>\n",
       "      <td>22.12</td>\n",
       "      <td>22.12</td>\n",
       "      <td>0.00</td>\n",
       "      <td>0.0</td>\n",
       "      <td>organic</td>\n",
       "      <td>2015</td>\n",
       "      <td>SanFrancisco</td>\n",
       "      <td>8</td>\n",
       "      <td>30</td>\n",
       "      <td>121.0</td>\n",
       "    </tr>\n",
       "    <tr>\n",
       "      <th>11331</th>\n",
       "      <td>2015-08-02</td>\n",
       "      <td>2.76</td>\n",
       "      <td>13936.04</td>\n",
       "      <td>1762.59</td>\n",
       "      <td>12145.20</td>\n",
       "      <td>0.00</td>\n",
       "      <td>28.25</td>\n",
       "      <td>28.25</td>\n",
       "      <td>0.00</td>\n",
       "      <td>0.0</td>\n",
       "      <td>organic</td>\n",
       "      <td>2015</td>\n",
       "      <td>SanFrancisco</td>\n",
       "      <td>8</td>\n",
       "      <td>2</td>\n",
       "      <td>121.0</td>\n",
       "    </tr>\n",
       "    <tr>\n",
       "      <th>11332</th>\n",
       "      <td>2015-07-26</td>\n",
       "      <td>2.75</td>\n",
       "      <td>15953.01</td>\n",
       "      <td>2892.83</td>\n",
       "      <td>13047.24</td>\n",
       "      <td>0.00</td>\n",
       "      <td>12.94</td>\n",
       "      <td>12.94</td>\n",
       "      <td>0.00</td>\n",
       "      <td>0.0</td>\n",
       "      <td>organic</td>\n",
       "      <td>2015</td>\n",
       "      <td>SanFrancisco</td>\n",
       "      <td>7</td>\n",
       "      <td>26</td>\n",
       "      <td>121.0</td>\n",
       "    </tr>\n",
       "    <tr>\n",
       "      <th>...</th>\n",
       "      <td>...</td>\n",
       "      <td>...</td>\n",
       "      <td>...</td>\n",
       "      <td>...</td>\n",
       "      <td>...</td>\n",
       "      <td>...</td>\n",
       "      <td>...</td>\n",
       "      <td>...</td>\n",
       "      <td>...</td>\n",
       "      <td>...</td>\n",
       "      <td>...</td>\n",
       "      <td>...</td>\n",
       "      <td>...</td>\n",
       "      <td>...</td>\n",
       "      <td>...</td>\n",
       "      <td>...</td>\n",
       "    </tr>\n",
       "    <tr>\n",
       "      <th>1751</th>\n",
       "      <td>2015-04-26</td>\n",
       "      <td>0.53</td>\n",
       "      <td>1272428.72</td>\n",
       "      <td>1012900.04</td>\n",
       "      <td>159158.29</td>\n",
       "      <td>5832.62</td>\n",
       "      <td>94537.77</td>\n",
       "      <td>76637.06</td>\n",
       "      <td>17900.71</td>\n",
       "      <td>0.0</td>\n",
       "      <td>conventional</td>\n",
       "      <td>2015</td>\n",
       "      <td>PhoenixTucson</td>\n",
       "      <td>4</td>\n",
       "      <td>26</td>\n",
       "      <td>1929.5</td>\n",
       "    </tr>\n",
       "    <tr>\n",
       "      <th>1744</th>\n",
       "      <td>2015-06-14</td>\n",
       "      <td>0.53</td>\n",
       "      <td>1353850.06</td>\n",
       "      <td>1046887.77</td>\n",
       "      <td>180388.89</td>\n",
       "      <td>4263.45</td>\n",
       "      <td>122309.95</td>\n",
       "      <td>94240.24</td>\n",
       "      <td>28069.71</td>\n",
       "      <td>0.0</td>\n",
       "      <td>conventional</td>\n",
       "      <td>2015</td>\n",
       "      <td>PhoenixTucson</td>\n",
       "      <td>6</td>\n",
       "      <td>14</td>\n",
       "      <td>1929.5</td>\n",
       "    </tr>\n",
       "    <tr>\n",
       "      <th>1745</th>\n",
       "      <td>2015-06-07</td>\n",
       "      <td>0.52</td>\n",
       "      <td>1457359.83</td>\n",
       "      <td>1130917.54</td>\n",
       "      <td>199669.94</td>\n",
       "      <td>4499.84</td>\n",
       "      <td>122272.51</td>\n",
       "      <td>90030.35</td>\n",
       "      <td>32242.16</td>\n",
       "      <td>0.0</td>\n",
       "      <td>conventional</td>\n",
       "      <td>2015</td>\n",
       "      <td>PhoenixTucson</td>\n",
       "      <td>6</td>\n",
       "      <td>7</td>\n",
       "      <td>1929.5</td>\n",
       "    </tr>\n",
       "    <tr>\n",
       "      <th>1752</th>\n",
       "      <td>2015-04-19</td>\n",
       "      <td>0.51</td>\n",
       "      <td>1366844.88</td>\n",
       "      <td>1097285.22</td>\n",
       "      <td>164460.99</td>\n",
       "      <td>7534.30</td>\n",
       "      <td>97564.37</td>\n",
       "      <td>44646.67</td>\n",
       "      <td>52917.70</td>\n",
       "      <td>0.0</td>\n",
       "      <td>conventional</td>\n",
       "      <td>2015</td>\n",
       "      <td>PhoenixTucson</td>\n",
       "      <td>4</td>\n",
       "      <td>19</td>\n",
       "      <td>1929.5</td>\n",
       "    </tr>\n",
       "    <tr>\n",
       "      <th>1716</th>\n",
       "      <td>2015-12-27</td>\n",
       "      <td>0.49</td>\n",
       "      <td>1137707.43</td>\n",
       "      <td>738314.80</td>\n",
       "      <td>286858.37</td>\n",
       "      <td>11642.46</td>\n",
       "      <td>100891.80</td>\n",
       "      <td>70749.02</td>\n",
       "      <td>30142.78</td>\n",
       "      <td>0.0</td>\n",
       "      <td>conventional</td>\n",
       "      <td>2015</td>\n",
       "      <td>PhoenixTucson</td>\n",
       "      <td>12</td>\n",
       "      <td>27</td>\n",
       "      <td>1929.5</td>\n",
       "    </tr>\n",
       "  </tbody>\n",
       "</table>\n",
       "<p>5615 rows × 16 columns</p>\n",
       "</div>"
      ],
      "text/plain": [
       "             Date  AveragePrice  Total Volume        4046       4225  \\\n",
       "11324  2015-09-20          2.79      15197.42     1209.92   13971.53   \n",
       "11320  2015-10-18          2.79      12642.11      961.55   11680.56   \n",
       "11327  2015-08-30          2.77      15201.20     1561.91   13617.17   \n",
       "11331  2015-08-02          2.76      13936.04     1762.59   12145.20   \n",
       "11332  2015-07-26          2.75      15953.01     2892.83   13047.24   \n",
       "...           ...           ...           ...         ...        ...   \n",
       "1751   2015-04-26          0.53    1272428.72  1012900.04  159158.29   \n",
       "1744   2015-06-14          0.53    1353850.06  1046887.77  180388.89   \n",
       "1745   2015-06-07          0.52    1457359.83  1130917.54  199669.94   \n",
       "1752   2015-04-19          0.51    1366844.88  1097285.22  164460.99   \n",
       "1716   2015-12-27          0.49    1137707.43   738314.80  286858.37   \n",
       "\n",
       "           4770  Total Bags  Small Bags  Large Bags  XLarge Bags  \\\n",
       "11324      0.00       15.97       15.97        0.00          0.0   \n",
       "11320      0.00        0.00        0.00        0.00          0.0   \n",
       "11327      0.00       22.12       22.12        0.00          0.0   \n",
       "11331      0.00       28.25       28.25        0.00          0.0   \n",
       "11332      0.00       12.94       12.94        0.00          0.0   \n",
       "...         ...         ...         ...         ...          ...   \n",
       "1751    5832.62    94537.77    76637.06    17900.71          0.0   \n",
       "1744    4263.45   122309.95    94240.24    28069.71          0.0   \n",
       "1745    4499.84   122272.51    90030.35    32242.16          0.0   \n",
       "1752    7534.30    97564.37    44646.67    52917.70          0.0   \n",
       "1716   11642.46   100891.80    70749.02    30142.78          0.0   \n",
       "\n",
       "               type  year         region  Month  Day  Region  \n",
       "11324       organic  2015   SanFrancisco      9   20   121.0  \n",
       "11320       organic  2015   SanFrancisco     10   18   121.0  \n",
       "11327       organic  2015   SanFrancisco      8   30   121.0  \n",
       "11331       organic  2015   SanFrancisco      8    2   121.0  \n",
       "11332       organic  2015   SanFrancisco      7   26   121.0  \n",
       "...             ...   ...            ...    ...  ...     ...  \n",
       "1751   conventional  2015  PhoenixTucson      4   26  1929.5  \n",
       "1744   conventional  2015  PhoenixTucson      6   14  1929.5  \n",
       "1745   conventional  2015  PhoenixTucson      6    7  1929.5  \n",
       "1752   conventional  2015  PhoenixTucson      4   19  1929.5  \n",
       "1716   conventional  2015  PhoenixTucson     12   27  1929.5  \n",
       "\n",
       "[5615 rows x 16 columns]"
      ]
     },
     "execution_count": 237,
     "metadata": {},
     "output_type": "execute_result"
    }
   ],
   "source": [
    "df[df['year']==2015]"
   ]
  },
  {
   "cell_type": "code",
   "execution_count": 238,
   "metadata": {},
   "outputs": [
    {
     "data": {
      "text/html": [
       "<div>\n",
       "<style scoped>\n",
       "    .dataframe tbody tr th:only-of-type {\n",
       "        vertical-align: middle;\n",
       "    }\n",
       "\n",
       "    .dataframe tbody tr th {\n",
       "        vertical-align: top;\n",
       "    }\n",
       "\n",
       "    .dataframe thead th {\n",
       "        text-align: right;\n",
       "    }\n",
       "</style>\n",
       "<table border=\"1\" class=\"dataframe\">\n",
       "  <thead>\n",
       "    <tr style=\"text-align: right;\">\n",
       "      <th></th>\n",
       "      <th>Date</th>\n",
       "      <th>AveragePrice</th>\n",
       "      <th>Total Volume</th>\n",
       "      <th>4046</th>\n",
       "      <th>4225</th>\n",
       "      <th>4770</th>\n",
       "      <th>Total Bags</th>\n",
       "      <th>Small Bags</th>\n",
       "      <th>Large Bags</th>\n",
       "      <th>XLarge Bags</th>\n",
       "      <th>type</th>\n",
       "      <th>year</th>\n",
       "      <th>region</th>\n",
       "      <th>Month</th>\n",
       "      <th>Day</th>\n",
       "      <th>Region</th>\n",
       "    </tr>\n",
       "  </thead>\n",
       "  <tbody>\n",
       "    <tr>\n",
       "      <th>11777</th>\n",
       "      <td>2015-01-04</td>\n",
       "      <td>1.70</td>\n",
       "      <td>1885.48</td>\n",
       "      <td>748.62</td>\n",
       "      <td>30.19</td>\n",
       "      <td>0.00</td>\n",
       "      <td>1106.67</td>\n",
       "      <td>1106.67</td>\n",
       "      <td>0.00</td>\n",
       "      <td>0.00</td>\n",
       "      <td>organic</td>\n",
       "      <td>2015</td>\n",
       "      <td>Tampa</td>\n",
       "      <td>1</td>\n",
       "      <td>4</td>\n",
       "      <td>295.30</td>\n",
       "    </tr>\n",
       "    <tr>\n",
       "      <th>155</th>\n",
       "      <td>2015-01-04</td>\n",
       "      <td>1.08</td>\n",
       "      <td>788025.06</td>\n",
       "      <td>53987.31</td>\n",
       "      <td>552906.04</td>\n",
       "      <td>39995.03</td>\n",
       "      <td>141136.68</td>\n",
       "      <td>137146.07</td>\n",
       "      <td>3990.61</td>\n",
       "      <td>0.00</td>\n",
       "      <td>conventional</td>\n",
       "      <td>2015</td>\n",
       "      <td>BaltimoreWashington</td>\n",
       "      <td>1</td>\n",
       "      <td>4</td>\n",
       "      <td>367.75</td>\n",
       "    </tr>\n",
       "    <tr>\n",
       "      <th>11932</th>\n",
       "      <td>2015-01-04</td>\n",
       "      <td>1.64</td>\n",
       "      <td>6182.81</td>\n",
       "      <td>1561.30</td>\n",
       "      <td>2958.17</td>\n",
       "      <td>0.00</td>\n",
       "      <td>1663.34</td>\n",
       "      <td>1663.34</td>\n",
       "      <td>0.00</td>\n",
       "      <td>0.00</td>\n",
       "      <td>organic</td>\n",
       "      <td>2015</td>\n",
       "      <td>WestTexNewMexico</td>\n",
       "      <td>1</td>\n",
       "      <td>4</td>\n",
       "      <td>0.00</td>\n",
       "    </tr>\n",
       "    <tr>\n",
       "      <th>10477</th>\n",
       "      <td>2015-01-04</td>\n",
       "      <td>1.56</td>\n",
       "      <td>58065.35</td>\n",
       "      <td>10049.66</td>\n",
       "      <td>25228.37</td>\n",
       "      <td>3672.89</td>\n",
       "      <td>19114.43</td>\n",
       "      <td>17280.89</td>\n",
       "      <td>1833.54</td>\n",
       "      <td>0.00</td>\n",
       "      <td>organic</td>\n",
       "      <td>2015</td>\n",
       "      <td>Midsouth</td>\n",
       "      <td>1</td>\n",
       "      <td>4</td>\n",
       "      <td>0.00</td>\n",
       "    </tr>\n",
       "    <tr>\n",
       "      <th>519</th>\n",
       "      <td>2015-01-04</td>\n",
       "      <td>0.88</td>\n",
       "      <td>228569.58</td>\n",
       "      <td>3274.30</td>\n",
       "      <td>168764.78</td>\n",
       "      <td>1447.06</td>\n",
       "      <td>55083.44</td>\n",
       "      <td>17525.31</td>\n",
       "      <td>37445.46</td>\n",
       "      <td>112.67</td>\n",
       "      <td>conventional</td>\n",
       "      <td>2015</td>\n",
       "      <td>CincinnatiDayton</td>\n",
       "      <td>1</td>\n",
       "      <td>4</td>\n",
       "      <td>345.06</td>\n",
       "    </tr>\n",
       "    <tr>\n",
       "      <th>...</th>\n",
       "      <td>...</td>\n",
       "      <td>...</td>\n",
       "      <td>...</td>\n",
       "      <td>...</td>\n",
       "      <td>...</td>\n",
       "      <td>...</td>\n",
       "      <td>...</td>\n",
       "      <td>...</td>\n",
       "      <td>...</td>\n",
       "      <td>...</td>\n",
       "      <td>...</td>\n",
       "      <td>...</td>\n",
       "      <td>...</td>\n",
       "      <td>...</td>\n",
       "      <td>...</td>\n",
       "      <td>...</td>\n",
       "    </tr>\n",
       "    <tr>\n",
       "      <th>2028</th>\n",
       "      <td>2015-12-27</td>\n",
       "      <td>0.96</td>\n",
       "      <td>98584.92</td>\n",
       "      <td>33255.50</td>\n",
       "      <td>31680.16</td>\n",
       "      <td>152.86</td>\n",
       "      <td>33496.40</td>\n",
       "      <td>32877.16</td>\n",
       "      <td>0.00</td>\n",
       "      <td>619.24</td>\n",
       "      <td>conventional</td>\n",
       "      <td>2015</td>\n",
       "      <td>Roanoke</td>\n",
       "      <td>12</td>\n",
       "      <td>27</td>\n",
       "      <td>110.99</td>\n",
       "    </tr>\n",
       "    <tr>\n",
       "      <th>1924</th>\n",
       "      <td>2015-12-27</td>\n",
       "      <td>0.96</td>\n",
       "      <td>208425.96</td>\n",
       "      <td>47444.55</td>\n",
       "      <td>86212.38</td>\n",
       "      <td>21669.44</td>\n",
       "      <td>53099.59</td>\n",
       "      <td>52596.72</td>\n",
       "      <td>502.87</td>\n",
       "      <td>0.00</td>\n",
       "      <td>conventional</td>\n",
       "      <td>2015</td>\n",
       "      <td>RaleighGreensboro</td>\n",
       "      <td>12</td>\n",
       "      <td>27</td>\n",
       "      <td>326.50</td>\n",
       "    </tr>\n",
       "    <tr>\n",
       "      <th>1352</th>\n",
       "      <td>2015-12-27</td>\n",
       "      <td>0.96</td>\n",
       "      <td>123669.89</td>\n",
       "      <td>79508.70</td>\n",
       "      <td>8706.29</td>\n",
       "      <td>4748.08</td>\n",
       "      <td>30706.82</td>\n",
       "      <td>23563.06</td>\n",
       "      <td>7140.43</td>\n",
       "      <td>3.33</td>\n",
       "      <td>conventional</td>\n",
       "      <td>2015</td>\n",
       "      <td>Nashville</td>\n",
       "      <td>12</td>\n",
       "      <td>27</td>\n",
       "      <td>1305.40</td>\n",
       "    </tr>\n",
       "    <tr>\n",
       "      <th>520</th>\n",
       "      <td>2015-12-27</td>\n",
       "      <td>0.99</td>\n",
       "      <td>107565.04</td>\n",
       "      <td>41808.54</td>\n",
       "      <td>27120.67</td>\n",
       "      <td>15564.05</td>\n",
       "      <td>23071.78</td>\n",
       "      <td>15032.43</td>\n",
       "      <td>3874.64</td>\n",
       "      <td>4164.71</td>\n",
       "      <td>conventional</td>\n",
       "      <td>2015</td>\n",
       "      <td>Columbus</td>\n",
       "      <td>12</td>\n",
       "      <td>27</td>\n",
       "      <td>570.08</td>\n",
       "    </tr>\n",
       "    <tr>\n",
       "      <th>1716</th>\n",
       "      <td>2015-12-27</td>\n",
       "      <td>0.49</td>\n",
       "      <td>1137707.43</td>\n",
       "      <td>738314.80</td>\n",
       "      <td>286858.37</td>\n",
       "      <td>11642.46</td>\n",
       "      <td>100891.80</td>\n",
       "      <td>70749.02</td>\n",
       "      <td>30142.78</td>\n",
       "      <td>0.00</td>\n",
       "      <td>conventional</td>\n",
       "      <td>2015</td>\n",
       "      <td>PhoenixTucson</td>\n",
       "      <td>12</td>\n",
       "      <td>27</td>\n",
       "      <td>1929.50</td>\n",
       "    </tr>\n",
       "  </tbody>\n",
       "</table>\n",
       "<p>5615 rows × 16 columns</p>\n",
       "</div>"
      ],
      "text/plain": [
       "             Date  AveragePrice  Total Volume       4046       4225      4770  \\\n",
       "11777  2015-01-04          1.70       1885.48     748.62      30.19      0.00   \n",
       "155    2015-01-04          1.08     788025.06   53987.31  552906.04  39995.03   \n",
       "11932  2015-01-04          1.64       6182.81    1561.30    2958.17      0.00   \n",
       "10477  2015-01-04          1.56      58065.35   10049.66   25228.37   3672.89   \n",
       "519    2015-01-04          0.88     228569.58    3274.30  168764.78   1447.06   \n",
       "...           ...           ...           ...        ...        ...       ...   \n",
       "2028   2015-12-27          0.96      98584.92   33255.50   31680.16    152.86   \n",
       "1924   2015-12-27          0.96     208425.96   47444.55   86212.38  21669.44   \n",
       "1352   2015-12-27          0.96     123669.89   79508.70    8706.29   4748.08   \n",
       "520    2015-12-27          0.99     107565.04   41808.54   27120.67  15564.05   \n",
       "1716   2015-12-27          0.49    1137707.43  738314.80  286858.37  11642.46   \n",
       "\n",
       "       Total Bags  Small Bags  Large Bags  XLarge Bags          type  year  \\\n",
       "11777     1106.67     1106.67        0.00         0.00       organic  2015   \n",
       "155     141136.68   137146.07     3990.61         0.00  conventional  2015   \n",
       "11932     1663.34     1663.34        0.00         0.00       organic  2015   \n",
       "10477    19114.43    17280.89     1833.54         0.00       organic  2015   \n",
       "519      55083.44    17525.31    37445.46       112.67  conventional  2015   \n",
       "...           ...         ...         ...          ...           ...   ...   \n",
       "2028     33496.40    32877.16        0.00       619.24  conventional  2015   \n",
       "1924     53099.59    52596.72      502.87         0.00  conventional  2015   \n",
       "1352     30706.82    23563.06     7140.43         3.33  conventional  2015   \n",
       "520      23071.78    15032.43     3874.64      4164.71  conventional  2015   \n",
       "1716    100891.80    70749.02    30142.78         0.00  conventional  2015   \n",
       "\n",
       "                    region  Month  Day   Region  \n",
       "11777                Tampa      1    4   295.30  \n",
       "155    BaltimoreWashington      1    4   367.75  \n",
       "11932     WestTexNewMexico      1    4     0.00  \n",
       "10477             Midsouth      1    4     0.00  \n",
       "519       CincinnatiDayton      1    4   345.06  \n",
       "...                    ...    ...  ...      ...  \n",
       "2028               Roanoke     12   27   110.99  \n",
       "1924     RaleighGreensboro     12   27   326.50  \n",
       "1352             Nashville     12   27  1305.40  \n",
       "520               Columbus     12   27   570.08  \n",
       "1716         PhoenixTucson     12   27  1929.50  \n",
       "\n",
       "[5615 rows x 16 columns]"
      ]
     },
     "execution_count": 238,
     "metadata": {},
     "output_type": "execute_result"
    }
   ],
   "source": [
    "df_1 = df[df['year']==2015]\n",
    "df_1.sort_values(by= 'Date')"
   ]
  },
  {
   "cell_type": "code",
   "execution_count": 239,
   "metadata": {},
   "outputs": [
    {
     "data": {
      "text/html": [
       "<div>\n",
       "<style scoped>\n",
       "    .dataframe tbody tr th:only-of-type {\n",
       "        vertical-align: middle;\n",
       "    }\n",
       "\n",
       "    .dataframe tbody tr th {\n",
       "        vertical-align: top;\n",
       "    }\n",
       "\n",
       "    .dataframe thead th {\n",
       "        text-align: right;\n",
       "    }\n",
       "</style>\n",
       "<table border=\"1\" class=\"dataframe\">\n",
       "  <thead>\n",
       "    <tr style=\"text-align: right;\">\n",
       "      <th></th>\n",
       "      <th>Date</th>\n",
       "      <th>AveragePrice</th>\n",
       "      <th>Total Volume</th>\n",
       "      <th>4046</th>\n",
       "      <th>4225</th>\n",
       "      <th>4770</th>\n",
       "      <th>Total Bags</th>\n",
       "      <th>Small Bags</th>\n",
       "      <th>Large Bags</th>\n",
       "      <th>XLarge Bags</th>\n",
       "      <th>type</th>\n",
       "      <th>year</th>\n",
       "      <th>region</th>\n",
       "      <th>Month</th>\n",
       "      <th>Day</th>\n",
       "      <th>Region</th>\n",
       "    </tr>\n",
       "  </thead>\n",
       "  <tbody>\n",
       "    <tr>\n",
       "      <th>13960</th>\n",
       "      <td>2016-01-03</td>\n",
       "      <td>1.45</td>\n",
       "      <td>5094.68</td>\n",
       "      <td>110.92</td>\n",
       "      <td>2315.25</td>\n",
       "      <td>326.87</td>\n",
       "      <td>2341.64</td>\n",
       "      <td>1223.21</td>\n",
       "      <td>1118.43</td>\n",
       "      <td>0.00</td>\n",
       "      <td>organic</td>\n",
       "      <td>2016</td>\n",
       "      <td>RichmondNorfolk</td>\n",
       "      <td>1</td>\n",
       "      <td>3</td>\n",
       "      <td>293.18</td>\n",
       "    </tr>\n",
       "    <tr>\n",
       "      <th>5303</th>\n",
       "      <td>2016-01-03</td>\n",
       "      <td>0.90</td>\n",
       "      <td>113049.35</td>\n",
       "      <td>25325.06</td>\n",
       "      <td>37805.37</td>\n",
       "      <td>4624.15</td>\n",
       "      <td>45294.77</td>\n",
       "      <td>43671.02</td>\n",
       "      <td>1485.68</td>\n",
       "      <td>138.07</td>\n",
       "      <td>conventional</td>\n",
       "      <td>2016</td>\n",
       "      <td>Spokane</td>\n",
       "      <td>1</td>\n",
       "      <td>3</td>\n",
       "      <td>178.09</td>\n",
       "    </tr>\n",
       "    <tr>\n",
       "      <th>3379</th>\n",
       "      <td>2016-01-03</td>\n",
       "      <td>0.91</td>\n",
       "      <td>192774.07</td>\n",
       "      <td>86025.77</td>\n",
       "      <td>40616.88</td>\n",
       "      <td>32940.14</td>\n",
       "      <td>33191.28</td>\n",
       "      <td>18463.39</td>\n",
       "      <td>6208.46</td>\n",
       "      <td>8519.43</td>\n",
       "      <td>conventional</td>\n",
       "      <td>2016</td>\n",
       "      <td>Columbus</td>\n",
       "      <td>1</td>\n",
       "      <td>3</td>\n",
       "      <td>570.08</td>\n",
       "    </tr>\n",
       "    <tr>\n",
       "      <th>4887</th>\n",
       "      <td>2016-01-03</td>\n",
       "      <td>0.91</td>\n",
       "      <td>156699.18</td>\n",
       "      <td>59481.98</td>\n",
       "      <td>58348.71</td>\n",
       "      <td>182.56</td>\n",
       "      <td>38685.93</td>\n",
       "      <td>37521.60</td>\n",
       "      <td>31.00</td>\n",
       "      <td>1133.33</td>\n",
       "      <td>conventional</td>\n",
       "      <td>2016</td>\n",
       "      <td>Roanoke</td>\n",
       "      <td>1</td>\n",
       "      <td>3</td>\n",
       "      <td>110.99</td>\n",
       "    </tr>\n",
       "    <tr>\n",
       "      <th>14116</th>\n",
       "      <td>2016-01-03</td>\n",
       "      <td>1.41</td>\n",
       "      <td>10975.51</td>\n",
       "      <td>1991.55</td>\n",
       "      <td>5916.03</td>\n",
       "      <td>0.00</td>\n",
       "      <td>3067.93</td>\n",
       "      <td>614.85</td>\n",
       "      <td>2453.08</td>\n",
       "      <td>0.00</td>\n",
       "      <td>organic</td>\n",
       "      <td>2016</td>\n",
       "      <td>SanDiego</td>\n",
       "      <td>1</td>\n",
       "      <td>3</td>\n",
       "      <td>844.02</td>\n",
       "    </tr>\n",
       "    <tr>\n",
       "      <th>...</th>\n",
       "      <td>...</td>\n",
       "      <td>...</td>\n",
       "      <td>...</td>\n",
       "      <td>...</td>\n",
       "      <td>...</td>\n",
       "      <td>...</td>\n",
       "      <td>...</td>\n",
       "      <td>...</td>\n",
       "      <td>...</td>\n",
       "      <td>...</td>\n",
       "      <td>...</td>\n",
       "      <td>...</td>\n",
       "      <td>...</td>\n",
       "      <td>...</td>\n",
       "      <td>...</td>\n",
       "      <td>...</td>\n",
       "    </tr>\n",
       "    <tr>\n",
       "      <th>5460</th>\n",
       "      <td>2016-12-25</td>\n",
       "      <td>1.00</td>\n",
       "      <td>30287853.70</td>\n",
       "      <td>9255125.20</td>\n",
       "      <td>10282925.61</td>\n",
       "      <td>541972.42</td>\n",
       "      <td>10207830.47</td>\n",
       "      <td>7709584.33</td>\n",
       "      <td>2417144.92</td>\n",
       "      <td>81101.22</td>\n",
       "      <td>conventional</td>\n",
       "      <td>2016</td>\n",
       "      <td>TotalUS</td>\n",
       "      <td>12</td>\n",
       "      <td>25</td>\n",
       "      <td>0.00</td>\n",
       "    </tr>\n",
       "    <tr>\n",
       "      <th>12089</th>\n",
       "      <td>2016-12-25</td>\n",
       "      <td>0.77</td>\n",
       "      <td>6098.96</td>\n",
       "      <td>3.00</td>\n",
       "      <td>610.89</td>\n",
       "      <td>0.00</td>\n",
       "      <td>5485.07</td>\n",
       "      <td>862.73</td>\n",
       "      <td>4622.34</td>\n",
       "      <td>0.00</td>\n",
       "      <td>organic</td>\n",
       "      <td>2016</td>\n",
       "      <td>Boise</td>\n",
       "      <td>12</td>\n",
       "      <td>25</td>\n",
       "      <td>216.96</td>\n",
       "    </tr>\n",
       "    <tr>\n",
       "      <th>4888</th>\n",
       "      <td>2016-12-25</td>\n",
       "      <td>1.07</td>\n",
       "      <td>428247.63</td>\n",
       "      <td>119611.90</td>\n",
       "      <td>263467.16</td>\n",
       "      <td>811.18</td>\n",
       "      <td>44357.39</td>\n",
       "      <td>39136.56</td>\n",
       "      <td>2868.61</td>\n",
       "      <td>2352.22</td>\n",
       "      <td>conventional</td>\n",
       "      <td>2016</td>\n",
       "      <td>Sacramento</td>\n",
       "      <td>12</td>\n",
       "      <td>25</td>\n",
       "      <td>257.00</td>\n",
       "    </tr>\n",
       "    <tr>\n",
       "      <th>14533</th>\n",
       "      <td>2016-12-25</td>\n",
       "      <td>1.21</td>\n",
       "      <td>6117.58</td>\n",
       "      <td>254.26</td>\n",
       "      <td>25.30</td>\n",
       "      <td>0.00</td>\n",
       "      <td>5838.02</td>\n",
       "      <td>3800.00</td>\n",
       "      <td>2038.02</td>\n",
       "      <td>0.00</td>\n",
       "      <td>organic</td>\n",
       "      <td>2016</td>\n",
       "      <td>Tampa</td>\n",
       "      <td>12</td>\n",
       "      <td>25</td>\n",
       "      <td>295.30</td>\n",
       "    </tr>\n",
       "    <tr>\n",
       "      <th>12453</th>\n",
       "      <td>2016-12-25</td>\n",
       "      <td>1.75</td>\n",
       "      <td>4561.12</td>\n",
       "      <td>543.08</td>\n",
       "      <td>2287.13</td>\n",
       "      <td>0.00</td>\n",
       "      <td>1730.91</td>\n",
       "      <td>1588.03</td>\n",
       "      <td>142.88</td>\n",
       "      <td>0.00</td>\n",
       "      <td>organic</td>\n",
       "      <td>2016</td>\n",
       "      <td>Columbus</td>\n",
       "      <td>12</td>\n",
       "      <td>25</td>\n",
       "      <td>570.08</td>\n",
       "    </tr>\n",
       "  </tbody>\n",
       "</table>\n",
       "<p>5616 rows × 16 columns</p>\n",
       "</div>"
      ],
      "text/plain": [
       "             Date  AveragePrice  Total Volume        4046         4225  \\\n",
       "13960  2016-01-03          1.45       5094.68      110.92      2315.25   \n",
       "5303   2016-01-03          0.90     113049.35    25325.06     37805.37   \n",
       "3379   2016-01-03          0.91     192774.07    86025.77     40616.88   \n",
       "4887   2016-01-03          0.91     156699.18    59481.98     58348.71   \n",
       "14116  2016-01-03          1.41      10975.51     1991.55      5916.03   \n",
       "...           ...           ...           ...         ...          ...   \n",
       "5460   2016-12-25          1.00   30287853.70  9255125.20  10282925.61   \n",
       "12089  2016-12-25          0.77       6098.96        3.00       610.89   \n",
       "4888   2016-12-25          1.07     428247.63   119611.90    263467.16   \n",
       "14533  2016-12-25          1.21       6117.58      254.26        25.30   \n",
       "12453  2016-12-25          1.75       4561.12      543.08      2287.13   \n",
       "\n",
       "            4770   Total Bags  Small Bags  Large Bags  XLarge Bags  \\\n",
       "13960     326.87      2341.64     1223.21     1118.43         0.00   \n",
       "5303     4624.15     45294.77    43671.02     1485.68       138.07   \n",
       "3379    32940.14     33191.28    18463.39     6208.46      8519.43   \n",
       "4887      182.56     38685.93    37521.60       31.00      1133.33   \n",
       "14116       0.00      3067.93      614.85     2453.08         0.00   \n",
       "...          ...          ...         ...         ...          ...   \n",
       "5460   541972.42  10207830.47  7709584.33  2417144.92     81101.22   \n",
       "12089       0.00      5485.07      862.73     4622.34         0.00   \n",
       "4888      811.18     44357.39    39136.56     2868.61      2352.22   \n",
       "14533       0.00      5838.02     3800.00     2038.02         0.00   \n",
       "12453       0.00      1730.91     1588.03      142.88         0.00   \n",
       "\n",
       "               type  year           region  Month  Day  Region  \n",
       "13960       organic  2016  RichmondNorfolk      1    3  293.18  \n",
       "5303   conventional  2016          Spokane      1    3  178.09  \n",
       "3379   conventional  2016         Columbus      1    3  570.08  \n",
       "4887   conventional  2016          Roanoke      1    3  110.99  \n",
       "14116       organic  2016         SanDiego      1    3  844.02  \n",
       "...             ...   ...              ...    ...  ...     ...  \n",
       "5460   conventional  2016          TotalUS     12   25    0.00  \n",
       "12089       organic  2016            Boise     12   25  216.96  \n",
       "4888   conventional  2016       Sacramento     12   25  257.00  \n",
       "14533       organic  2016            Tampa     12   25  295.30  \n",
       "12453       organic  2016         Columbus     12   25  570.08  \n",
       "\n",
       "[5616 rows x 16 columns]"
      ]
     },
     "execution_count": 239,
     "metadata": {},
     "output_type": "execute_result"
    }
   ],
   "source": [
    "df_2 = df[df['year']==2016]\n",
    "df_2.sort_values(by= 'Date')"
   ]
  },
  {
   "cell_type": "code",
   "execution_count": 240,
   "metadata": {},
   "outputs": [],
   "source": [
    "df.sort_values(by= 'Date', inplace=True)"
   ]
  },
  {
   "cell_type": "code",
   "execution_count": 243,
   "metadata": {},
   "outputs": [
    {
     "data": {
      "text/html": [
       "<div>\n",
       "<style scoped>\n",
       "    .dataframe tbody tr th:only-of-type {\n",
       "        vertical-align: middle;\n",
       "    }\n",
       "\n",
       "    .dataframe tbody tr th {\n",
       "        vertical-align: top;\n",
       "    }\n",
       "\n",
       "    .dataframe thead th {\n",
       "        text-align: right;\n",
       "    }\n",
       "</style>\n",
       "<table border=\"1\" class=\"dataframe\">\n",
       "  <thead>\n",
       "    <tr style=\"text-align: right;\">\n",
       "      <th></th>\n",
       "      <th>AveragePrice</th>\n",
       "    </tr>\n",
       "    <tr>\n",
       "      <th>year</th>\n",
       "      <th></th>\n",
       "    </tr>\n",
       "  </thead>\n",
       "  <tbody>\n",
       "    <tr>\n",
       "      <th>2015</th>\n",
       "      <td>1.375590</td>\n",
       "    </tr>\n",
       "    <tr>\n",
       "      <th>2016</th>\n",
       "      <td>1.338640</td>\n",
       "    </tr>\n",
       "    <tr>\n",
       "      <th>2017</th>\n",
       "      <td>1.515128</td>\n",
       "    </tr>\n",
       "    <tr>\n",
       "      <th>2018</th>\n",
       "      <td>1.347531</td>\n",
       "    </tr>\n",
       "  </tbody>\n",
       "</table>\n",
       "</div>"
      ],
      "text/plain": [
       "      AveragePrice\n",
       "year              \n",
       "2015      1.375590\n",
       "2016      1.338640\n",
       "2017      1.515128\n",
       "2018      1.347531"
      ]
     },
     "execution_count": 243,
     "metadata": {},
     "output_type": "execute_result"
    }
   ],
   "source": [
    "# valores del AveragePrice medios por año\n",
    "a = pd.DataFrame(df.groupby('year')['AveragePrice'].mean())\n",
    "a"
   ]
  },
  {
   "cell_type": "code",
   "execution_count": 244,
   "metadata": {},
   "outputs": [
    {
     "data": {
      "image/png": "[encoded data removed]",
      "text/plain": [
       "<Figure size 720x360 with 1 Axes>"
      ]
     },
     "metadata": {
      "needs_background": "light"
     },
     "output_type": "display_data"
    }
   ],
   "source": [
    "plt.figure(figsize=(10,5))\n",
    "sns.barplot(x=a.index,y=\"AveragePrice\",data= a)\n",
    "plt.title(\"AveragePrice vs year\",  size=20)\n",
    "plt.box(on=None)"
   ]
  },
  {
   "cell_type": "code",
   "execution_count": null,
   "metadata": {},
   "outputs": [],
   "source": []
  },
  {
   "cell_type": "code",
   "execution_count": 245,
   "metadata": {},
   "outputs": [],
   "source": [
    "df_2015 =df[df['year']==2015]"
   ]
  },
  {
   "cell_type": "code",
   "execution_count": 246,
   "metadata": {},
   "outputs": [],
   "source": [
    "df_2016 =df[df['year']==2016]"
   ]
  },
  {
   "cell_type": "code",
   "execution_count": 247,
   "metadata": {},
   "outputs": [],
   "source": [
    "df_2018 =df[df['year']==2018]"
   ]
  },
  {
   "cell_type": "code",
   "execution_count": 248,
   "metadata": {},
   "outputs": [],
   "source": [
    "df_2017 =df[df['year']==2017]"
   ]
  },
  {
   "cell_type": "code",
   "execution_count": 249,
   "metadata": {},
   "outputs": [
    {
     "data": {
      "image/png": "[encoded data removed]",
      "text/plain": [
       "<Figure size 1080x360 with 1 Axes>"
      ]
     },
     "metadata": {
      "needs_background": "light"
     },
     "output_type": "display_data"
    }
   ],
   "source": [
    "plt.figure(figsize= (15,5))\n",
    "sns.boxplot(x=\"Month\", y=\"AveragePrice\", data=df_2015)\n",
    "plt.ylabel(\"AveragePrice (€)\", size = 16)\n",
    "plt.xlabel(\"number of month\", size = 16)\n",
    "plt.title('AveragePrice 2015', size=20)\n",
    "plt.box(on=None)"
   ]
  },
  {
   "cell_type": "code",
   "execution_count": 250,
   "metadata": {},
   "outputs": [
    {
     "data": {
      "image/png": "[encoded data removed]",
      "text/plain": [
       "<Figure size 1080x360 with 1 Axes>"
      ]
     },
     "metadata": {
      "needs_background": "light"
     },
     "output_type": "display_data"
    }
   ],
   "source": [
    "\n",
    "plt.figure(figsize= (15,5))\n",
    "sns.boxplot(x=\"Month\", y=\"AveragePrice\", data=df_2016)\n",
    "plt.ylabel(\"AveragePrice (€)\", size = 16)\n",
    "plt.xlabel(\"number of month\", size = 16)\n",
    "plt.title('AveragePrice 2016', size=20)\n",
    "plt.box(on=None)"
   ]
  },
  {
   "cell_type": "code",
   "execution_count": 251,
   "metadata": {},
   "outputs": [
    {
     "data": {
      "image/png": "[encoded data removed]",
      "text/plain": [
       "<Figure size 1080x360 with 1 Axes>"
      ]
     },
     "metadata": {
      "needs_background": "light"
     },
     "output_type": "display_data"
    }
   ],
   "source": [
    "plt.figure(figsize= (15,5))\n",
    "sns.boxplot(x=\"Month\", y=\"AveragePrice\", data=df_2017)\n",
    "plt.ylabel(\"AveragePrice (€)\", size = 16)\n",
    "plt.xlabel(\"number of month\", size = 16)\n",
    "plt.title('AveragePrice 2017', size=20)\n",
    "plt.box(on=None)\n"
   ]
  },
  {
   "cell_type": "code",
   "execution_count": 252,
   "metadata": {},
   "outputs": [
    {
     "data": {
      "image/png": "[encoded data removed]",
      "text/plain": [
       "<Figure size 720x360 with 1 Axes>"
      ]
     },
     "metadata": {
      "needs_background": "light"
     },
     "output_type": "display_data"
    }
   ],
   "source": [
    "plt.figure(figsize= (10,5))\n",
    "sns.boxplot(x=\"Month\", y=\"AveragePrice\", data=df_2018)\n",
    "plt.ylabel(\"AveragePrice (€)\", size = 16)\n",
    "plt.xlabel(\"number of month\", size = 16)\n",
    "plt.title('AveragePrice 2018', size=20)\n",
    "plt.box(on=None)"
   ]
  },
  {
   "cell_type": "code",
   "execution_count": 253,
   "metadata": {},
   "outputs": [],
   "source": [
    "df['Datetime'] = pd.to_datetime(df['Date'], format=\"%Y/%m/%d\")"
   ]
  },
  {
   "cell_type": "code",
   "execution_count": 254,
   "metadata": {},
   "outputs": [],
   "source": [
    "df = df.sort_values(by= 'Datetime')"
   ]
  },
  {
   "cell_type": "code",
   "execution_count": null,
   "metadata": {},
   "outputs": [],
   "source": []
  },
  {
   "cell_type": "code",
   "execution_count": 255,
   "metadata": {},
   "outputs": [],
   "source": [
    "a = pd.DataFrame(df.groupby('year')['AveragePrice'].mean())"
   ]
  },
  {
   "cell_type": "code",
   "execution_count": 256,
   "metadata": {},
   "outputs": [],
   "source": [
    "# quito cosas de la tabla que correlen mutuamente\n"
   ]
  },
  {
   "cell_type": "code",
   "execution_count": 257,
   "metadata": {},
   "outputs": [],
   "source": [
    "df = df.drop(columns=[ 'Small Bags', 'Large Bags'])"
   ]
  },
  {
   "cell_type": "code",
   "execution_count": 258,
   "metadata": {},
   "outputs": [],
   "source": [
    "df = df.drop(columns=[ 'Date'])"
   ]
  },
  {
   "cell_type": "code",
   "execution_count": 259,
   "metadata": {},
   "outputs": [],
   "source": [
    "df = df.drop(columns=['4225', '4770', 'Total Volume', 'Total Bags', 'region', 'year'])"
   ]
  },
  {
   "cell_type": "code",
   "execution_count": 260,
   "metadata": {},
   "outputs": [
    {
     "data": {
      "text/html": [
       "<div>\n",
       "<style scoped>\n",
       "    .dataframe tbody tr th:only-of-type {\n",
       "        vertical-align: middle;\n",
       "    }\n",
       "\n",
       "    .dataframe tbody tr th {\n",
       "        vertical-align: top;\n",
       "    }\n",
       "\n",
       "    .dataframe thead th {\n",
       "        text-align: right;\n",
       "    }\n",
       "</style>\n",
       "<table border=\"1\" class=\"dataframe\">\n",
       "  <thead>\n",
       "    <tr style=\"text-align: right;\">\n",
       "      <th></th>\n",
       "      <th>AveragePrice</th>\n",
       "      <th>4046</th>\n",
       "      <th>XLarge Bags</th>\n",
       "      <th>type</th>\n",
       "      <th>Month</th>\n",
       "      <th>Day</th>\n",
       "      <th>Region</th>\n",
       "      <th>Datetime</th>\n",
       "    </tr>\n",
       "  </thead>\n",
       "  <tbody>\n",
       "    <tr>\n",
       "      <th>1819</th>\n",
       "      <td>1.52</td>\n",
       "      <td>3013.04</td>\n",
       "      <td>0.0</td>\n",
       "      <td>conventional</td>\n",
       "      <td>1</td>\n",
       "      <td>4</td>\n",
       "      <td>151.10</td>\n",
       "      <td>2015-01-04</td>\n",
       "    </tr>\n",
       "    <tr>\n",
       "      <th>10269</th>\n",
       "      <td>1.50</td>\n",
       "      <td>3730.80</td>\n",
       "      <td>0.0</td>\n",
       "      <td>organic</td>\n",
       "      <td>1</td>\n",
       "      <td>4</td>\n",
       "      <td>352.00</td>\n",
       "      <td>2015-01-04</td>\n",
       "    </tr>\n",
       "    <tr>\n",
       "      <th>10737</th>\n",
       "      <td>1.83</td>\n",
       "      <td>6.81</td>\n",
       "      <td>0.0</td>\n",
       "      <td>organic</td>\n",
       "      <td>1</td>\n",
       "      <td>4</td>\n",
       "      <td>162362.00</td>\n",
       "      <td>2015-01-04</td>\n",
       "    </tr>\n",
       "    <tr>\n",
       "      <th>311</th>\n",
       "      <td>1.40</td>\n",
       "      <td>3267.97</td>\n",
       "      <td>0.0</td>\n",
       "      <td>conventional</td>\n",
       "      <td>1</td>\n",
       "      <td>4</td>\n",
       "      <td>197.21</td>\n",
       "      <td>2015-01-04</td>\n",
       "    </tr>\n",
       "    <tr>\n",
       "      <th>10581</th>\n",
       "      <td>1.41</td>\n",
       "      <td>220.61</td>\n",
       "      <td>0.0</td>\n",
       "      <td>organic</td>\n",
       "      <td>1</td>\n",
       "      <td>4</td>\n",
       "      <td>800.06</td>\n",
       "      <td>2015-01-04</td>\n",
       "    </tr>\n",
       "    <tr>\n",
       "      <th>...</th>\n",
       "      <td>...</td>\n",
       "      <td>...</td>\n",
       "      <td>...</td>\n",
       "      <td>...</td>\n",
       "      <td>...</td>\n",
       "      <td>...</td>\n",
       "      <td>...</td>\n",
       "      <td>...</td>\n",
       "    </tr>\n",
       "    <tr>\n",
       "      <th>17601</th>\n",
       "      <td>1.71</td>\n",
       "      <td>42.95</td>\n",
       "      <td>0.0</td>\n",
       "      <td>organic</td>\n",
       "      <td>3</td>\n",
       "      <td>25</td>\n",
       "      <td>21.80</td>\n",
       "      <td>2018-03-25</td>\n",
       "    </tr>\n",
       "    <tr>\n",
       "      <th>17853</th>\n",
       "      <td>1.65</td>\n",
       "      <td>1541.02</td>\n",
       "      <td>0.0</td>\n",
       "      <td>organic</td>\n",
       "      <td>3</td>\n",
       "      <td>25</td>\n",
       "      <td>352.00</td>\n",
       "      <td>2018-03-25</td>\n",
       "    </tr>\n",
       "    <tr>\n",
       "      <th>18129</th>\n",
       "      <td>1.38</td>\n",
       "      <td>163.55</td>\n",
       "      <td>0.0</td>\n",
       "      <td>organic</td>\n",
       "      <td>3</td>\n",
       "      <td>25</td>\n",
       "      <td>82931.00</td>\n",
       "      <td>2018-03-25</td>\n",
       "    </tr>\n",
       "    <tr>\n",
       "      <th>17949</th>\n",
       "      <td>1.58</td>\n",
       "      <td>19823.16</td>\n",
       "      <td>0.0</td>\n",
       "      <td>organic</td>\n",
       "      <td>3</td>\n",
       "      <td>25</td>\n",
       "      <td>0.00</td>\n",
       "      <td>2018-03-25</td>\n",
       "    </tr>\n",
       "    <tr>\n",
       "      <th>17637</th>\n",
       "      <td>1.81</td>\n",
       "      <td>76.12</td>\n",
       "      <td>0.0</td>\n",
       "      <td>organic</td>\n",
       "      <td>3</td>\n",
       "      <td>25</td>\n",
       "      <td>216.96</td>\n",
       "      <td>2018-03-25</td>\n",
       "    </tr>\n",
       "  </tbody>\n",
       "</table>\n",
       "<p>18249 rows × 8 columns</p>\n",
       "</div>"
      ],
      "text/plain": [
       "       AveragePrice      4046  XLarge Bags          type  Month  Day  \\\n",
       "1819           1.52   3013.04          0.0  conventional      1    4   \n",
       "10269          1.50   3730.80          0.0       organic      1    4   \n",
       "10737          1.83      6.81          0.0       organic      1    4   \n",
       "311            1.40   3267.97          0.0  conventional      1    4   \n",
       "10581          1.41    220.61          0.0       organic      1    4   \n",
       "...             ...       ...          ...           ...    ...  ...   \n",
       "17601          1.71     42.95          0.0       organic      3   25   \n",
       "17853          1.65   1541.02          0.0       organic      3   25   \n",
       "18129          1.38    163.55          0.0       organic      3   25   \n",
       "17949          1.58  19823.16          0.0       organic      3   25   \n",
       "17637          1.81     76.12          0.0       organic      3   25   \n",
       "\n",
       "          Region   Datetime  \n",
       "1819      151.10 2015-01-04  \n",
       "10269     352.00 2015-01-04  \n",
       "10737  162362.00 2015-01-04  \n",
       "311       197.21 2015-01-04  \n",
       "10581     800.06 2015-01-04  \n",
       "...          ...        ...  \n",
       "17601      21.80 2018-03-25  \n",
       "17853     352.00 2018-03-25  \n",
       "18129   82931.00 2018-03-25  \n",
       "17949       0.00 2018-03-25  \n",
       "17637     216.96 2018-03-25  \n",
       "\n",
       "[18249 rows x 8 columns]"
      ]
     },
     "execution_count": 260,
     "metadata": {},
     "output_type": "execute_result"
    }
   ],
   "source": [
    "df"
   ]
  },
  {
   "cell_type": "code",
   "execution_count": 261,
   "metadata": {},
   "outputs": [],
   "source": [
    "# me meto con type\n",
    "\n",
    "df['type'] = df['type'].apply(lambda x: 1 if x== 'organic' else 0)"
   ]
  },
  {
   "cell_type": "code",
   "execution_count": 262,
   "metadata": {},
   "outputs": [
    {
     "data": {
      "text/html": [
       "<div>\n",
       "<style scoped>\n",
       "    .dataframe tbody tr th:only-of-type {\n",
       "        vertical-align: middle;\n",
       "    }\n",
       "\n",
       "    .dataframe tbody tr th {\n",
       "        vertical-align: top;\n",
       "    }\n",
       "\n",
       "    .dataframe thead th {\n",
       "        text-align: right;\n",
       "    }\n",
       "</style>\n",
       "<table border=\"1\" class=\"dataframe\">\n",
       "  <thead>\n",
       "    <tr style=\"text-align: right;\">\n",
       "      <th></th>\n",
       "      <th>AveragePrice</th>\n",
       "      <th>4046</th>\n",
       "      <th>XLarge Bags</th>\n",
       "      <th>type</th>\n",
       "      <th>Month</th>\n",
       "      <th>Day</th>\n",
       "      <th>Region</th>\n",
       "      <th>Datetime</th>\n",
       "    </tr>\n",
       "  </thead>\n",
       "  <tbody>\n",
       "    <tr>\n",
       "      <th>1819</th>\n",
       "      <td>1.52</td>\n",
       "      <td>3013.04</td>\n",
       "      <td>0.0</td>\n",
       "      <td>0</td>\n",
       "      <td>1</td>\n",
       "      <td>4</td>\n",
       "      <td>151.10</td>\n",
       "      <td>2015-01-04</td>\n",
       "    </tr>\n",
       "    <tr>\n",
       "      <th>10269</th>\n",
       "      <td>1.50</td>\n",
       "      <td>3730.80</td>\n",
       "      <td>0.0</td>\n",
       "      <td>1</td>\n",
       "      <td>1</td>\n",
       "      <td>4</td>\n",
       "      <td>352.00</td>\n",
       "      <td>2015-01-04</td>\n",
       "    </tr>\n",
       "    <tr>\n",
       "      <th>10737</th>\n",
       "      <td>1.83</td>\n",
       "      <td>6.81</td>\n",
       "      <td>0.0</td>\n",
       "      <td>1</td>\n",
       "      <td>1</td>\n",
       "      <td>4</td>\n",
       "      <td>162362.00</td>\n",
       "      <td>2015-01-04</td>\n",
       "    </tr>\n",
       "    <tr>\n",
       "      <th>311</th>\n",
       "      <td>1.40</td>\n",
       "      <td>3267.97</td>\n",
       "      <td>0.0</td>\n",
       "      <td>0</td>\n",
       "      <td>1</td>\n",
       "      <td>4</td>\n",
       "      <td>197.21</td>\n",
       "      <td>2015-01-04</td>\n",
       "    </tr>\n",
       "    <tr>\n",
       "      <th>10581</th>\n",
       "      <td>1.41</td>\n",
       "      <td>220.61</td>\n",
       "      <td>0.0</td>\n",
       "      <td>1</td>\n",
       "      <td>1</td>\n",
       "      <td>4</td>\n",
       "      <td>800.06</td>\n",
       "      <td>2015-01-04</td>\n",
       "    </tr>\n",
       "  </tbody>\n",
       "</table>\n",
       "</div>"
      ],
      "text/plain": [
       "       AveragePrice     4046  XLarge Bags  type  Month  Day     Region  \\\n",
       "1819           1.52  3013.04          0.0     0      1    4     151.10   \n",
       "10269          1.50  3730.80          0.0     1      1    4     352.00   \n",
       "10737          1.83     6.81          0.0     1      1    4  162362.00   \n",
       "311            1.40  3267.97          0.0     0      1    4     197.21   \n",
       "10581          1.41   220.61          0.0     1      1    4     800.06   \n",
       "\n",
       "        Datetime  \n",
       "1819  2015-01-04  \n",
       "10269 2015-01-04  \n",
       "10737 2015-01-04  \n",
       "311   2015-01-04  \n",
       "10581 2015-01-04  "
      ]
     },
     "execution_count": 262,
     "metadata": {},
     "output_type": "execute_result"
    }
   ],
   "source": [
    "df.head()"
   ]
  },
  {
   "cell_type": "code",
   "execution_count": 263,
   "metadata": {},
   "outputs": [
    {
     "data": {
      "image/png": "[encoded data removed]",
      "text/plain": [
       "<Figure size 432x288 with 1 Axes>"
      ]
     },
     "metadata": {
      "needs_background": "light"
     },
     "output_type": "display_data"
    }
   ],
   "source": [
    "# ahora vamos con la columna de las regiones\n",
    "\n",
    "plt.title(\"Avg.Price of Avocado by type\")\n",
    "sns.barplot(data= df, y=\"AveragePrice\", x=\"type\")\n",
    "plt.ylabel(\"AveragePrice (€)\", size = 16)\n",
    "plt.xlabel(\"type\", size = 16)\n",
    "plt.title('type of avocado', size=20)\n",
    "plt.box(on=None)"
   ]
  },
  {
   "cell_type": "code",
   "execution_count": 264,
   "metadata": {},
   "outputs": [
    {
     "data": {
      "image/png": "[encoded data removed]",
      "text/plain": [
       "<Figure size 432x432 with 3 Axes>"
      ]
     },
     "metadata": {
      "needs_background": "light"
     },
     "output_type": "display_data"
    }
   ],
   "source": [
    "sns.jointplot(x=\"type\", y=\"AveragePrice\", data=df, kind=\"reg\");"
   ]
  },
  {
   "cell_type": "code",
   "execution_count": 265,
   "metadata": {},
   "outputs": [
    {
     "data": {
      "image/png": "[encoded data removed]",
      "text/plain": [
       "<Figure size 432x432 with 3 Axes>"
      ]
     },
     "metadata": {
      "needs_background": "light"
     },
     "output_type": "display_data"
    }
   ],
   "source": [
    "sns.jointplot(x=\"Month\", y=\"AveragePrice\", data=df, kind=\"reg\");"
   ]
  },
  {
   "cell_type": "code",
   "execution_count": 266,
   "metadata": {},
   "outputs": [
    {
     "data": {
      "image/png": "[encoded data removed]",
      "text/plain": [
       "<Figure size 1080x1080 with 2 Axes>"
      ]
     },
     "metadata": {
      "needs_background": "light"
     },
     "output_type": "display_data"
    }
   ],
   "source": [
    "plt.figure(figsize=(15,15))\n",
    "sns.heatmap(df.corr(), annot=True)\n",
    "\n",
    "plt.title('correlation matrix', size=20)\n",
    "plt.box(on=None)\n"
   ]
  },
  {
   "cell_type": "code",
   "execution_count": 267,
   "metadata": {},
   "outputs": [],
   "source": [
    "#Busqueda de outliers\n"
   ]
  },
  {
   "cell_type": "code",
   "execution_count": 268,
   "metadata": {},
   "outputs": [],
   "source": [
    "import numpy as np\n",
    "out=[]\n",
    "def iqr_outliers(df):\n",
    "    q1 = df.quantile(0.25)\n",
    "    q3 = df.quantile(0.75)\n",
    "    iqr = q3-q1\n",
    "    Lower_tail = q1 - 1.5 * iqr\n",
    "    Upper_tail = q3 + 1.5 * iqr\n",
    "    for i in df:\n",
    "        if i > Upper_tail or i < Lower_tail:\n",
    "            out.append(i)\n",
    "   # print(\"Outliers:\",out)"
   ]
  },
  {
   "cell_type": "code",
   "execution_count": 269,
   "metadata": {},
   "outputs": [
    {
     "data": {
      "text/plain": [
       "18249"
      ]
     },
     "execution_count": 269,
     "metadata": {},
     "output_type": "execute_result"
    }
   ],
   "source": [
    "len(df)"
   ]
  },
  {
   "cell_type": "code",
   "execution_count": 270,
   "metadata": {},
   "outputs": [
    {
     "name": "stdout",
     "output_type": "stream",
     "text": [
      "el numero de outliers en 4046 es:  2518 es el  13.7980163296619 % de los valores\n"
     ]
    }
   ],
   "source": [
    "iqr_outliers(df['4046'])\n",
    "print ( 'el numero de outliers en 4046 es: ', len (out), 'es el ', 100*len(out)/len(df),'%','de los valores' )"
   ]
  },
  {
   "cell_type": "code",
   "execution_count": 271,
   "metadata": {},
   "outputs": [
    {
     "name": "stdout",
     "output_type": "stream",
     "text": [
      "el numero de outliers en XLarge Bags es:  6532 es el  35.793742122856045 % de los valores\n"
     ]
    }
   ],
   "source": [
    "iqr_outliers(df['XLarge Bags'])\n",
    "print ( 'el numero de outliers en XLarge Bags es: ', len (out), 'es el ', 100*len(out)/len(df),'%','de los valores' )"
   ]
  },
  {
   "cell_type": "code",
   "execution_count": 272,
   "metadata": {},
   "outputs": [
    {
     "name": "stdout",
     "output_type": "stream",
     "text": [
      "el numero de outliers en type es:  6532 es el  35.793742122856045 % de los valores\n"
     ]
    }
   ],
   "source": [
    "iqr_outliers(df['type'])\n",
    "print ( 'el numero de outliers en type es: ', len (out), 'es el ', 100*len(out)/len(df),'%','de los valores' )"
   ]
  },
  {
   "cell_type": "code",
   "execution_count": 273,
   "metadata": {},
   "outputs": [
    {
     "name": "stdout",
     "output_type": "stream",
     "text": [
      "el numero de outliers en Month es:  6532 es el  35.793742122856045 % de los valores\n"
     ]
    }
   ],
   "source": [
    "iqr_outliers(df['Month'])\n",
    "print ( 'el numero de outliers en Month es: ', len (out), 'es el ', 100*len(out)/len(df),'%','de los valores' )"
   ]
  },
  {
   "cell_type": "code",
   "execution_count": 274,
   "metadata": {},
   "outputs": [
    {
     "name": "stdout",
     "output_type": "stream",
     "text": [
      "el numero de outliers en Region es:  8560 es el  46.90667981807222 % de los valores\n"
     ]
    }
   ],
   "source": [
    "iqr_outliers(df['Region'])\n",
    "print ( 'el numero de outliers en Region es: ', len (out), 'es el ', 100*len(out)/len(df),'%','de los valores' )"
   ]
  },
  {
   "cell_type": "code",
   "execution_count": 275,
   "metadata": {},
   "outputs": [
    {
     "name": "stderr",
     "output_type": "stream",
     "text": [
      "c:\\Users\\enriq\\AppData\\Local\\Programs\\Python\\Python37\\lib\\site-packages\\seaborn\\distributions.py:2619: FutureWarning: `distplot` is a deprecated function and will be removed in a future version. Please adapt your code to use either `displot` (a figure-level function with similar flexibility) or `histplot` (an axes-level function for histograms).\n",
      "  warnings.warn(msg, FutureWarning)\n"
     ]
    },
    {
     "data": {
      "image/png": "[encoded data removed]",
      "text/plain": [
       "<Figure size 432x288 with 1 Axes>"
      ]
     },
     "metadata": {
      "needs_background": "light"
     },
     "output_type": "display_data"
    }
   ],
   "source": [
    "sns.distplot(df['AveragePrice']); "
   ]
  },
  {
   "cell_type": "code",
   "execution_count": 276,
   "metadata": {},
   "outputs": [
    {
     "name": "stderr",
     "output_type": "stream",
     "text": [
      "c:\\Users\\enriq\\AppData\\Local\\Programs\\Python\\Python37\\lib\\site-packages\\seaborn\\distributions.py:2619: FutureWarning: `distplot` is a deprecated function and will be removed in a future version. Please adapt your code to use either `displot` (a figure-level function with similar flexibility) or `histplot` (an axes-level function for histograms).\n",
      "  warnings.warn(msg, FutureWarning)\n"
     ]
    },
    {
     "data": {
      "image/png": "[encoded data removed]",
      "text/plain": [
       "<Figure size 1080x504 with 1 Axes>"
      ]
     },
     "metadata": {
      "needs_background": "light"
     },
     "output_type": "display_data"
    }
   ],
   "source": [
    "plt.figure(figsize=(15,7))\n",
    "sns.distplot(df['4046']); "
   ]
  },
  {
   "cell_type": "code",
   "execution_count": 277,
   "metadata": {},
   "outputs": [
    {
     "name": "stderr",
     "output_type": "stream",
     "text": [
      "c:\\Users\\enriq\\AppData\\Local\\Programs\\Python\\Python37\\lib\\site-packages\\seaborn\\distributions.py:2619: FutureWarning: `distplot` is a deprecated function and will be removed in a future version. Please adapt your code to use either `displot` (a figure-level function with similar flexibility) or `histplot` (an axes-level function for histograms).\n",
      "  warnings.warn(msg, FutureWarning)\n"
     ]
    },
    {
     "data": {
      "image/png": "[encoded data removed]",
      "text/plain": [
       "<Figure size 1080x504 with 1 Axes>"
      ]
     },
     "metadata": {
      "needs_background": "light"
     },
     "output_type": "display_data"
    }
   ],
   "source": [
    "plt.figure(figsize=(15,7))\n",
    "sns.distplot(df['XLarge Bags']); "
   ]
  },
  {
   "cell_type": "code",
   "execution_count": 278,
   "metadata": {},
   "outputs": [
    {
     "name": "stderr",
     "output_type": "stream",
     "text": [
      "c:\\Users\\enriq\\AppData\\Local\\Programs\\Python\\Python37\\lib\\site-packages\\seaborn\\distributions.py:2619: FutureWarning: `distplot` is a deprecated function and will be removed in a future version. Please adapt your code to use either `displot` (a figure-level function with similar flexibility) or `histplot` (an axes-level function for histograms).\n",
      "  warnings.warn(msg, FutureWarning)\n"
     ]
    },
    {
     "data": {
      "image/png": "[encoded data removed]",
      "text/plain": [
       "<Figure size 1080x504 with 1 Axes>"
      ]
     },
     "metadata": {
      "needs_background": "light"
     },
     "output_type": "display_data"
    }
   ],
   "source": [
    "plt.figure(figsize=(15,7))\n",
    "sns.distplot(df['Month']); "
   ]
  },
  {
   "cell_type": "code",
   "execution_count": 279,
   "metadata": {},
   "outputs": [
    {
     "name": "stderr",
     "output_type": "stream",
     "text": [
      "c:\\Users\\enriq\\AppData\\Local\\Programs\\Python\\Python37\\lib\\site-packages\\seaborn\\distributions.py:2619: FutureWarning: `distplot` is a deprecated function and will be removed in a future version. Please adapt your code to use either `displot` (a figure-level function with similar flexibility) or `histplot` (an axes-level function for histograms).\n",
      "  warnings.warn(msg, FutureWarning)\n"
     ]
    },
    {
     "data": {
      "image/png": "[encoded data removed]",
      "text/plain": [
       "<Figure size 1080x504 with 1 Axes>"
      ]
     },
     "metadata": {
      "needs_background": "light"
     },
     "output_type": "display_data"
    }
   ],
   "source": [
    "plt.figure(figsize=(15,7))\n",
    "sns.distplot(df['Region']); "
   ]
  },
  {
   "cell_type": "code",
   "execution_count": 280,
   "metadata": {},
   "outputs": [
    {
     "data": {
      "text/plain": [
       "Index(['AveragePrice', '4046', 'XLarge Bags', 'type', 'Month', 'Day', 'Region',\n",
       "       'Datetime'],\n",
       "      dtype='object')"
      ]
     },
     "execution_count": 280,
     "metadata": {},
     "output_type": "execute_result"
    }
   ],
   "source": [
    "df.columns"
   ]
  },
  {
   "cell_type": "code",
   "execution_count": 281,
   "metadata": {},
   "outputs": [],
   "source": [
    "# EN ESTOS MODELOS UTILIZO LOS DATOS SIN QUITAR LOS OUTLIERS Y SIN INTENTAR AJUSTAR LOS DATOS DE LAS \n",
    "# COLUMNAS DE LA MANERA MAS NORMAL POSIBLE"
   ]
  },
  {
   "cell_type": "code",
   "execution_count": 282,
   "metadata": {},
   "outputs": [],
   "source": [
    "# primer modelo"
   ]
  },
  {
   "cell_type": "code",
   "execution_count": 430,
   "metadata": {},
   "outputs": [],
   "source": [
    "X = df.drop(columns=['Datetime', 'AveragePrice'])\n",
    "y=df['AveragePrice']"
   ]
  },
  {
   "cell_type": "code",
   "execution_count": 284,
   "metadata": {},
   "outputs": [
    {
     "data": {
      "text/html": [
       "<div>\n",
       "<style scoped>\n",
       "    .dataframe tbody tr th:only-of-type {\n",
       "        vertical-align: middle;\n",
       "    }\n",
       "\n",
       "    .dataframe tbody tr th {\n",
       "        vertical-align: top;\n",
       "    }\n",
       "\n",
       "    .dataframe thead th {\n",
       "        text-align: right;\n",
       "    }\n",
       "</style>\n",
       "<table border=\"1\" class=\"dataframe\">\n",
       "  <thead>\n",
       "    <tr style=\"text-align: right;\">\n",
       "      <th></th>\n",
       "      <th>4046</th>\n",
       "      <th>XLarge Bags</th>\n",
       "      <th>type</th>\n",
       "      <th>Month</th>\n",
       "      <th>Day</th>\n",
       "      <th>Region</th>\n",
       "    </tr>\n",
       "  </thead>\n",
       "  <tbody>\n",
       "    <tr>\n",
       "      <th>1819</th>\n",
       "      <td>3013.04</td>\n",
       "      <td>0.0</td>\n",
       "      <td>0</td>\n",
       "      <td>1</td>\n",
       "      <td>4</td>\n",
       "      <td>151.10</td>\n",
       "    </tr>\n",
       "    <tr>\n",
       "      <th>10269</th>\n",
       "      <td>3730.80</td>\n",
       "      <td>0.0</td>\n",
       "      <td>1</td>\n",
       "      <td>1</td>\n",
       "      <td>4</td>\n",
       "      <td>352.00</td>\n",
       "    </tr>\n",
       "    <tr>\n",
       "      <th>10737</th>\n",
       "      <td>6.81</td>\n",
       "      <td>0.0</td>\n",
       "      <td>1</td>\n",
       "      <td>1</td>\n",
       "      <td>4</td>\n",
       "      <td>162362.00</td>\n",
       "    </tr>\n",
       "    <tr>\n",
       "      <th>311</th>\n",
       "      <td>3267.97</td>\n",
       "      <td>0.0</td>\n",
       "      <td>0</td>\n",
       "      <td>1</td>\n",
       "      <td>4</td>\n",
       "      <td>197.21</td>\n",
       "    </tr>\n",
       "    <tr>\n",
       "      <th>10581</th>\n",
       "      <td>220.61</td>\n",
       "      <td>0.0</td>\n",
       "      <td>1</td>\n",
       "      <td>1</td>\n",
       "      <td>4</td>\n",
       "      <td>800.06</td>\n",
       "    </tr>\n",
       "    <tr>\n",
       "      <th>...</th>\n",
       "      <td>...</td>\n",
       "      <td>...</td>\n",
       "      <td>...</td>\n",
       "      <td>...</td>\n",
       "      <td>...</td>\n",
       "      <td>...</td>\n",
       "    </tr>\n",
       "    <tr>\n",
       "      <th>17601</th>\n",
       "      <td>42.95</td>\n",
       "      <td>0.0</td>\n",
       "      <td>1</td>\n",
       "      <td>3</td>\n",
       "      <td>25</td>\n",
       "      <td>21.80</td>\n",
       "    </tr>\n",
       "    <tr>\n",
       "      <th>17853</th>\n",
       "      <td>1541.02</td>\n",
       "      <td>0.0</td>\n",
       "      <td>1</td>\n",
       "      <td>3</td>\n",
       "      <td>25</td>\n",
       "      <td>352.00</td>\n",
       "    </tr>\n",
       "    <tr>\n",
       "      <th>18129</th>\n",
       "      <td>163.55</td>\n",
       "      <td>0.0</td>\n",
       "      <td>1</td>\n",
       "      <td>3</td>\n",
       "      <td>25</td>\n",
       "      <td>82931.00</td>\n",
       "    </tr>\n",
       "    <tr>\n",
       "      <th>17949</th>\n",
       "      <td>19823.16</td>\n",
       "      <td>0.0</td>\n",
       "      <td>1</td>\n",
       "      <td>3</td>\n",
       "      <td>25</td>\n",
       "      <td>0.00</td>\n",
       "    </tr>\n",
       "    <tr>\n",
       "      <th>17637</th>\n",
       "      <td>76.12</td>\n",
       "      <td>0.0</td>\n",
       "      <td>1</td>\n",
       "      <td>3</td>\n",
       "      <td>25</td>\n",
       "      <td>216.96</td>\n",
       "    </tr>\n",
       "  </tbody>\n",
       "</table>\n",
       "<p>18249 rows × 6 columns</p>\n",
       "</div>"
      ],
      "text/plain": [
       "           4046  XLarge Bags  type  Month  Day     Region\n",
       "1819    3013.04          0.0     0      1    4     151.10\n",
       "10269   3730.80          0.0     1      1    4     352.00\n",
       "10737      6.81          0.0     1      1    4  162362.00\n",
       "311     3267.97          0.0     0      1    4     197.21\n",
       "10581    220.61          0.0     1      1    4     800.06\n",
       "...         ...          ...   ...    ...  ...        ...\n",
       "17601     42.95          0.0     1      3   25      21.80\n",
       "17853   1541.02          0.0     1      3   25     352.00\n",
       "18129    163.55          0.0     1      3   25   82931.00\n",
       "17949  19823.16          0.0     1      3   25       0.00\n",
       "17637     76.12          0.0     1      3   25     216.96\n",
       "\n",
       "[18249 rows x 6 columns]"
      ]
     },
     "execution_count": 284,
     "metadata": {},
     "output_type": "execute_result"
    }
   ],
   "source": [
    "X"
   ]
  },
  {
   "cell_type": "code",
   "execution_count": 433,
   "metadata": {},
   "outputs": [],
   "source": [
    "from sklearn.model_selection import train_test_split\n",
    "\n",
    "X_train, X_test, y_train, y_test = train_test_split(X,y,test_size = 0.2, random_state=42)"
   ]
  },
  {
   "cell_type": "code",
   "execution_count": 434,
   "metadata": {},
   "outputs": [
    {
     "data": {
      "text/plain": [
       "RandomForestRegressor(random_state=7)"
      ]
     },
     "execution_count": 434,
     "metadata": {},
     "output_type": "execute_result"
    }
   ],
   "source": [
    "from sklearn.ensemble import RandomForestRegressor\n",
    "\n",
    "model = RandomForestRegressor(random_state=7)\n",
    "\n",
    "model.fit(X_train, y_train)"
   ]
  },
  {
   "cell_type": "code",
   "execution_count": 437,
   "metadata": {},
   "outputs": [],
   "source": [
    "y_pred= model.predict(X_test)"
   ]
  },
  {
   "cell_type": "code",
   "execution_count": 438,
   "metadata": {},
   "outputs": [
    {
     "name": "stdout",
     "output_type": "stream",
     "text": [
      "el mae es: 0.1598361095890411\n",
      "el mean_squared_error es 0.048687570290410966\n",
      "el score en test es: 0.7082603929026569\n",
      "el score en train es: 0.9603295342077294\n",
      "el % mae es: 0.11833456376133446\n"
     ]
    }
   ],
   "source": [
    "from sklearn.metrics import mean_absolute_error as mae, mean_squared_error, explained_variance_score, r2_score, mean_absolute_percentage_error\n",
    "\n",
    "print('el mae es:', mae(y_test, y_pred) )\n",
    "print( 'el mean_squared_error es', mean_squared_error(y_test, y_pred))\n",
    "print('el score en test es:', r2_score(y_test, y_pred) )\n",
    "print('el score en train es:', model.score(X_train, y_train))\n",
    "print('el % mae es:', mean_absolute_percentage_error(y_test, y_pred) )"
   ]
  },
  {
   "cell_type": "code",
   "execution_count": 439,
   "metadata": {},
   "outputs": [],
   "source": [
    "import pickle"
   ]
  },
  {
   "cell_type": "code",
   "execution_count": 451,
   "metadata": {},
   "outputs": [],
   "source": [
    "pickle.dump(model, open('my_model.pkl','wb'))"
   ]
  },
  {
   "cell_type": "code",
   "execution_count": 461,
   "metadata": {},
   "outputs": [],
   "source": [
    "object = pd.read_pickle(r'C:\\Users\\enriq\\OneDrive\\Escritorio\\curso\\alumno\\prueba Machine Learning\\proyecto Aguacate\\src\\model\\my_model.pkl')"
   ]
  },
  {
   "cell_type": "code",
   "execution_count": 422,
   "metadata": {},
   "outputs": [
    {
     "data": {
      "text/plain": [
       "<BarContainer object of 6 artists>"
      ]
     },
     "execution_count": 422,
     "metadata": {},
     "output_type": "execute_result"
    },
    {
     "data": {
      "image/png": "[encoded data removed]",
      "text/plain": [
       "<Figure size 432x288 with 1 Axes>"
      ]
     },
     "metadata": {
      "needs_background": "light"
     },
     "output_type": "display_data"
    }
   ],
   "source": [
    "plt.bar(range(len(model.feature_importances_)), model.feature_importances_)\n",
    "plt.xticks"
   ]
  },
  {
   "cell_type": "code",
   "execution_count": 429,
   "metadata": {},
   "outputs": [
    {
     "data": {
      "image/png": "[encoded data removed]",
      "text/plain": [
       "<Figure size 432x288 with 1 Axes>"
      ]
     },
     "metadata": {
      "needs_background": "light"
     },
     "output_type": "display_data"
    }
   ],
   "source": [
    "importances = model.feature_importances_\n",
    "\n",
    "indices = np.argsort(importances)\n",
    "\n",
    "\n",
    "fig, ax = plt.subplots()\n",
    "ax.barh(range(len(importances)), importances[indices])\n",
    "ax.set_yticks(range(len(importances)))\n",
    "_ = ax.set_yticklabels(np.array(X_train.columns)[indices])\n",
    "\n",
    "plt.title('Feature Importances in RandomForest Model', size=20)\n",
    "plt.box(on=None)\n",
    "\n",
    "# plt.figure(figsize= (10,5))\n",
    "# sns.boxplot(x=\"Month\", y=\"AveragePrice\", data=df_2018)\n",
    "# plt.ylabel(\"AveragePrice (€)\", size = 16)\n",
    "# plt.xlabel(\"number of month\", size = 16)\n",
    "# plt.title('AveragePrice 2018', size=20)\n",
    "# plt.box(on=None)"
   ]
  },
  {
   "cell_type": "code",
   "execution_count": 421,
   "metadata": {},
   "outputs": [
    {
     "name": "stdout",
     "output_type": "stream",
     "text": [
      "el mae es: 0.1598361095890411\n",
      "el mean_squared_error es 0.048687570290410966\n",
      "el score en test es: 0.7082603929026569\n",
      "el score en train es: 0.9603295342077294\n",
      "el % mae es: 0.11833456376133446\n"
     ]
    }
   ],
   "source": [
    "from sklearn.metrics import mean_absolute_error as mae, mean_squared_error, explained_variance_score, r2_score, mean_absolute_percentage_error\n",
    "\n",
    "print('el mae es:', mae(y_test, y_pred) )\n",
    "print( 'el mean_squared_error es', mean_squared_error(y_test, y_pred))\n",
    "print('el score en test es:', r2_score(y_test, y_pred) )\n",
    "print('el score en train es:', model.score(X_train, y_train))\n",
    "print('el % mae es:', mean_absolute_percentage_error(y_test, y_pred) )"
   ]
  },
  {
   "cell_type": "code",
   "execution_count": null,
   "metadata": {},
   "outputs": [],
   "source": [
    "# otro modelo de random forest con gridSearch\n",
    "\n",
    "# from sklearn.model_selection import GridSearchCV\n",
    "\n",
    "# parameters = {'n_estimators' : [100,150,200],\n",
    "#               'max_depth': [2,3,4],\n",
    "#               'min_samples_split': [5,10],\n",
    "#               'min_samples_leaf': [1,4,6],\n",
    "#               'max_features':['sqrt', 'log2', None],\n",
    "#               'bootstrap': [True,False]\n",
    "              \n",
    "#             }\n",
    "\n",
    "\n",
    "# model = RandomForestRegressor(random_state=7, criterion= 'absolute_error')\n",
    "\n",
    "# rf = GridSearchCV(model, parameters, cv=3)\n",
    "\n",
    "# rf.fit(X_train, y_train )"
   ]
  },
  {
   "cell_type": "code",
   "execution_count": null,
   "metadata": {},
   "outputs": [
    {
     "data": {
      "text/plain": [
       "{'bootstrap': True,\n",
       " 'max_depth': 4,\n",
       " 'max_features': None,\n",
       " 'min_samples_leaf': 1,\n",
       " 'min_samples_split': 5,\n",
       " 'n_estimators': 200}"
      ]
     },
     "execution_count": 543,
     "metadata": {},
     "output_type": "execute_result"
    }
   ],
   "source": [
    "#rf.best_params_"
   ]
  },
  {
   "cell_type": "code",
   "execution_count": null,
   "metadata": {},
   "outputs": [],
   "source": [
    "#y_pred_rf_gs= rf.best_estimator_.predict(X_test)"
   ]
  },
  {
   "cell_type": "code",
   "execution_count": null,
   "metadata": {},
   "outputs": [
    {
     "name": "stdout",
     "output_type": "stream",
     "text": [
      "el mae es: 0.2155177876712329\n",
      "el mean_squared_error es 0.08409191236866441\n",
      "el score es: 0.46642726547130375\n",
      "el % mae es: 0.1602696167569188\n"
     ]
    }
   ],
   "source": [
    "# print('el mae es:', mae(y_test, y_pred_rf_gs) )\n",
    "# print( 'el mean_squared_error es', mean_squared_error(y_test, y_pred_rf_gs))\n",
    "# print('el score es:', r2_score(y_test, y_pred_rf_gs) )\n",
    "# print('el % mae es:', mean_absolute_percentage_error(y_test, y_pred_rf_gs) )"
   ]
  },
  {
   "cell_type": "code",
   "execution_count": null,
   "metadata": {},
   "outputs": [],
   "source": [
    "# la conclusion es que con el GridSearch no mejoro el modelo del random forest, \n",
    "# de momento el randon forest hecho en el apartado anterior tiene la mejor accuracy"
   ]
  },
  {
   "cell_type": "code",
   "execution_count": null,
   "metadata": {},
   "outputs": [
    {
     "name": "stdout",
     "output_type": "stream",
     "text": [
      "el mae es: 0.16127221917808218\n",
      "el mean_squared_error es 0.04800257409349316\n",
      "el score es: 0.6954182155925646\n",
      "el % mae es: 0.12069293439076365\n"
     ]
    }
   ],
   "source": [
    "# intento mejorar el randon forest\n",
    "\n",
    "model = RandomForestRegressor(n_estimators= 200, criterion ='absolute_error',min_samples_split= 3,\n",
    "                              min_samples_leaf= 2,\n",
    "                              random_state=7,\n",
    "                              min_weight_fraction_leaf=0.0,\n",
    "                              min_impurity_decrease= 0.0)\n",
    "\n",
    "model.fit(X_train, y_train)\n",
    "\n",
    "y_pred= model.predict(X_test)\n",
    "\n",
    "print('el mae es:', mae(y_test, y_pred) )\n",
    "print( 'el mean_squared_error es', mean_squared_error(y_test, y_pred))\n",
    "print('el score es:', r2_score(y_test, y_pred) )\n",
    "print('el % mae es:', mean_absolute_percentage_error(y_test, y_pred) )"
   ]
  },
  {
   "cell_type": "code",
   "execution_count": null,
   "metadata": {},
   "outputs": [],
   "source": [
    "#Modelo KNN\n",
    "# para este modelo tengo que escalar los valores primero"
   ]
  },
  {
   "cell_type": "code",
   "execution_count": 293,
   "metadata": {},
   "outputs": [],
   "source": [
    "from sklearn.preprocessing import MinMaxScaler\n",
    "\n",
    "scaler = MinMaxScaler()\n",
    "# scaler.fit(X_train)\n",
    "# X_train_scal = scaler.transform(X_train)\n",
    "X_train_scal = scaler.fit_transform(X_train)  # Valor mínimo 10 --> 0, Valor máximo 50 --> 1\n",
    "X_test_scal = scaler.transform(X_test)"
   ]
  },
  {
   "cell_type": "code",
   "execution_count": null,
   "metadata": {},
   "outputs": [
    {
     "data": {
      "text/plain": [
       "GridSearchCV(cv=3, estimator=KNeighborsRegressor(),\n",
       "             param_grid={'n_neighbors': range(1, 30)})"
      ]
     },
     "execution_count": 548,
     "metadata": {},
     "output_type": "execute_result"
    }
   ],
   "source": [
    "from sklearn.neighbors import KNeighborsRegressor\n",
    "\n",
    "knn = KNeighborsRegressor()\n",
    "parameters = {'n_neighbors': range(1,30)}\n",
    "\n",
    "knn_gs= GridSearchCV(knn, parameters, cv=3)\n",
    "\n",
    "knn_gs.fit(X_train_scal, y_train)"
   ]
  },
  {
   "cell_type": "code",
   "execution_count": null,
   "metadata": {},
   "outputs": [
    {
     "name": "stdout",
     "output_type": "stream",
     "text": [
      "el mae es: 0.21138954845256216\n",
      "el mean_squared_error es 0.07763874250709359\n",
      "el score es: 0.5073733611472011\n",
      "el % mae es: 0.16320550226643668\n"
     ]
    }
   ],
   "source": [
    "y_pred_knn_gs = knn_gs.best_estimator_.predict(X_test_scal)\n",
    "print('el mae es:', mae(y_test, y_pred_knn_gs) )\n",
    "print( 'el mean_squared_error es', mean_squared_error(y_test,y_pred_knn_gs))\n",
    "print('el score es:', r2_score(y_test, y_pred_knn_gs) )\n",
    "print('el % mae es:', mean_absolute_percentage_error(y_test, y_pred_knn_gs) )\n"
   ]
  },
  {
   "cell_type": "code",
   "execution_count": null,
   "metadata": {},
   "outputs": [],
   "source": [
    "# no mejoro las cosas"
   ]
  },
  {
   "cell_type": "code",
   "execution_count": null,
   "metadata": {},
   "outputs": [],
   "source": [
    "# ahora pruebo muchos modelos"
   ]
  },
  {
   "cell_type": "code",
   "execution_count": 291,
   "metadata": {},
   "outputs": [],
   "source": [
    "from time import time\n",
    "\n",
    "from sklearn.linear_model import LinearRegression, Ridge,Lasso\n",
    "from sklearn.neighbors import KNeighborsRegressor\n",
    "from sklearn.ensemble import GradientBoostingRegressor\n",
    "from sklearn.ensemble import ExtraTreesRegressor, RandomForestRegressor\n",
    "from sklearn.tree import DecisionTreeRegressor"
   ]
  },
  {
   "cell_type": "code",
   "execution_count": 294,
   "metadata": {},
   "outputs": [
    {
     "name": "stdout",
     "output_type": "stream",
     "text": [
      "KNeighborsRegressor()\n",
      "\tTraining time: 0.021s\n",
      "\tPrediction time: 0.049s\n",
      "\tExplained variance: 0.4626195105544191\n",
      "\tMean absolute error: 0.22097315068493148\n",
      "\tR2 score: 0.46253489571868045\n",
      "\n",
      "GradientBoostingRegressor()\n",
      "\tTraining time: 0.898s\n",
      "\tPrediction time: 0.014s\n",
      "\tExplained variance: 0.614810439034121\n",
      "\tMean absolute error: 0.18986327326658956\n",
      "\tR2 score: 0.6147305366574052\n",
      "\n",
      "KNeighborsRegressor()\n",
      "\tTraining time: 0.010s\n",
      "\tPrediction time: 0.049s\n",
      "\tExplained variance: 0.4626195105544191\n",
      "\tMean absolute error: 0.22097315068493148\n",
      "\tR2 score: 0.46253489571868045\n",
      "\n",
      "ExtraTreesRegressor()\n",
      "\tTraining time: 1.413s\n",
      "\tPrediction time: 0.087s\n",
      "\tExplained variance: 0.643876426862807\n",
      "\tMean absolute error: 0.1751569315068493\n",
      "\tR2 score: 0.6435327805929347\n",
      "\n",
      "RandomForestRegressor()\n",
      "\tTraining time: 2.620s\n",
      "\tPrediction time: 0.080s\n",
      "\tExplained variance: 0.7059091330815329\n",
      "\tMean absolute error: 0.16031352420091324\n",
      "\tR2 score: 0.7058565027949171\n",
      "\n",
      "DecisionTreeRegressor()\n",
      "\tTraining time: 0.042s\n",
      "\tPrediction time: 0.001s\n",
      "\tExplained variance: 0.45941942690289217\n",
      "\tMean absolute error: 0.20864657534246575\n",
      "\tR2 score: 0.4593355015914631\n",
      "\n",
      "LinearRegression()\n",
      "\tTraining time: 0.003s\n",
      "\tPrediction time: 0.001s\n",
      "\tExplained variance: 0.40339848593087013\n",
      "\tMean absolute error: 0.24041832740207236\n",
      "\tR2 score: 0.40328977718065273\n",
      "\n",
      "Lasso()\n",
      "\tTraining time: 0.002s\n",
      "\tPrediction time: 0.000s\n",
      "\tExplained variance: 0.0\n",
      "\tMean absolute error: 0.3269757543911339\n",
      "\tR2 score: -4.332066269530088e-05\n",
      "\n",
      "Ridge()\n",
      "\tTraining time: 0.004s\n",
      "\tPrediction time: 0.001s\n",
      "\tExplained variance: 0.4034371856407083\n",
      "\tMean absolute error: 0.24043044536547198\n",
      "\tR2 score: 0.4033255701026627\n",
      "\n"
     ]
    }
   ],
   "source": [
    "lista_modelo = []\n",
    "lista_precision =[]\n",
    "lista_mae=[]\n",
    "regressors = [\n",
    "    KNeighborsRegressor(),\n",
    "    GradientBoostingRegressor(),\n",
    "    KNeighborsRegressor(),\n",
    "    ExtraTreesRegressor(),\n",
    "    RandomForestRegressor(),\n",
    "    DecisionTreeRegressor(),\n",
    "    LinearRegression(),\n",
    "    Lasso(),\n",
    "    Ridge()\n",
    "]\n",
    "\n",
    "head = 10\n",
    "for model in regressors[:head]:\n",
    "    start = time()\n",
    "    model.fit(X_train_scal , y_train)\n",
    "    train_time = time() - start\n",
    "    start = time()\n",
    "    y_pred = model.predict(X_test_scal)\n",
    "    predict_time = time()-start    \n",
    "    lista_modelo.append(model)\n",
    "    lista_precision.append(r2_score(y_test, y_pred))\n",
    "    lista_mae.append(mae(y_test, y_pred))\n",
    "    print(model)\n",
    "    print(\"\\tTraining time: %0.3fs\" % train_time)\n",
    "    print(\"\\tPrediction time: %0.3fs\" % predict_time)\n",
    "    print(\"\\tExplained variance:\", explained_variance_score(y_test, y_pred))\n",
    "    print(\"\\tMean absolute error:\", mae(y_test, y_pred))\n",
    "    print(\"\\tR2 score:\", r2_score(y_test, y_pred))\n",
    "    print()"
   ]
  },
  {
   "cell_type": "code",
   "execution_count": 468,
   "metadata": {},
   "outputs": [
    {
     "data": {
      "text/plain": [
       "[KNeighborsRegressor(),\n",
       " GradientBoostingRegressor(),\n",
       " KNeighborsRegressor(),\n",
       " ExtraTreesRegressor(),\n",
       " RandomForestRegressor(),\n",
       " DecisionTreeRegressor(),\n",
       " LinearRegression(),\n",
       " Lasso(),\n",
       " Ridge()]"
      ]
     },
     "execution_count": 468,
     "metadata": {},
     "output_type": "execute_result"
    }
   ],
   "source": [
    "regressors"
   ]
  },
  {
   "cell_type": "code",
   "execution_count": 470,
   "metadata": {},
   "outputs": [],
   "source": [
    "pickle.dump(regressors[1], open('GradientBoostingRegressor.pkl','wb'))"
   ]
  },
  {
   "cell_type": "code",
   "execution_count": 471,
   "metadata": {},
   "outputs": [],
   "source": [
    "pickle.dump(regressors[2], open('KNeighborsRegressor.pkl','wb'))"
   ]
  },
  {
   "cell_type": "code",
   "execution_count": 472,
   "metadata": {},
   "outputs": [],
   "source": [
    "\n",
    "pickle.dump(regressors[3], open('ExtraTreesRegressor.pkl','wb'))"
   ]
  },
  {
   "cell_type": "code",
   "execution_count": 473,
   "metadata": {},
   "outputs": [],
   "source": [
    "pickle.dump(regressors[5], open('DecisionTreeRegressor.pkl','wb'))"
   ]
  },
  {
   "cell_type": "code",
   "execution_count": 474,
   "metadata": {},
   "outputs": [],
   "source": [
    "pickle.dump(regressors[6], open('LinearRegression.pkl','wb'))"
   ]
  },
  {
   "cell_type": "code",
   "execution_count": 475,
   "metadata": {},
   "outputs": [],
   "source": [
    "pickle.dump(regressors[7], open('Lasso.pkl','wb'))"
   ]
  },
  {
   "cell_type": "code",
   "execution_count": 476,
   "metadata": {},
   "outputs": [],
   "source": [
    "pickle.dump(regressors[8], open('Ridge.pkl','wb'))"
   ]
  },
  {
   "cell_type": "code",
   "execution_count": 295,
   "metadata": {},
   "outputs": [
    {
     "data": {
      "text/html": [
       "<div>\n",
       "<style scoped>\n",
       "    .dataframe tbody tr th:only-of-type {\n",
       "        vertical-align: middle;\n",
       "    }\n",
       "\n",
       "    .dataframe tbody tr th {\n",
       "        vertical-align: top;\n",
       "    }\n",
       "\n",
       "    .dataframe thead th {\n",
       "        text-align: right;\n",
       "    }\n",
       "</style>\n",
       "<table border=\"1\" class=\"dataframe\">\n",
       "  <thead>\n",
       "    <tr style=\"text-align: right;\">\n",
       "      <th></th>\n",
       "      <th>AveragePrice</th>\n",
       "      <th>4046</th>\n",
       "      <th>XLarge Bags</th>\n",
       "      <th>type</th>\n",
       "      <th>Month</th>\n",
       "      <th>Day</th>\n",
       "      <th>Region</th>\n",
       "      <th>Datetime</th>\n",
       "    </tr>\n",
       "  </thead>\n",
       "  <tbody>\n",
       "    <tr>\n",
       "      <th>1819</th>\n",
       "      <td>1.52</td>\n",
       "      <td>3013.04</td>\n",
       "      <td>0.0</td>\n",
       "      <td>0</td>\n",
       "      <td>1</td>\n",
       "      <td>4</td>\n",
       "      <td>151.10</td>\n",
       "      <td>2015-01-04</td>\n",
       "    </tr>\n",
       "    <tr>\n",
       "      <th>10269</th>\n",
       "      <td>1.50</td>\n",
       "      <td>3730.80</td>\n",
       "      <td>0.0</td>\n",
       "      <td>1</td>\n",
       "      <td>1</td>\n",
       "      <td>4</td>\n",
       "      <td>352.00</td>\n",
       "      <td>2015-01-04</td>\n",
       "    </tr>\n",
       "    <tr>\n",
       "      <th>10737</th>\n",
       "      <td>1.83</td>\n",
       "      <td>6.81</td>\n",
       "      <td>0.0</td>\n",
       "      <td>1</td>\n",
       "      <td>1</td>\n",
       "      <td>4</td>\n",
       "      <td>162362.00</td>\n",
       "      <td>2015-01-04</td>\n",
       "    </tr>\n",
       "    <tr>\n",
       "      <th>311</th>\n",
       "      <td>1.40</td>\n",
       "      <td>3267.97</td>\n",
       "      <td>0.0</td>\n",
       "      <td>0</td>\n",
       "      <td>1</td>\n",
       "      <td>4</td>\n",
       "      <td>197.21</td>\n",
       "      <td>2015-01-04</td>\n",
       "    </tr>\n",
       "    <tr>\n",
       "      <th>10581</th>\n",
       "      <td>1.41</td>\n",
       "      <td>220.61</td>\n",
       "      <td>0.0</td>\n",
       "      <td>1</td>\n",
       "      <td>1</td>\n",
       "      <td>4</td>\n",
       "      <td>800.06</td>\n",
       "      <td>2015-01-04</td>\n",
       "    </tr>\n",
       "    <tr>\n",
       "      <th>...</th>\n",
       "      <td>...</td>\n",
       "      <td>...</td>\n",
       "      <td>...</td>\n",
       "      <td>...</td>\n",
       "      <td>...</td>\n",
       "      <td>...</td>\n",
       "      <td>...</td>\n",
       "      <td>...</td>\n",
       "    </tr>\n",
       "    <tr>\n",
       "      <th>17601</th>\n",
       "      <td>1.71</td>\n",
       "      <td>42.95</td>\n",
       "      <td>0.0</td>\n",
       "      <td>1</td>\n",
       "      <td>3</td>\n",
       "      <td>25</td>\n",
       "      <td>21.80</td>\n",
       "      <td>2018-03-25</td>\n",
       "    </tr>\n",
       "    <tr>\n",
       "      <th>17853</th>\n",
       "      <td>1.65</td>\n",
       "      <td>1541.02</td>\n",
       "      <td>0.0</td>\n",
       "      <td>1</td>\n",
       "      <td>3</td>\n",
       "      <td>25</td>\n",
       "      <td>352.00</td>\n",
       "      <td>2018-03-25</td>\n",
       "    </tr>\n",
       "    <tr>\n",
       "      <th>18129</th>\n",
       "      <td>1.38</td>\n",
       "      <td>163.55</td>\n",
       "      <td>0.0</td>\n",
       "      <td>1</td>\n",
       "      <td>3</td>\n",
       "      <td>25</td>\n",
       "      <td>82931.00</td>\n",
       "      <td>2018-03-25</td>\n",
       "    </tr>\n",
       "    <tr>\n",
       "      <th>17949</th>\n",
       "      <td>1.58</td>\n",
       "      <td>19823.16</td>\n",
       "      <td>0.0</td>\n",
       "      <td>1</td>\n",
       "      <td>3</td>\n",
       "      <td>25</td>\n",
       "      <td>0.00</td>\n",
       "      <td>2018-03-25</td>\n",
       "    </tr>\n",
       "    <tr>\n",
       "      <th>17637</th>\n",
       "      <td>1.81</td>\n",
       "      <td>76.12</td>\n",
       "      <td>0.0</td>\n",
       "      <td>1</td>\n",
       "      <td>3</td>\n",
       "      <td>25</td>\n",
       "      <td>216.96</td>\n",
       "      <td>2018-03-25</td>\n",
       "    </tr>\n",
       "  </tbody>\n",
       "</table>\n",
       "<p>18249 rows × 8 columns</p>\n",
       "</div>"
      ],
      "text/plain": [
       "       AveragePrice      4046  XLarge Bags  type  Month  Day     Region  \\\n",
       "1819           1.52   3013.04          0.0     0      1    4     151.10   \n",
       "10269          1.50   3730.80          0.0     1      1    4     352.00   \n",
       "10737          1.83      6.81          0.0     1      1    4  162362.00   \n",
       "311            1.40   3267.97          0.0     0      1    4     197.21   \n",
       "10581          1.41    220.61          0.0     1      1    4     800.06   \n",
       "...             ...       ...          ...   ...    ...  ...        ...   \n",
       "17601          1.71     42.95          0.0     1      3   25      21.80   \n",
       "17853          1.65   1541.02          0.0     1      3   25     352.00   \n",
       "18129          1.38    163.55          0.0     1      3   25   82931.00   \n",
       "17949          1.58  19823.16          0.0     1      3   25       0.00   \n",
       "17637          1.81     76.12          0.0     1      3   25     216.96   \n",
       "\n",
       "        Datetime  \n",
       "1819  2015-01-04  \n",
       "10269 2015-01-04  \n",
       "10737 2015-01-04  \n",
       "311   2015-01-04  \n",
       "10581 2015-01-04  \n",
       "...          ...  \n",
       "17601 2018-03-25  \n",
       "17853 2018-03-25  \n",
       "18129 2018-03-25  \n",
       "17949 2018-03-25  \n",
       "17637 2018-03-25  \n",
       "\n",
       "[18249 rows x 8 columns]"
      ]
     },
     "execution_count": 295,
     "metadata": {},
     "output_type": "execute_result"
    }
   ],
   "source": [
    "df"
   ]
  },
  {
   "cell_type": "code",
   "execution_count": 296,
   "metadata": {},
   "outputs": [
    {
     "data": {
      "text/plain": [
       "[KNeighborsRegressor(),\n",
       " GradientBoostingRegressor(),\n",
       " KNeighborsRegressor(),\n",
       " ExtraTreesRegressor(),\n",
       " RandomForestRegressor(),\n",
       " DecisionTreeRegressor(),\n",
       " LinearRegression(),\n",
       " Lasso(),\n",
       " Ridge()]"
      ]
     },
     "execution_count": 296,
     "metadata": {},
     "output_type": "execute_result"
    }
   ],
   "source": [
    "lista_modelo\n"
   ]
  },
  {
   "cell_type": "code",
   "execution_count": 297,
   "metadata": {},
   "outputs": [
    {
     "data": {
      "text/plain": [
       "[0.46253489571868045,\n",
       " 0.6147305366574052,\n",
       " 0.46253489571868045,\n",
       " 0.6435327805929347,\n",
       " 0.7058565027949171,\n",
       " 0.4593355015914631,\n",
       " 0.40328977718065273,\n",
       " -4.332066269530088e-05,\n",
       " 0.4033255701026627]"
      ]
     },
     "execution_count": 297,
     "metadata": {},
     "output_type": "execute_result"
    }
   ],
   "source": [
    "lista_precision "
   ]
  },
  {
   "cell_type": "code",
   "execution_count": 298,
   "metadata": {},
   "outputs": [
    {
     "data": {
      "text/plain": [
       "[0.22097315068493148,\n",
       " 0.18986327326658956,\n",
       " 0.22097315068493148,\n",
       " 0.1751569315068493,\n",
       " 0.16031352420091324,\n",
       " 0.20864657534246575,\n",
       " 0.24041832740207236,\n",
       " 0.3269757543911339,\n",
       " 0.24043044536547198]"
      ]
     },
     "execution_count": 298,
     "metadata": {},
     "output_type": "execute_result"
    }
   ],
   "source": [
    "lista_mae"
   ]
  },
  {
   "cell_type": "code",
   "execution_count": 409,
   "metadata": {},
   "outputs": [],
   "source": [
    "lista_modelo2 = ['KNeighborsRegressor','GradientBoostingRegressor','KNeighborsRegressor','ExtraTreesRegressor','RandomForestRegressor','DecisionTreeRegressor','LinearRegression','Lasso','Ridge']"
   ]
  },
  {
   "cell_type": "code",
   "execution_count": 410,
   "metadata": {},
   "outputs": [],
   "source": [
    "\n",
    "precisions = pd.DataFrame(lista_modelo2)"
   ]
  },
  {
   "cell_type": "code",
   "execution_count": 411,
   "metadata": {},
   "outputs": [],
   "source": [
    "precisions =precisions.rename(columns={0: 'Model'})"
   ]
  },
  {
   "cell_type": "code",
   "execution_count": 412,
   "metadata": {},
   "outputs": [],
   "source": [
    "precisions['R2 score']= lista_precision"
   ]
  },
  {
   "cell_type": "code",
   "execution_count": 413,
   "metadata": {},
   "outputs": [],
   "source": [
    "precisions['MAE']= lista_mae"
   ]
  },
  {
   "cell_type": "code",
   "execution_count": 414,
   "metadata": {},
   "outputs": [
    {
     "data": {
      "text/html": [
       "<div>\n",
       "<style scoped>\n",
       "    .dataframe tbody tr th:only-of-type {\n",
       "        vertical-align: middle;\n",
       "    }\n",
       "\n",
       "    .dataframe tbody tr th {\n",
       "        vertical-align: top;\n",
       "    }\n",
       "\n",
       "    .dataframe thead th {\n",
       "        text-align: right;\n",
       "    }\n",
       "</style>\n",
       "<table border=\"1\" class=\"dataframe\">\n",
       "  <thead>\n",
       "    <tr style=\"text-align: right;\">\n",
       "      <th></th>\n",
       "      <th>Model</th>\n",
       "      <th>R2 score</th>\n",
       "      <th>MAE</th>\n",
       "    </tr>\n",
       "  </thead>\n",
       "  <tbody>\n",
       "    <tr>\n",
       "      <th>0</th>\n",
       "      <td>KNeighborsRegressor</td>\n",
       "      <td>0.462535</td>\n",
       "      <td>0.220973</td>\n",
       "    </tr>\n",
       "    <tr>\n",
       "      <th>1</th>\n",
       "      <td>GradientBoostingRegressor</td>\n",
       "      <td>0.614731</td>\n",
       "      <td>0.189863</td>\n",
       "    </tr>\n",
       "    <tr>\n",
       "      <th>2</th>\n",
       "      <td>KNeighborsRegressor</td>\n",
       "      <td>0.462535</td>\n",
       "      <td>0.220973</td>\n",
       "    </tr>\n",
       "    <tr>\n",
       "      <th>3</th>\n",
       "      <td>ExtraTreesRegressor</td>\n",
       "      <td>0.643533</td>\n",
       "      <td>0.175157</td>\n",
       "    </tr>\n",
       "    <tr>\n",
       "      <th>4</th>\n",
       "      <td>RandomForestRegressor</td>\n",
       "      <td>0.705857</td>\n",
       "      <td>0.160314</td>\n",
       "    </tr>\n",
       "    <tr>\n",
       "      <th>5</th>\n",
       "      <td>DecisionTreeRegressor</td>\n",
       "      <td>0.459336</td>\n",
       "      <td>0.208647</td>\n",
       "    </tr>\n",
       "    <tr>\n",
       "      <th>6</th>\n",
       "      <td>LinearRegression</td>\n",
       "      <td>0.403290</td>\n",
       "      <td>0.240418</td>\n",
       "    </tr>\n",
       "    <tr>\n",
       "      <th>7</th>\n",
       "      <td>Lasso</td>\n",
       "      <td>-0.000043</td>\n",
       "      <td>0.326976</td>\n",
       "    </tr>\n",
       "    <tr>\n",
       "      <th>8</th>\n",
       "      <td>Ridge</td>\n",
       "      <td>0.403326</td>\n",
       "      <td>0.240430</td>\n",
       "    </tr>\n",
       "  </tbody>\n",
       "</table>\n",
       "</div>"
      ],
      "text/plain": [
       "                       Model  R2 score       MAE\n",
       "0        KNeighborsRegressor  0.462535  0.220973\n",
       "1  GradientBoostingRegressor  0.614731  0.189863\n",
       "2        KNeighborsRegressor  0.462535  0.220973\n",
       "3        ExtraTreesRegressor  0.643533  0.175157\n",
       "4      RandomForestRegressor  0.705857  0.160314\n",
       "5      DecisionTreeRegressor  0.459336  0.208647\n",
       "6           LinearRegression  0.403290  0.240418\n",
       "7                      Lasso -0.000043  0.326976\n",
       "8                      Ridge  0.403326  0.240430"
      ]
     },
     "execution_count": 414,
     "metadata": {},
     "output_type": "execute_result"
    }
   ],
   "source": [
    "precisions"
   ]
  },
  {
   "cell_type": "code",
   "execution_count": 415,
   "metadata": {},
   "outputs": [],
   "source": [
    "\n",
    "\n",
    "precisions['R2 score']=precisions['R2 score'].apply(lambda x: np.round(x,2))"
   ]
  },
  {
   "cell_type": "code",
   "execution_count": 416,
   "metadata": {},
   "outputs": [],
   "source": [
    "precisions['MAE']=precisions['MAE'].apply(lambda x: np.round(x,2))"
   ]
  },
  {
   "cell_type": "code",
   "execution_count": 417,
   "metadata": {},
   "outputs": [
    {
     "data": {
      "text/html": [
       "<div>\n",
       "<style scoped>\n",
       "    .dataframe tbody tr th:only-of-type {\n",
       "        vertical-align: middle;\n",
       "    }\n",
       "\n",
       "    .dataframe tbody tr th {\n",
       "        vertical-align: top;\n",
       "    }\n",
       "\n",
       "    .dataframe thead th {\n",
       "        text-align: right;\n",
       "    }\n",
       "</style>\n",
       "<table border=\"1\" class=\"dataframe\">\n",
       "  <thead>\n",
       "    <tr style=\"text-align: right;\">\n",
       "      <th></th>\n",
       "      <th>Model</th>\n",
       "      <th>R2 score</th>\n",
       "      <th>MAE</th>\n",
       "    </tr>\n",
       "  </thead>\n",
       "  <tbody>\n",
       "    <tr>\n",
       "      <th>0</th>\n",
       "      <td>KNeighborsRegressor</td>\n",
       "      <td>0.46</td>\n",
       "      <td>0.22</td>\n",
       "    </tr>\n",
       "    <tr>\n",
       "      <th>1</th>\n",
       "      <td>GradientBoostingRegressor</td>\n",
       "      <td>0.61</td>\n",
       "      <td>0.19</td>\n",
       "    </tr>\n",
       "    <tr>\n",
       "      <th>2</th>\n",
       "      <td>KNeighborsRegressor</td>\n",
       "      <td>0.46</td>\n",
       "      <td>0.22</td>\n",
       "    </tr>\n",
       "    <tr>\n",
       "      <th>3</th>\n",
       "      <td>ExtraTreesRegressor</td>\n",
       "      <td>0.64</td>\n",
       "      <td>0.18</td>\n",
       "    </tr>\n",
       "    <tr>\n",
       "      <th>4</th>\n",
       "      <td>RandomForestRegressor</td>\n",
       "      <td>0.71</td>\n",
       "      <td>0.16</td>\n",
       "    </tr>\n",
       "    <tr>\n",
       "      <th>5</th>\n",
       "      <td>DecisionTreeRegressor</td>\n",
       "      <td>0.46</td>\n",
       "      <td>0.21</td>\n",
       "    </tr>\n",
       "    <tr>\n",
       "      <th>6</th>\n",
       "      <td>LinearRegression</td>\n",
       "      <td>0.40</td>\n",
       "      <td>0.24</td>\n",
       "    </tr>\n",
       "    <tr>\n",
       "      <th>7</th>\n",
       "      <td>Lasso</td>\n",
       "      <td>-0.00</td>\n",
       "      <td>0.33</td>\n",
       "    </tr>\n",
       "    <tr>\n",
       "      <th>8</th>\n",
       "      <td>Ridge</td>\n",
       "      <td>0.40</td>\n",
       "      <td>0.24</td>\n",
       "    </tr>\n",
       "  </tbody>\n",
       "</table>\n",
       "</div>"
      ],
      "text/plain": [
       "                       Model  R2 score   MAE\n",
       "0        KNeighborsRegressor      0.46  0.22\n",
       "1  GradientBoostingRegressor      0.61  0.19\n",
       "2        KNeighborsRegressor      0.46  0.22\n",
       "3        ExtraTreesRegressor      0.64  0.18\n",
       "4      RandomForestRegressor      0.71  0.16\n",
       "5      DecisionTreeRegressor      0.46  0.21\n",
       "6           LinearRegression      0.40  0.24\n",
       "7                      Lasso     -0.00  0.33\n",
       "8                      Ridge      0.40  0.24"
      ]
     },
     "execution_count": 417,
     "metadata": {},
     "output_type": "execute_result"
    }
   ],
   "source": [
    "precisions"
   ]
  },
  {
   "cell_type": "code",
   "execution_count": 494,
   "metadata": {},
   "outputs": [],
   "source": [
    "precisions.to_csv('precision.csv')"
   ]
  },
  {
   "cell_type": "code",
   "execution_count": 368,
   "metadata": {},
   "outputs": [],
   "source": [
    "df.to_csv('df.csv')"
   ]
  },
  {
   "cell_type": "code",
   "execution_count": null,
   "metadata": {},
   "outputs": [],
   "source": [
    "X_train.to_csv('X_train.csv')\n",
    "y_train.to_csv('y_train.csv')"
   ]
  },
  {
   "cell_type": "code",
   "execution_count": null,
   "metadata": {},
   "outputs": [],
   "source": [
    "X_test.to_csv('X_test.csv')\n",
    "y_test.to_csv('y_test.csv')"
   ]
  }
 ],
 "metadata": {
  "kernelspec": {
   "display_name": "Python 3.7.4 64-bit",
   "language": "python",
   "name": "python3"
  },
  "language_info": {
   "codemirror_mode": {
    "name": "ipython",
    "version": 3
   },
   "file_extension": ".py",
   "mimetype": "text/x-python",
   "name": "python",
   "nbconvert_exporter": "python",
   "pygments_lexer": "ipython3",
   "version": "3.7.4"
  },
  "orig_nbformat": 4,
  "vscode": {
   "interpreter": {
    "hash": "70b38634f151bc788305d78fa55f4f5eb67f51bd92b5405d2063f303c7241f5d"
   }
  }
 },
 "nbformat": 4,
 "nbformat_minor": 2
}
