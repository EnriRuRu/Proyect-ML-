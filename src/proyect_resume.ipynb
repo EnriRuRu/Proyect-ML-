{
 "cells": [
  {
   "cell_type": "code",
   "execution_count": null,
   "metadata": {},
   "outputs": [],
   "source": [
    "# en este proyecto lo que se busca es el mejor modelo para la predicción del precio del aguacate. Para ello se cuenta con una \n",
    "# data que se analizará y de la cual se escogerán las features que realmente son importantes para la variación del precio.\n",
    "\n",
    "# veragePrice - es nuestro target, el precio medio por aguacate\n",
    "\n",
    "# las columnas que tiene el data son:\n",
    "\n",
    "# 4046 - es el número de aguacates vendidos de la clase concreta 4046\n",
    "\n",
    "# 4225 - es el número de aguacates vendidos de la clase concreta 4225\n",
    "\n",
    "# 4770 - es el número de aguacates vendidos de la clase concreta 770\n",
    "\n",
    "# Small Bags es el número de bolsas totales vendidas que están llenas del aguacate de tipo 4046\n",
    "\n",
    "# Large Bags es el número de bolsas totales vendidas que están llenas del aguacate de tipo 4225\n",
    "\n",
    "# XLarge Bags es el número de bolsas totales vendidas que están llenas del aguacate de tipo 4770\n",
    "\n",
    "# Date - fecha de las tomas de los precios\n",
    "\n",
    "# type - convencional u organico\n",
    "\n",
    "# year - año\n",
    "\n",
    "# Region - zona de EEUU donde se ha tomado el precio"
   ]
  },
  {
   "cell_type": "code",
   "execution_count": 14,
   "metadata": {},
   "outputs": [],
   "source": [
    "# Comienzo abriendo los datos y haciendo un EDA necesario para discriminar las columnas con las que me voy a quedar."
   ]
  },
  {
   "cell_type": "code",
   "execution_count": 15,
   "metadata": {},
   "outputs": [],
   "source": [
    "import pandas as pd\n",
    "import os\n",
    "\n",
    "path_avocado = os.path.join(\"note_books\", \"avocado.csv\")\n",
    "df = pd.read_csv(path_avocado).drop('Unnamed: 0', axis=1)"
   ]
  },
  {
   "cell_type": "code",
   "execution_count": 16,
   "metadata": {},
   "outputs": [
    {
     "data": {
      "text/html": [
       "<div>\n",
       "<style scoped>\n",
       "    .dataframe tbody tr th:only-of-type {\n",
       "        vertical-align: middle;\n",
       "    }\n",
       "\n",
       "    .dataframe tbody tr th {\n",
       "        vertical-align: top;\n",
       "    }\n",
       "\n",
       "    .dataframe thead th {\n",
       "        text-align: right;\n",
       "    }\n",
       "</style>\n",
       "<table border=\"1\" class=\"dataframe\">\n",
       "  <thead>\n",
       "    <tr style=\"text-align: right;\">\n",
       "      <th></th>\n",
       "      <th>Date</th>\n",
       "      <th>AveragePrice</th>\n",
       "      <th>Total Volume</th>\n",
       "      <th>4046</th>\n",
       "      <th>4225</th>\n",
       "      <th>4770</th>\n",
       "      <th>Total Bags</th>\n",
       "      <th>Small Bags</th>\n",
       "      <th>Large Bags</th>\n",
       "      <th>XLarge Bags</th>\n",
       "      <th>type</th>\n",
       "      <th>year</th>\n",
       "      <th>region</th>\n",
       "    </tr>\n",
       "  </thead>\n",
       "  <tbody>\n",
       "    <tr>\n",
       "      <th>0</th>\n",
       "      <td>2015-12-27</td>\n",
       "      <td>1.33</td>\n",
       "      <td>64236.62</td>\n",
       "      <td>1036.74</td>\n",
       "      <td>54454.85</td>\n",
       "      <td>48.16</td>\n",
       "      <td>8696.87</td>\n",
       "      <td>8603.62</td>\n",
       "      <td>93.25</td>\n",
       "      <td>0.0</td>\n",
       "      <td>conventional</td>\n",
       "      <td>2015</td>\n",
       "      <td>Albany</td>\n",
       "    </tr>\n",
       "    <tr>\n",
       "      <th>1</th>\n",
       "      <td>2015-12-20</td>\n",
       "      <td>1.35</td>\n",
       "      <td>54876.98</td>\n",
       "      <td>674.28</td>\n",
       "      <td>44638.81</td>\n",
       "      <td>58.33</td>\n",
       "      <td>9505.56</td>\n",
       "      <td>9408.07</td>\n",
       "      <td>97.49</td>\n",
       "      <td>0.0</td>\n",
       "      <td>conventional</td>\n",
       "      <td>2015</td>\n",
       "      <td>Albany</td>\n",
       "    </tr>\n",
       "    <tr>\n",
       "      <th>2</th>\n",
       "      <td>2015-12-13</td>\n",
       "      <td>0.93</td>\n",
       "      <td>118220.22</td>\n",
       "      <td>794.70</td>\n",
       "      <td>109149.67</td>\n",
       "      <td>130.50</td>\n",
       "      <td>8145.35</td>\n",
       "      <td>8042.21</td>\n",
       "      <td>103.14</td>\n",
       "      <td>0.0</td>\n",
       "      <td>conventional</td>\n",
       "      <td>2015</td>\n",
       "      <td>Albany</td>\n",
       "    </tr>\n",
       "    <tr>\n",
       "      <th>3</th>\n",
       "      <td>2015-12-06</td>\n",
       "      <td>1.08</td>\n",
       "      <td>78992.15</td>\n",
       "      <td>1132.00</td>\n",
       "      <td>71976.41</td>\n",
       "      <td>72.58</td>\n",
       "      <td>5811.16</td>\n",
       "      <td>5677.40</td>\n",
       "      <td>133.76</td>\n",
       "      <td>0.0</td>\n",
       "      <td>conventional</td>\n",
       "      <td>2015</td>\n",
       "      <td>Albany</td>\n",
       "    </tr>\n",
       "    <tr>\n",
       "      <th>4</th>\n",
       "      <td>2015-11-29</td>\n",
       "      <td>1.28</td>\n",
       "      <td>51039.60</td>\n",
       "      <td>941.48</td>\n",
       "      <td>43838.39</td>\n",
       "      <td>75.78</td>\n",
       "      <td>6183.95</td>\n",
       "      <td>5986.26</td>\n",
       "      <td>197.69</td>\n",
       "      <td>0.0</td>\n",
       "      <td>conventional</td>\n",
       "      <td>2015</td>\n",
       "      <td>Albany</td>\n",
       "    </tr>\n",
       "  </tbody>\n",
       "</table>\n",
       "</div>"
      ],
      "text/plain": [
       "         Date  AveragePrice  Total Volume     4046       4225    4770  \\\n",
       "0  2015-12-27          1.33      64236.62  1036.74   54454.85   48.16   \n",
       "1  2015-12-20          1.35      54876.98   674.28   44638.81   58.33   \n",
       "2  2015-12-13          0.93     118220.22   794.70  109149.67  130.50   \n",
       "3  2015-12-06          1.08      78992.15  1132.00   71976.41   72.58   \n",
       "4  2015-11-29          1.28      51039.60   941.48   43838.39   75.78   \n",
       "\n",
       "   Total Bags  Small Bags  Large Bags  XLarge Bags          type  year  region  \n",
       "0     8696.87     8603.62       93.25          0.0  conventional  2015  Albany  \n",
       "1     9505.56     9408.07       97.49          0.0  conventional  2015  Albany  \n",
       "2     8145.35     8042.21      103.14          0.0  conventional  2015  Albany  \n",
       "3     5811.16     5677.40      133.76          0.0  conventional  2015  Albany  \n",
       "4     6183.95     5986.26      197.69          0.0  conventional  2015  Albany  "
      ]
     },
     "execution_count": 16,
     "metadata": {},
     "output_type": "execute_result"
    }
   ],
   "source": [
    "df.head()"
   ]
  },
  {
   "cell_type": "code",
   "execution_count": null,
   "metadata": {},
   "outputs": [],
   "source": [
    "4046 - Total number of avocados with PLU 4046 sold (Small Bags)\n",
    "\n",
    "4225 - Total number of avocados with PLU 4225 sold (Large Bags)\n",
    "\n",
    "4770 - Total number of avocados with PLU 4770 sold (XLarge Bags)\n",
    "\n",
    "# "
   ]
  },
  {
   "cell_type": "code",
   "execution_count": 17,
   "metadata": {},
   "outputs": [
    {
     "name": "stdout",
     "output_type": "stream",
     "text": [
      "<class 'pandas.core.frame.DataFrame'>\n",
      "RangeIndex: 18249 entries, 0 to 18248\n",
      "Data columns (total 13 columns):\n",
      " #   Column        Non-Null Count  Dtype  \n",
      "---  ------        --------------  -----  \n",
      " 0   Date          18249 non-null  object \n",
      " 1   AveragePrice  18249 non-null  float64\n",
      " 2   Total Volume  18249 non-null  float64\n",
      " 3   4046          18249 non-null  float64\n",
      " 4   4225          18249 non-null  float64\n",
      " 5   4770          18249 non-null  float64\n",
      " 6   Total Bags    18249 non-null  float64\n",
      " 7   Small Bags    18249 non-null  float64\n",
      " 8   Large Bags    18249 non-null  float64\n",
      " 9   XLarge Bags   18249 non-null  float64\n",
      " 10  type          18249 non-null  object \n",
      " 11  year          18249 non-null  int64  \n",
      " 12  region        18249 non-null  object \n",
      "dtypes: float64(9), int64(1), object(3)\n",
      "memory usage: 1.8+ MB\n"
     ]
    }
   ],
   "source": [
    "df.info()"
   ]
  },
  {
   "cell_type": "code",
   "execution_count": 18,
   "metadata": {},
   "outputs": [
    {
     "data": {
      "text/plain": [
       "<AxesSubplot:>"
      ]
     },
     "execution_count": 18,
     "metadata": {},
     "output_type": "execute_result"
    },
    {
     "data": {
      "image/png": "[encoded data removed]",
      "text/plain": [
       "<Figure size 1080x720 with 2 Axes>"
      ]
     },
     "metadata": {
      "needs_background": "light"
     },
     "output_type": "display_data"
    }
   ],
   "source": [
    "import seaborn as sns\n",
    "import matplotlib.pyplot as plt\n",
    "\n",
    "plt.figure(figsize= (15,10))\n",
    "sns.heatmap(df.corr(), annot=True)"
   ]
  },
  {
   "cell_type": "code",
   "execution_count": 19,
   "metadata": {},
   "outputs": [],
   "source": [
    "# Analizo las columnas y la correlación entre ellas, incluyendo la columna de Date, \n",
    "# que la puedo poner de tipo datetime. También coloco la columna region como una columna numérica, en base a la extensión \n",
    "# de cada territorio. También convierto en numérica la columna binaria de type\n",
    "\n",
    "# finalmente me quedo con la matriz siguiente"
   ]
  },
  {
   "cell_type": "code",
   "execution_count": 20,
   "metadata": {},
   "outputs": [],
   "source": [
    "diccionario= {'Albany': 21.8,\n",
    "'Sacramento'              :257,\n",
    "'Northeast':       0,\n",
    "'NorthernNewEngland' :   162362,\n",
    "'Orlando'    : 261.5,\n",
    "'Philadelphia'    : 369.3,\n",
    "'PhoenixTucson'   : 1341.48 + \t588.02,\n",
    "'Pittsburgh'       :      151.1,\n",
    "'Plains':              34.4,\n",
    "'Portland'        :     347.9,\n",
    "'RaleighGreensboro':      299.3+27.2 ,\n",
    "'RichmondNorfolk': 155.20 + 137.98  ,        \n",
    "'Roanoke'          :      110.99,\n",
    "'SanDiego':            844.02,\n",
    "'Atlanta'         :    350.48, \n",
    "'SanFrancisco'    :    121,\n",
    "'Seattle':            2172,\n",
    "'SouthCarolina':         82931,\n",
    "'SouthCentral'     : 0,\n",
    "'Southeast':        0,\n",
    "'Spokane'  :         178.09,\n",
    "'StLouis'   : 159.85,\n",
    "'Syracuse'  :     64.71 ,\n",
    "'Tampa'     :   295.30 ,\n",
    "'TotalUS'   :    0,\n",
    "'West':      0,\n",
    "'NewYork':        122057,\n",
    "'NewOrleansMobile'  : 361.26+ 438.80,\n",
    "'Nashville'    :  1305.4,\n",
    "'Midsouth':      0,\n",
    "'BaltimoreWashington':  209.65 + 158.1,\n",
    "'Boise':    216.96,\n",
    "'Boston':    125.20,\n",
    "'BuffaloRochester':     92.63+104.58, \n",
    "'California':     403932,\n",
    "'Charlotte':     795.80,\n",
    "'Chicago'             : 589.82,\n",
    "'CincinnatiDayton': 201.59+ 143.47,\n",
    "'Columbus' : 570.08,\n",
    "'DallasFtWorth':   879.56 + 899.44,\n",
    "'Denver':      396.463,\n",
    "'Detroit':     359.31,\n",
    "'GrandRapids':    115.97,\n",
    "'GreatLakes' :  0,\n",
    "'HarrisburgScranton':    21.03+ 65.55,\n",
    "'HartfordSpringfield':    338,\n",
    "'Houston':       1552.92,\n",
    "'Indianapolis':        936,\n",
    "'Jacksonville':        115.2,\n",
    "'LasVegas':       352,\n",
    "'LosAngeles':     1214.9, \n",
    "'Louisville': 171.7,\n",
    "'MiamiFtLauderdale' :  0,\n",
    "'WestTexNewMexico':   0\n",
    "    \n",
    "}\n",
    "df['Region'] = df['region'].map(lambda region_label : diccionario[region_label])"
   ]
  },
  {
   "cell_type": "code",
   "execution_count": 21,
   "metadata": {},
   "outputs": [],
   "source": [
    "df['Datetime'] = pd.to_datetime(df['Date'], format=\"%Y/%m/%d\")\n",
    "df = df.sort_values(by= 'Datetime')\n",
    "df = df.drop(columns=[ 'Small Bags'])\n",
    "df = df.drop(columns=[ 'Date'])\n",
    "df = df.drop(columns=['4225', '4770', 'Total Volume', 'Total Bags', 'region', 'year'])"
   ]
  },
  {
   "cell_type": "code",
   "execution_count": 23,
   "metadata": {},
   "outputs": [],
   "source": [
    "df['type'] = df['type'].apply(lambda x: 1 if x== 'organic' else 0)"
   ]
  },
  {
   "cell_type": "code",
   "execution_count": 24,
   "metadata": {},
   "outputs": [
    {
     "data": {
      "text/html": [
       "<div>\n",
       "<style scoped>\n",
       "    .dataframe tbody tr th:only-of-type {\n",
       "        vertical-align: middle;\n",
       "    }\n",
       "\n",
       "    .dataframe tbody tr th {\n",
       "        vertical-align: top;\n",
       "    }\n",
       "\n",
       "    .dataframe thead th {\n",
       "        text-align: right;\n",
       "    }\n",
       "</style>\n",
       "<table border=\"1\" class=\"dataframe\">\n",
       "  <thead>\n",
       "    <tr style=\"text-align: right;\">\n",
       "      <th></th>\n",
       "      <th>AveragePrice</th>\n",
       "      <th>4046</th>\n",
       "      <th>Large Bags</th>\n",
       "      <th>XLarge Bags</th>\n",
       "      <th>type</th>\n",
       "      <th>Region</th>\n",
       "      <th>Datetime</th>\n",
       "    </tr>\n",
       "  </thead>\n",
       "  <tbody>\n",
       "    <tr>\n",
       "      <th>11569</th>\n",
       "      <td>1.75</td>\n",
       "      <td>9307.34</td>\n",
       "      <td>537.36</td>\n",
       "      <td>0.00</td>\n",
       "      <td>1</td>\n",
       "      <td>0.00</td>\n",
       "      <td>2015-01-04</td>\n",
       "    </tr>\n",
       "    <tr>\n",
       "      <th>9593</th>\n",
       "      <td>1.49</td>\n",
       "      <td>1189.35</td>\n",
       "      <td>0.00</td>\n",
       "      <td>0.00</td>\n",
       "      <td>1</td>\n",
       "      <td>589.82</td>\n",
       "      <td>2015-01-04</td>\n",
       "    </tr>\n",
       "    <tr>\n",
       "      <th>10009</th>\n",
       "      <td>1.68</td>\n",
       "      <td>161.68</td>\n",
       "      <td>0.00</td>\n",
       "      <td>0.00</td>\n",
       "      <td>1</td>\n",
       "      <td>86.58</td>\n",
       "      <td>2015-01-04</td>\n",
       "    </tr>\n",
       "    <tr>\n",
       "      <th>1819</th>\n",
       "      <td>1.52</td>\n",
       "      <td>3013.04</td>\n",
       "      <td>3660.38</td>\n",
       "      <td>0.00</td>\n",
       "      <td>0</td>\n",
       "      <td>151.10</td>\n",
       "      <td>2015-01-04</td>\n",
       "    </tr>\n",
       "    <tr>\n",
       "      <th>9333</th>\n",
       "      <td>1.64</td>\n",
       "      <td>1.27</td>\n",
       "      <td>187.68</td>\n",
       "      <td>0.00</td>\n",
       "      <td>1</td>\n",
       "      <td>216.96</td>\n",
       "      <td>2015-01-04</td>\n",
       "    </tr>\n",
       "    <tr>\n",
       "      <th>...</th>\n",
       "      <td>...</td>\n",
       "      <td>...</td>\n",
       "      <td>...</td>\n",
       "      <td>...</td>\n",
       "      <td>...</td>\n",
       "      <td>...</td>\n",
       "      <td>...</td>\n",
       "    </tr>\n",
       "    <tr>\n",
       "      <th>8574</th>\n",
       "      <td>1.36</td>\n",
       "      <td>142681.06</td>\n",
       "      <td>22467.04</td>\n",
       "      <td>1362.59</td>\n",
       "      <td>0</td>\n",
       "      <td>589.82</td>\n",
       "      <td>2018-03-25</td>\n",
       "    </tr>\n",
       "    <tr>\n",
       "      <th>9018</th>\n",
       "      <td>0.70</td>\n",
       "      <td>3999735.71</td>\n",
       "      <td>546409.74</td>\n",
       "      <td>69152.63</td>\n",
       "      <td>0</td>\n",
       "      <td>0.00</td>\n",
       "      <td>2018-03-25</td>\n",
       "    </tr>\n",
       "    <tr>\n",
       "      <th>18141</th>\n",
       "      <td>1.42</td>\n",
       "      <td>29253.30</td>\n",
       "      <td>20111.10</td>\n",
       "      <td>0.00</td>\n",
       "      <td>1</td>\n",
       "      <td>0.00</td>\n",
       "      <td>2018-03-25</td>\n",
       "    </tr>\n",
       "    <tr>\n",
       "      <th>17673</th>\n",
       "      <td>1.70</td>\n",
       "      <td>29644.09</td>\n",
       "      <td>207.08</td>\n",
       "      <td>0.00</td>\n",
       "      <td>1</td>\n",
       "      <td>403932.00</td>\n",
       "      <td>2018-03-25</td>\n",
       "    </tr>\n",
       "    <tr>\n",
       "      <th>8814</th>\n",
       "      <td>1.34</td>\n",
       "      <td>63905.98</td>\n",
       "      <td>23833.93</td>\n",
       "      <td>2905.61</td>\n",
       "      <td>0</td>\n",
       "      <td>122057.00</td>\n",
       "      <td>2018-03-25</td>\n",
       "    </tr>\n",
       "  </tbody>\n",
       "</table>\n",
       "<p>18249 rows × 7 columns</p>\n",
       "</div>"
      ],
      "text/plain": [
       "       AveragePrice        4046  Large Bags  XLarge Bags  type     Region  \\\n",
       "11569          1.75     9307.34      537.36         0.00     1       0.00   \n",
       "9593           1.49     1189.35        0.00         0.00     1     589.82   \n",
       "10009          1.68      161.68        0.00         0.00     1      86.58   \n",
       "1819           1.52     3013.04     3660.38         0.00     0     151.10   \n",
       "9333           1.64        1.27      187.68         0.00     1     216.96   \n",
       "...             ...         ...         ...          ...   ...        ...   \n",
       "8574           1.36   142681.06    22467.04      1362.59     0     589.82   \n",
       "9018           0.70  3999735.71   546409.74     69152.63     0       0.00   \n",
       "18141          1.42    29253.30    20111.10         0.00     1       0.00   \n",
       "17673          1.70    29644.09      207.08         0.00     1  403932.00   \n",
       "8814           1.34    63905.98    23833.93      2905.61     0  122057.00   \n",
       "\n",
       "        Datetime  \n",
       "11569 2015-01-04  \n",
       "9593  2015-01-04  \n",
       "10009 2015-01-04  \n",
       "1819  2015-01-04  \n",
       "9333  2015-01-04  \n",
       "...          ...  \n",
       "8574  2018-03-25  \n",
       "9018  2018-03-25  \n",
       "18141 2018-03-25  \n",
       "17673 2018-03-25  \n",
       "8814  2018-03-25  \n",
       "\n",
       "[18249 rows x 7 columns]"
      ]
     },
     "execution_count": 24,
     "metadata": {},
     "output_type": "execute_result"
    }
   ],
   "source": [
    "df"
   ]
  },
  {
   "cell_type": "code",
   "execution_count": null,
   "metadata": {},
   "outputs": [],
   "source": [
    "# miro ahora las dos columnas que son discretas y que he categorizado de manera numérica si sus valores están\n",
    "# medianamente equilibrados, esto nos interesa saberlo para posible tratamiento de los datos posteriores"
   ]
  },
  {
   "cell_type": "code",
   "execution_count": 25,
   "metadata": {},
   "outputs": [
    {
     "data": {
      "image/png": "[encoded data removed]",
      "text/plain": [
       "<Figure size 432x288 with 1 Axes>"
      ]
     },
     "metadata": {
      "needs_background": "light"
     },
     "output_type": "display_data"
    }
   ],
   "source": [
    "plt.title(\"Avg.Price of Avocado by type\")\n",
    "sns.barplot(data= df, y=\"AveragePrice\", x=\"type\")\n",
    "plt.ylabel(\"AveragePrice (€)\", size = 16)\n",
    "plt.xlabel(\"type\", size = 16)\n",
    "plt.title('type of avocado', size=20)\n",
    "plt.box(on=None)"
   ]
  },
  {
   "cell_type": "code",
   "execution_count": 26,
   "metadata": {},
   "outputs": [
    {
     "data": {
      "text/plain": [
       "0.000         3039\n",
       "936.000        338\n",
       "844.020        338\n",
       "367.750        338\n",
       "110.990        338\n",
       "293.180        338\n",
       "171.700        338\n",
       "2172.000       338\n",
       "345.060        338\n",
       "122057.000     338\n",
       "800.060        338\n",
       "115.200        338\n",
       "589.820        338\n",
       "570.080        338\n",
       "359.310        338\n",
       "369.300        338\n",
       "1929.500       338\n",
       "1305.400       338\n",
       "347.900        338\n",
       "338.000        338\n",
       "295.300        338\n",
       "261.500        338\n",
       "396.463        338\n",
       "115.970        338\n",
       "162362.000     338\n",
       "197.210        338\n",
       "86.580         338\n",
       "151.100        338\n",
       "216.960        338\n",
       "1214.900       338\n",
       "352.000        338\n",
       "350.480        338\n",
       "1779.000       338\n",
       "34.400         338\n",
       "159.850        338\n",
       "64.710         338\n",
       "257.000        338\n",
       "125.200        338\n",
       "795.800        338\n",
       "178.090        338\n",
       "21.800         338\n",
       "1552.920       338\n",
       "82931.000      338\n",
       "121.000        338\n",
       "326.500        338\n",
       "403932.000     338\n",
       "Name: Region, dtype: int64"
      ]
     },
     "execution_count": 26,
     "metadata": {},
     "output_type": "execute_result"
    }
   ],
   "source": [
    "df['Region'].value_counts()"
   ]
  },
  {
   "cell_type": "code",
   "execution_count": null,
   "metadata": {},
   "outputs": [],
   "source": [
    "# concluímos que estas dos columnas tienen los datos muy bien distribuidos, no siendo necesaria una técnica de ponderación"
   ]
  },
  {
   "cell_type": "code",
   "execution_count": null,
   "metadata": {},
   "outputs": [],
   "source": [
    "# de la matriz df que nos queda, se han estudiado los outliers y en una de las prácticas se han realizado todos los modelos sin ellos.\n",
    "# también se ha estudiado la 'normalidad' de cada columna con el índice de Shapiro, para saber si es conveniente ajustar los datos \n",
    "# de manera logarítmica, y mejorar la 'normalidad' para aplicar con mayor coherencia los modelos de machine learning.\n",
    "# En este notebook de resumen omito todos estos procesos. Indico únicamente que ni ajustando los datos logarítmicamente, ni eliminando\n",
    "# los outliers alcanzamos mejores métricas en los modelos de ML."
   ]
  },
  {
   "cell_type": "code",
   "execution_count": null,
   "metadata": {},
   "outputs": [],
   "source": [
    "#------------------------------------------#"
   ]
  },
  {
   "cell_type": "code",
   "execution_count": null,
   "metadata": {},
   "outputs": [],
   "source": [
    "# Pasamos al análisis de los modelos"
   ]
  },
  {
   "cell_type": "code",
   "execution_count": 28,
   "metadata": {},
   "outputs": [],
   "source": [
    "path_precision = os.path.join(\"data\", \"precision.csv\")\n",
    "precision = pd.read_csv(path_precision).drop('Unnamed: 0', axis=1)"
   ]
  },
  {
   "cell_type": "code",
   "execution_count": 29,
   "metadata": {},
   "outputs": [
    {
     "data": {
      "text/html": [
       "<div>\n",
       "<style scoped>\n",
       "    .dataframe tbody tr th:only-of-type {\n",
       "        vertical-align: middle;\n",
       "    }\n",
       "\n",
       "    .dataframe tbody tr th {\n",
       "        vertical-align: top;\n",
       "    }\n",
       "\n",
       "    .dataframe thead th {\n",
       "        text-align: right;\n",
       "    }\n",
       "</style>\n",
       "<table border=\"1\" class=\"dataframe\">\n",
       "  <thead>\n",
       "    <tr style=\"text-align: right;\">\n",
       "      <th></th>\n",
       "      <th>Model</th>\n",
       "      <th>R2 score</th>\n",
       "      <th>MAE</th>\n",
       "    </tr>\n",
       "  </thead>\n",
       "  <tbody>\n",
       "    <tr>\n",
       "      <th>0</th>\n",
       "      <td>KNeighborsRegressor</td>\n",
       "      <td>0.46</td>\n",
       "      <td>0.22</td>\n",
       "    </tr>\n",
       "    <tr>\n",
       "      <th>1</th>\n",
       "      <td>GradientBoostingRegressor</td>\n",
       "      <td>0.61</td>\n",
       "      <td>0.19</td>\n",
       "    </tr>\n",
       "    <tr>\n",
       "      <th>2</th>\n",
       "      <td>KNeighborsRegressor</td>\n",
       "      <td>0.46</td>\n",
       "      <td>0.22</td>\n",
       "    </tr>\n",
       "    <tr>\n",
       "      <th>3</th>\n",
       "      <td>ExtraTreesRegressor</td>\n",
       "      <td>0.64</td>\n",
       "      <td>0.18</td>\n",
       "    </tr>\n",
       "    <tr>\n",
       "      <th>4</th>\n",
       "      <td>RandomForestRegressor</td>\n",
       "      <td>0.71</td>\n",
       "      <td>0.16</td>\n",
       "    </tr>\n",
       "    <tr>\n",
       "      <th>5</th>\n",
       "      <td>DecisionTreeRegressor</td>\n",
       "      <td>0.46</td>\n",
       "      <td>0.21</td>\n",
       "    </tr>\n",
       "    <tr>\n",
       "      <th>6</th>\n",
       "      <td>LinearRegression</td>\n",
       "      <td>0.40</td>\n",
       "      <td>0.24</td>\n",
       "    </tr>\n",
       "    <tr>\n",
       "      <th>7</th>\n",
       "      <td>Lasso</td>\n",
       "      <td>-0.00</td>\n",
       "      <td>0.33</td>\n",
       "    </tr>\n",
       "    <tr>\n",
       "      <th>8</th>\n",
       "      <td>Ridge</td>\n",
       "      <td>0.40</td>\n",
       "      <td>0.24</td>\n",
       "    </tr>\n",
       "  </tbody>\n",
       "</table>\n",
       "</div>"
      ],
      "text/plain": [
       "                       Model  R2 score   MAE\n",
       "0        KNeighborsRegressor      0.46  0.22\n",
       "1  GradientBoostingRegressor      0.61  0.19\n",
       "2        KNeighborsRegressor      0.46  0.22\n",
       "3        ExtraTreesRegressor      0.64  0.18\n",
       "4      RandomForestRegressor      0.71  0.16\n",
       "5      DecisionTreeRegressor      0.46  0.21\n",
       "6           LinearRegression      0.40  0.24\n",
       "7                      Lasso     -0.00  0.33\n",
       "8                      Ridge      0.40  0.24"
      ]
     },
     "execution_count": 29,
     "metadata": {},
     "output_type": "execute_result"
    }
   ],
   "source": [
    "precision"
   ]
  },
  {
   "cell_type": "code",
   "execution_count": null,
   "metadata": {},
   "outputs": [],
   "source": [
    "# de todos estos modelos, el que mejor se comporta es el Random Forest, tiene el máximo score y el mínimo MAE.\n",
    "# por lo tanto se estudia de manera más profunda el Modelo de Random Fores, mediante un GridShare y de manera manual,\n",
    "# intentando mejorar esa precisión y variando los hiperparámetros, para evitar el 'sobre-ajuste', y en ninguno de los casos\n",
    "# se consigue una mejora substancial. "
   ]
  },
  {
   "cell_type": "code",
   "execution_count": null,
   "metadata": {},
   "outputs": [],
   "source": [
    "# Los hiperparámetros del modelo Random Forest Regressor son:\n",
    "# n_estimatorsint, default=100\n",
    "# criterion = squared_error\n",
    "# max_depthint, default=None\n",
    "# min_samples_splitint =2\n",
    "# min_samples_leafint =1\n",
    "# min_weight_fraction_leaffloat =0.0\n",
    "# max_features =1.0\n",
    "# bootstrapbool, default=True\n",
    "# min_impurity_decreasefloat, default=0.0\n",
    "# max_leaf_nodesint, default=None\n",
    "# random_stateint = 7"
   ]
  },
  {
   "cell_type": "code",
   "execution_count": 31,
   "metadata": {},
   "outputs": [],
   "source": [
    "# Tambien es importante comentar que se ha realizado un ajuste de tipo TimeSeries, concretamente el modelo Arima,\n"
   ]
  },
  {
   "cell_type": "code",
   "execution_count": 33,
   "metadata": {},
   "outputs": [
    {
     "data": {
      "image/png": "[encoded data removed]",
      "text/plain": [
       "<PIL.PngImagePlugin.PngImageFile image mode=RGBA size=372x274>"
      ]
     },
     "metadata": {},
     "output_type": "display_data"
    }
   ],
   "source": [
    "import IPython.display as display\n",
    "from PIL import Image\n",
    "display.display(Image.open('timeseries.png'))"
   ]
  },
  {
   "cell_type": "code",
   "execution_count": null,
   "metadata": {},
   "outputs": [],
   "source": [
    "# aquí podemos ver que la gráfica no tiene tendencia ( comprobado por el índice de adfuller), tampoco posee seasonality,\n",
    "# como se analiza en el notebook dedicado a tal análisis.\n",
    "# los resultados obtenidos son de mayor error y de menor precision que en el caso del Random Forest"
   ]
  },
  {
   "cell_type": "code",
   "execution_count": null,
   "metadata": {},
   "outputs": [],
   "source": [
    "# Con un score negativo no es un modelo útil para cualquier prediccion en el tiempo"
   ]
  }
 ],
 "metadata": {
  "kernelspec": {
   "display_name": "Python 3.7.4 64-bit",
   "language": "python",
   "name": "python3"
  },
  "language_info": {
   "codemirror_mode": {
    "name": "ipython",
    "version": 3
   },
   "file_extension": ".py",
   "mimetype": "text/x-python",
   "name": "python",
   "nbconvert_exporter": "python",
   "pygments_lexer": "ipython3",
   "version": "3.7.4"
  },
  "orig_nbformat": 4,
  "vscode": {
   "interpreter": {
    "hash": "70b38634f151bc788305d78fa55f4f5eb67f51bd92b5405d2063f303c7241f5d"
   }
  }
 },
 "nbformat": 4,
 "nbformat_minor": 2
}
